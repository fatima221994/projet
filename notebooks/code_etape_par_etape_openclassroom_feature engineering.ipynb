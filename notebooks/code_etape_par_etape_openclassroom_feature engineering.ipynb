{
 "cells": [
  {
   "cell_type": "code",
   "execution_count": 40,
   "metadata": {},
   "outputs": [],
   "source": [
    "import mlflow\n",
    "\n",
    "mlflow.set_tracking_uri(uri=\"http://localhost:5000\")"
   ]
  },
  {
   "cell_type": "code",
   "execution_count": 41,
   "metadata": {},
   "outputs": [],
   "source": [
    "# Importation des bibliothèques nécessaires\n",
    "import pandas as pd\n",
    "import numpy as np\n",
    "import seaborn as sns\n",
    "import matplotlib.pyplot as plt\n",
    "from sklearn.model_selection import train_test_split, StratifiedKFold, GridSearchCV\n",
    "from sklearn.impute import SimpleImputer\n",
    "from sklearn.preprocessing import StandardScaler, OneHotEncoder\n",
    "from sklearn.ensemble import RandomForestClassifier\n",
    "from sklearn.linear_model import LogisticRegression\n",
    "from sklearn.metrics import accuracy_score, roc_auc_score, classification_report, make_scorer, confusion_matrix\n",
    "from category_encoders import TargetEncoder\n",
    "from imblearn.pipeline import Pipeline as ImbPipeline\n",
    "from imblearn.over_sampling import SMOTE\n",
    "import xgboost as xgb\n",
    "import joblib\n",
    "\n",
    "\n",
    "\n"
   ]
  },
  {
   "cell_type": "code",
   "execution_count": 42,
   "metadata": {},
   "outputs": [],
   "source": [
    "# Chargement des données\n",
    "data = pd.read_csv('/home/machou/openclassroom/mlflow_project/data/data_preprocessed_train.csv')\n",
    "\n",
    "# Vérifier la présence de la colonne TARGET\n",
    "if 'TARGET' not in data.columns:\n",
    "    raise ValueError(\"La colonne 'TARGET' n'est pas présente dans les données.\")\n",
    "\n",
    "# Séparation des caractéristiques (X) et de la cible (y)\n",
    "X = data.drop(columns=['TARGET'])  # Caractéristiques\n",
    "y = data['TARGET']  # Cible\n",
    "\n"
   ]
  },
  {
   "cell_type": "code",
   "execution_count": 43,
   "metadata": {},
   "outputs": [
    {
     "name": "stdout",
     "output_type": "stream",
     "text": [
      "Corrélations avec la cible (TARGET) :\n",
      "TARGET                         1.000000\n",
      "BUREAU_DAYS_CREDIT_MEAN        0.089729\n",
      "DAYS_BIRTH                     0.078239\n",
      "BUREAU_DAYS_CREDIT_MIN         0.075248\n",
      "REGION_RATING_CLIENT_W_CITY    0.060893\n",
      "                                 ...   \n",
      "FLOORSMAX_AVG                 -0.044003\n",
      "DAYS_EMPLOYED                 -0.044932\n",
      "EXT_SOURCE_1                  -0.155317\n",
      "EXT_SOURCE_2                  -0.160472\n",
      "EXT_SOURCE_3                  -0.178919\n",
      "Name: TARGET, Length: 128, dtype: float64\n"
     ]
    }
   ],
   "source": [
    "\n",
    "\n",
    "# Calcul de la matrice de corrélation\n",
    "correlation_matrix = data.corr()\n",
    "\n",
    "# Affichage de la matrice de corrélation sous forme de heatmap\n",
    "#plt.figure(figsize=(12, 8))\n",
    "#sns.heatmap(correlation_matrix, annot=True, cmap='coolwarm', fmt='.2f', linewidths=0.5)\n",
    "#plt.title('Matrice de Corrélation entre les Variables')\n",
    "#plt.show()\n",
    "\n",
    "# Affichage des corrélations avec la cible\n",
    "target_corr = correlation_matrix['TARGET'].sort_values(ascending=False)\n",
    "print(\"Corrélations avec la cible (TARGET) :\")\n",
    "print(target_corr)\n",
    "\n"
   ]
  },
  {
   "cell_type": "markdown",
   "metadata": {},
   "source": [
    "Interprétation des résultats :\n",
    "\n",
    "    Corrélation de la cible avec elle-même :\n",
    "        La variable cible (TARGET) a une corrélation de 1.0 avec elle-même, ce qui est normal et attendu, car une variable est toujours parfaitement corrélée avec elle-même.\n",
    "\n",
    "    Corrélations faibles avec les autres variables :\n",
    "        Les autres variables, telles que OCCUPATION_TYPE, DAYS_BIRTH, ORGANIZATION_TYPE, et les autres, ont toutes des corrélations faibles avec la cible (par exemple, des valeurs autour de 0.08, -0.04, etc.), ce qui signifie qu'il n'y a pas de relation évidente entre ces variables et la cible.\n",
    "        Ces faibles corrélations indiquent que les variables d'entrée ne contiennent pas de fuite directe d'informations sur la cible.\n",
    "\n",
    "    Aucune variable n'est fortement corrélée :\n",
    "        Aucune variable n'a une corrélation élevée (supérieure à 0.8 ou inférieure à -0.8) avec la cible. Cela signifie qu'il n'y a pas de problème évident de data leakage, car aucune variable n'est directement liée à la variable cible de manière à ce que le modèle puisse \"voir\" la réponse pendant l'apprentissage.\n",
    "\n",
    "Conclusion :\n",
    "\n",
    "Il semble que vos données soient propres en termes de data leakage"
   ]
  },
  {
   "cell_type": "markdown",
   "metadata": {},
   "source": [
    "Ancienneté de l'emploi"
   ]
  },
  {
   "cell_type": "markdown",
   "metadata": {},
   "source": [
    "Âge de l'emprunteur : Si vous avez une colonne de dates de naissance (DAYS_BIRTH), vous pouvez la transformer en âge en années.\n"
   ]
  },
  {
   "cell_type": "markdown",
   "metadata": {},
   "source": [
    "Interaction entre le revenu et le crédit : L'inclusion d'une variable qui indique l'interaction entre le revenu annuel et le montant du crédit peut capturer des informations supplémentaires sur la capacité de remboursement.\n",
    "\n"
   ]
  },
  {
   "cell_type": "markdown",
   "metadata": {},
   "source": [
    "### Création de nouvelles variables"
   ]
  },
  {
   "cell_type": "code",
   "execution_count": 51,
   "metadata": {},
   "outputs": [],
   "source": [
    "\n",
    "#Interaction entre le revenu et le crédit : L'inclusion d'une variable qui indique l'interaction entre \n",
    "#le revenu annuel et le montant du crédit peut capturer des informations supplémentaires sur la capacité de remboursement.\n",
    "X['income_credit_ratio'] = X['AMT_INCOME_TOTAL'] / X['AMT_CREDIT']\n",
    "#X_test['income_credit_ratio'] = X_test['AMT_INCOME_TOTAL'] / X_test['AMT_CREDIT']\n",
    "\n",
    "X['age'] = -X['DAYS_BIRTH'] / 365\n",
    "#X_test['age'] = -X_test['DAYS_BIRTH'] / 365\n",
    "\n",
    "X['years_employed'] = -X['DAYS_EMPLOYED'] / 365\n",
    "#X_test['years_employed'] = -X_test['DAYS_EMPLOYED'] / 365\n",
    "\n",
    "X['log_AMT_INCOME_TOTAL'] = np.log1p(X['AMT_INCOME_TOTAL'])\n",
    "#X_test['log_AMT_INCOME_TOTAL'] = np.log1p(X_test['AMT_INCOME_TOTAL'])\n"
   ]
  },
  {
   "cell_type": "markdown",
   "metadata": {},
   "source": [
    "Interaction entre l'annuité et le revenu : Cela peut aider à identifier des relations entre la capacité de remboursement et la mensualité du prêt.\n",
    "\n"
   ]
  },
  {
   "cell_type": "code",
   "execution_count": 52,
   "metadata": {},
   "outputs": [],
   "source": [
    "#Interaction entre l'annuité et le revenu : Cela peut aider à identifier des relations entre la capacité de remboursement et la mensualité du prêt.\n",
    "\n",
    "X['annuity_income_ratio'] = X['AMT_ANNUITY'] / X['AMT_INCOME_TOTAL']\n",
    "#X_test['annuity_income_ratio'] = X_test['AMT_ANNUITY'] / X_test['AMT_INCOME_TOTAL']\n",
    "\n"
   ]
  },
  {
   "cell_type": "markdown",
   "metadata": {},
   "source": [
    " les variables comme le revenu ou le crédit suivent une distribution asymétrique, une transformation logarithmique peut rendre leur distribution plus normale et améliorer la performance des modèles.\n"
   ]
  },
  {
   "cell_type": "code",
   "execution_count": 53,
   "metadata": {},
   "outputs": [],
   "source": [
    "# les variables comme le revenu ou le crédit suivent une distribution asymétrique,\n",
    "#une transformation logarithmique peut rendre leur distribution plus normale et améliorer la performance des modèles.\n",
    "X['log_AMT_INCOME_TOTAL'] = np.log1p(X['AMT_INCOME_TOTAL'])\n",
    "#X_test['log_AMT_INCOME_TOTAL'] = np.log1p(X_test['AMT_INCOME_TOTAL'])\n",
    "\n",
    "\n",
    "X['log_AMT_CREDIT'] = np.log1p(X['AMT_CREDIT'])\n",
    "#X_test['log_AMT_CREDIT'] = np.log1p(X_test['AMT_CREDIT'])"
   ]
  },
  {
   "cell_type": "code",
   "execution_count": 54,
   "metadata": {},
   "outputs": [],
   "source": [
    " ##Moins de jours de travail : Cette variable peut indiquer si l'emprunteur a eu une interruption dans son emploi.\n",
    "\n",
    "X['is_employed'] = X['DAYS_EMPLOYED'].apply(lambda x: 1 if x > 0 else 0)\n",
    "#X_test['is_employed'] = X_test['DAYS_EMPLOYED'].apply(lambda x: 1 if x > 0 else 0)\n"
   ]
  },
  {
   "cell_type": "code",
   "execution_count": 55,
   "metadata": {},
   "outputs": [],
   "source": [
    "#Risque d'endettement :Vous pourriez créer une variable qui mesure le rapport entre le montant du crédit et le revenu, ce qui pourrait donner une idée de l'endettement relatif.\n",
    "X['credit_income_ratio'] = X['AMT_CREDIT'] / X['AMT_INCOME_TOTAL']\n",
    "#X_test['credit_income_ratio'] = X_test['AMT_CREDIT'] / X_test['AMT_INCOME_TOTAL']\n"
   ]
  },
  {
   "cell_type": "code",
   "execution_count": 56,
   "metadata": {},
   "outputs": [],
   "source": [
    "#Taux d’endettement total : Par exemple, le ratio entre l'annuité et le revenu peut indiquer si l’emprunteur a un taux d’endettement élevé.\n",
    "X['debt_to_income_ratio'] = X['AMT_ANNUITY'] / X['AMT_INCOME_TOTAL']\n",
    "#X_test['debt_to_income_ratio'] = X_test['AMT_ANNUITY'] / X_test['AMT_INCOME_TOTAL']\n"
   ]
  },
  {
   "cell_type": "code",
   "execution_count": 57,
   "metadata": {},
   "outputs": [
    {
     "name": "stdout",
     "output_type": "stream",
     "text": [
      "Shapes after split:\n",
      "X_train: (246008, 152), X_test: (61503, 152), y_train: (246008,), y_test: (61503,)\n"
     ]
    }
   ],
   "source": [
    "# Séparer en ensembles d'entraînement et de test\n",
    "X_train, X_test, y_train, y_test = train_test_split(X, y, test_size=0.2, random_state=42, stratify=y)\n",
    "\n",
    "# Vérification des dimensions après séparation\n",
    "print(f\"Shapes after split:\\nX_train: {X_train.shape}, X_test: {X_test.shape}, y_train: {y_train.shape}, y_test: {y_test.shape}\")\n",
    "\n"
   ]
  },
  {
   "cell_type": "code",
   "execution_count": 25,
   "metadata": {},
   "outputs": [],
   "source": [
    "# Enregistrer X_train et X_test en format CSV\n",
    "X_train.to_csv('/home/machou/openclassroom/projet/api/data/X_train.csv', index=False)\n",
    "X_test.to_csv('/home/machou/openclassroom/projet/api/data/X_test.csv', index=False)\n",
    "\n",
    "# Enregistrer y_train et y_test en CSV (si nécessaire)\n",
    "y_train.to_csv('/home/machou/openclassroom/projet/api/data/y_train.csv', index=False)\n",
    "y_test.to_csv('/home/machou/openclassroom/projet/api/data/y_test.csv', index=False)\n"
   ]
  },
  {
   "cell_type": "code",
   "execution_count": 58,
   "metadata": {},
   "outputs": [
    {
     "name": "stdout",
     "output_type": "stream",
     "text": [
      "       AMT_INCOME_TOTAL    AMT_CREDIT\n",
      "count      2.460080e+05  2.460080e+05\n",
      "mean       1.688532e+05  5.993382e+05\n",
      "std        2.589606e+05  4.027258e+05\n",
      "min        2.565000e+04  4.500000e+04\n",
      "25%        1.125000e+05  2.700000e+05\n",
      "50%        1.476000e+05  5.147775e+05\n",
      "75%        2.025000e+05  8.086500e+05\n",
      "max        1.170000e+08  4.050000e+06\n",
      "       log_AMT_INCOME_TOTAL  log_AMT_CREDIT\n",
      "count         246008.000000   246008.000000\n",
      "mean              11.909211       13.070525\n",
      "std                0.488580        0.715370\n",
      "min               10.152338       10.714440\n",
      "25%               11.630717       12.506181\n",
      "50%               11.902268       13.151492\n",
      "75%               12.218500       13.603123\n",
      "max               18.577685       15.214228\n"
     ]
    }
   ],
   "source": [
    "# Vérifier les valeurs avant la transformation\n",
    "print(X_train[['AMT_INCOME_TOTAL', 'AMT_CREDIT']].describe())\n",
    "\n",
    "# Appliquer la transformation logarithmique\n",
    "X_train['log_AMT_INCOME_TOTAL'] = np.log1p(X_train['AMT_INCOME_TOTAL'])\n",
    "X_train['log_AMT_CREDIT'] = np.log1p(X_train['AMT_CREDIT'])\n",
    "\n",
    "# Vérifier les nouvelles valeurs après transformation\n",
    "print(X_train[['log_AMT_INCOME_TOTAL', 'log_AMT_CREDIT']].describe())\n"
   ]
  },
  {
   "cell_type": "code",
   "execution_count": 27,
   "metadata": {},
   "outputs": [
    {
     "name": "stdout",
     "output_type": "stream",
     "text": [
      "log_AMT_INCOME_TOTAL    0\n",
      "log_AMT_CREDIT          0\n",
      "dtype: int64\n",
      "log_AMT_INCOME_TOTAL    0\n",
      "log_AMT_CREDIT          0\n",
      "dtype: int64\n"
     ]
    }
   ],
   "source": [
    "# Vérification de la présence de NaN ou d'infinis\n",
    "print(X_train[['log_AMT_INCOME_TOTAL', 'log_AMT_CREDIT']].isnull().sum())\n",
    "print((X_train[['log_AMT_INCOME_TOTAL', 'log_AMT_CREDIT']] == float('inf')).sum())\n"
   ]
  },
  {
   "cell_type": "code",
   "execution_count": 14,
   "metadata": {},
   "outputs": [
    {
     "name": "stdout",
     "output_type": "stream",
     "text": [
      "Shapes after split:\n",
      "X_train: (246008, 152)\n",
      "X_test: (61503, 152)\n",
      "y_train: (246008,)\n",
      "y_test: (61503,)\n"
     ]
    }
   ],
   "source": [
    "# Séparer en ensembles d'entraînement et de test\n",
    "#X_train, X_test, y_train, y_test = train_test_split(X, y, test_size=0.2, random_state=42, stratify=y)\n",
    "\n",
    "print(\"Shapes after split:\")\n",
    "print(\"X_train:\", X_train.shape)\n",
    "print(\"X_test:\", X_test.shape)\n",
    "print(\"y_train:\", y_train.shape)\n",
    "print(\"y_test:\", y_test.shape)\n"
   ]
  },
  {
   "cell_type": "code",
   "execution_count": 53,
   "metadata": {},
   "outputs": [
    {
     "name": "stdout",
     "output_type": "stream",
     "text": [
      "Colonnes après encodage dans X_train :  Index(['SK_ID_CURR', 'NAME_CONTRACT_TYPE', 'CODE_GENDER', 'FLAG_OWN_CAR',\n",
      "       'FLAG_OWN_REALTY', 'CNT_CHILDREN', 'AMT_INCOME_TOTAL', 'AMT_CREDIT',\n",
      "       'AMT_ANNUITY', 'AMT_GOODS_PRICE',\n",
      "       ...\n",
      "       'INSTALLMENTS_NUM_INSTALMENT_NUMBER', 'income_credit_ratio', 'age',\n",
      "       'years_employed', 'log_AMT_INCOME_TOTAL', 'annuity_income_ratio',\n",
      "       'log_AMT_CREDIT', 'is_employed', 'credit_income_ratio',\n",
      "       'debt_to_income_ratio'],\n",
      "      dtype='object', length=152)\n",
      "Colonnes après encodage dans X_test :  Index(['SK_ID_CURR', 'NAME_CONTRACT_TYPE', 'CODE_GENDER', 'FLAG_OWN_CAR',\n",
      "       'FLAG_OWN_REALTY', 'CNT_CHILDREN', 'AMT_INCOME_TOTAL', 'AMT_CREDIT',\n",
      "       'AMT_ANNUITY', 'AMT_GOODS_PRICE',\n",
      "       ...\n",
      "       'INSTALLMENTS_NUM_INSTALMENT_NUMBER', 'income_credit_ratio', 'age',\n",
      "       'years_employed', 'log_AMT_INCOME_TOTAL', 'annuity_income_ratio',\n",
      "       'log_AMT_CREDIT', 'is_employed', 'credit_income_ratio',\n",
      "       'debt_to_income_ratio'],\n",
      "      dtype='object', length=152)\n"
     ]
    }
   ],
   "source": [
    "# Vérification des colonnes après encodage\n",
    "print(\"Colonnes après encodage dans X_train : \", X_train.columns)\n",
    "print(\"Colonnes après encodage dans X_test : \", X_test.columns)\n"
   ]
  },
  {
   "cell_type": "code",
   "execution_count": 101,
   "metadata": {},
   "outputs": [
    {
     "name": "stderr",
     "output_type": "stream",
     "text": [
      "`sparse` was renamed to `sparse_output` in version 1.2 and will be removed in 1.4. `sparse_output` is ignored unless you leave `sparse` to its default value.\n"
     ]
    },
    {
     "name": "stdout",
     "output_type": "stream",
     "text": [
      "X_train_final: (172205, 152), y_train_final: (172205,)\n",
      "X_val: (43052, 152), y_val: (43052,)\n"
     ]
    },
    {
     "data": {
      "text/plain": [
       "['/home/machou/openclassroom/mlflow_project/models/preprocessor.pkl']"
      ]
     },
     "execution_count": 101,
     "metadata": {},
     "output_type": "execute_result"
    }
   ],
   "source": [
    "from sklearn.pipeline import Pipeline\n",
    "from sklearn.compose import ColumnTransformer\n",
    "from sklearn.impute import SimpleImputer\n",
    "from sklearn.preprocessing import StandardScaler, OneHotEncoder\n",
    "from category_encoders import TargetEncoder\n",
    "import pandas as pd\n",
    "from sklearn.model_selection import train_test_split\n",
    "\n",
    "\n",
    "# Sélection des colonnes catégorielles et numériques\n",
    "categorical_columns = X_train.select_dtypes(include=['object']).columns\n",
    "numerical_columns = X_train.select_dtypes(exclude=['object']).columns\n",
    "\n",
    "# Prétraitement des colonnes numériques\n",
    "numerical_transformer = Pipeline(steps=[\n",
    "    ('imputer', SimpleImputer(strategy='mean')),  # Imputation des NaN avec la moyenne\n",
    "    ('scaler', StandardScaler())  # Normalisation\n",
    "])\n",
    "\n",
    "# Séparation des colonnes catégorielles en fonction du nombre de catégories\n",
    "low_cardinality_cols = [col for col in categorical_columns if X_train[col].nunique() < 10]\n",
    "high_cardinality_cols = [col for col in categorical_columns if X_train[col].nunique() >= 10]\n",
    "\n",
    "# Prétraitement pour colonnes catégorielles à faible cardinalité (OneHotEncoding)\n",
    "low_cardinality_transformer = Pipeline(steps=[\n",
    "    ('imputer', SimpleImputer(strategy='most_frequent')),  # Imputation avec la valeur la plus fréquente\n",
    "    ('onehot', OneHotEncoder(handle_unknown='ignore', sparse=False))  # Encodage OneHot\n",
    "])\n",
    "\n",
    "# Prétraitement pour colonnes catégorielles à forte cardinalité (TargetEncoding)+9666696.\n",
    "high_cardinality_transformer = Pipeline(steps=[\n",
    "    ('imputer', SimpleImputer(strategy='most_frequent')),  # Imputation avec la valeur la plus fréquente\n",
    "    ('target', TargetEncoder())  # Encodage TargetEncoder\n",
    "])\n",
    "\n",
    "# Création du transformateur pour colonnes catégoriques\n",
    "categorical_transformer = ColumnTransformer(transformers=[\n",
    "    ('low_cardinality', low_cardinality_transformer, low_cardinality_cols),\n",
    "    ('high_cardinality', high_cardinality_transformer, high_cardinality_cols)\n",
    "])\n",
    "\n",
    "# Création du préprocesseur global\n",
    "preprocessor = ColumnTransformer(\n",
    "    transformers=[\n",
    "        ('num', numerical_transformer, numerical_columns),  # Transformations pour colonnes numériques\n",
    "        ('cat', categorical_transformer, categorical_columns)  # Transformations pour colonnes catégoriques\n",
    "    ]\n",
    ")\n",
    "\n",
    "# Ajustement des transformations sur l'ensemble d'entraînement\n",
    "preprocessor.fit(X_train, y_train)\n",
    "\n",
    "#\n",
    "# Division des données transformées en ensemble d'entraînement et validation\n",
    "X_train_final, X_val, y_train_final, y_val = train_test_split(\n",
    "    X_train, y_train, test_size=0.2, random_state=42, stratify=y_train\n",
    ")\n",
    "\n",
    "# Affichage des formes pour vérifier la division\n",
    "print(f\"X_train_final: {X_train_final.shape}, y_train_final: {y_train_final.shape}\")\n",
    "print(f\"X_val: {X_val.shape}, y_val: {y_val.shape}\")\n",
    "joblib.dump(preprocessor, '/home/machou/openclassroom/mlflow_project/models/preprocessor.pkl')"
   ]
  },
  {
   "cell_type": "markdown",
   "metadata": {},
   "source": [
    "### Test de modele lineaire et non lineaire"
   ]
  },
  {
   "cell_type": "code",
   "execution_count": 29,
   "metadata": {},
   "outputs": [
    {
     "name": "stderr",
     "output_type": "stream",
     "text": [
      "/home/machou/.local/lib/python3.8/site-packages/sklearn/preprocessing/_encoders.py:975: FutureWarning: `sparse` was renamed to `sparse_output` in version 1.2 and will be removed in 1.4. `sparse_output` is ignored unless you leave `sparse` to its default value.\n",
      "  warnings.warn(\n",
      "/home/machou/.local/lib/python3.8/site-packages/sklearn/preprocessing/_encoders.py:975: FutureWarning: `sparse` was renamed to `sparse_output` in version 1.2 and will be removed in 1.4. `sparse_output` is ignored unless you leave `sparse` to its default value.\n",
      "  warnings.warn(\n"
     ]
    },
    {
     "name": "stdout",
     "output_type": "stream",
     "text": [
      "R² pour le modèle linéaire (Linear Regression) : -0.0949\n",
      "RMSE pour le modèle linéaire (Linear Regression) : 0.2851\n",
      "AUC pour le modèle linéaire (Logistic Regression) : 0.7550\n",
      "AUC pour le modèle non-linéaire (Random Forest) : 0.7177\n",
      "\n",
      "Rapport de classification pour le modèle linéaire (Logistic Regression) :\n",
      "              precision    recall  f1-score   support\n",
      "\n",
      "           0       0.92      1.00      0.96     45230\n",
      "           1       0.40      0.01      0.03      3972\n",
      "\n",
      "    accuracy                           0.92     49202\n",
      "   macro avg       0.66      0.51      0.49     49202\n",
      "weighted avg       0.88      0.92      0.88     49202\n",
      "\n",
      "\n",
      "Rapport de classification pour le modèle non-linéaire (Random Forest) :\n",
      "              precision    recall  f1-score   support\n",
      "\n",
      "           0       0.92      1.00      0.96     45230\n",
      "           1       0.75      0.00      0.00      3972\n",
      "\n",
      "    accuracy                           0.92     49202\n",
      "   macro avg       0.83      0.50      0.48     49202\n",
      "weighted avg       0.91      0.92      0.88     49202\n",
      "\n"
     ]
    }
   ],
   "source": [
    "from sklearn.linear_model import LogisticRegression\n",
    "from sklearn.ensemble import RandomForestClassifier\n",
    "from sklearn.model_selection import GridSearchCV\n",
    "from sklearn.metrics import r2_score, mean_squared_error\n",
    "import numpy as np\n",
    "from sklearn.linear_model import LinearRegression\n",
    "from sklearn.metrics import roc_auc_score, classification_report\n",
    "from sklearn.pipeline import Pipeline\n",
    "\n",
    "\n",
    "# 1. Modèle Linéaire : Logistic Regression\n",
    "linear_model = Pipeline(steps=[\n",
    "    ('preprocessor', preprocessor),  # Applique le prétraitement\n",
    "    ('classifier', LogisticRegression(solver='liblinear', random_state=42))  # Logistic Regression\n",
    "])\n",
    "\n",
    "# 2. Modèle Non Linéaire : Random Forest\n",
    "non_linear_model = Pipeline(steps=[\n",
    "    ('preprocessor', preprocessor),  # Applique le prétraitement\n",
    "    ('classifier', RandomForestClassifier(random_state=42))  # Random Forest\n",
    "])\n",
    "\n",
    "# 3. Ajustement des modèles\n",
    "\n",
    "# Logistic Regression\n",
    "linear_model.fit(X_train_final, y_train_final)\n",
    "\n",
    "# Random Forest\n",
    "non_linear_model.fit(X_train_final, y_train_final)\n",
    "\n",
    "# 4. Évaluation des modèles\n",
    "\n",
    "# Prédictions sur le jeu de validation\n",
    "y_pred_lin = linear_model.predict(X_val)\n",
    "y_pred_non_lin = non_linear_model.predict(X_val)\n",
    "\n",
    "\n",
    "# 4. Calcul des métriques R² et RMSE\n",
    "r2 = r2_score(y_val, y_pred_lin)\n",
    "rmse = np.sqrt(mean_squared_error(y_val, y_pred_lin))\n",
    "\n",
    "# 5. Affichage des résultats\n",
    "print(f\"R² pour le modèle linéaire (Linear Regression) : {r2:.4f}\")\n",
    "print(f\"RMSE pour le modèle linéaire (Linear Regression) : {rmse:.4f}\")\n",
    "\n",
    "# Calcul AUC sur le jeu de validation\n",
    "y_pred_proba_lin = linear_model.predict_proba(X_val)[:, 1]\n",
    "y_pred_proba_non_lin = non_linear_model.predict_proba(X_val)[:, 1]\n",
    "\n",
    "auc_lin = roc_auc_score(y_val, y_pred_proba_lin)\n",
    "auc_non_lin = roc_auc_score(y_val, y_pred_proba_non_lin)\n",
    "\n",
    "print(f\"AUC pour le modèle linéaire (Logistic Regression) : {auc_lin:.4f}\")\n",
    "print(f\"AUC pour le modèle non-linéaire (Random Forest) : {auc_non_lin:.4f}\")\n",
    "\n",
    "# 5. Rapport de classification pour le modèle non linéaire et linéaire\n",
    "print(\"\\nRapport de classification pour le modèle linéaire (Logistic Regression) :\")\n",
    "print(classification_report(y_val, y_pred_lin))\n",
    "\n",
    "print(\"\\nRapport de classification pour le modèle non-linéaire (Random Forest) :\")\n",
    "print(classification_report(y_val, y_pred_non_lin))\n",
    "\n"
   ]
  },
  {
   "cell_type": "code",
   "execution_count": 48,
   "metadata": {},
   "outputs": [
    {
     "name": "stderr",
     "output_type": "stream",
     "text": [
      "2024/11/26 18:54:29 WARNING mlflow.models.model: Model logged without a signature and input example. Please set `input_example` parameter when logging the model to auto infer the model signature.\n",
      "2024/11/26 18:54:29 INFO mlflow.tracking._tracking_service.client: 🏃 View run nebulous-ant-906 at: http://localhost:5000/#/experiments/0/runs/6f19a3840c4b4463b0bfbd9846822ebd.\n",
      "2024/11/26 18:54:29 INFO mlflow.tracking._tracking_service.client: 🧪 View experiment at: http://localhost:5000/#/experiments/0.\n",
      "2024/11/26 18:54:31 WARNING mlflow.models.model: Model logged without a signature and input example. Please set `input_example` parameter when logging the model to auto infer the model signature.\n",
      "2024/11/26 18:54:32 INFO mlflow.tracking._tracking_service.client: 🏃 View run amazing-skink-993 at: http://localhost:5000/#/experiments/0/runs/d8115e56e8fe4c0b88a360e8f3b6126b.\n",
      "2024/11/26 18:54:32 INFO mlflow.tracking._tracking_service.client: 🧪 View experiment at: http://localhost:5000/#/experiments/0.\n"
     ]
    }
   ],
   "source": [
    "# --- Enregistrement des modèles dans MLflow ---\n",
    "\n",
    "# Enregistrer le modèle linéaire (Logistic Regression) avec ses paramètres\n",
    "with mlflow.start_run() as run:\n",
    "    # Hyperparamètres du modèle linéaire\n",
    "    linear_params = {\n",
    "        'solver': 'liblinear',\n",
    "        'random_state': 42\n",
    "    }\n",
    "    \n",
    "    # Log des paramètres du modèle linéaire\n",
    "    for param, value in linear_params.items():\n",
    "        mlflow.log_param(param, value)\n",
    "    \n",
    "    # Log du modèle linéaire\n",
    "    mlflow.sklearn.log_model(linear_model, \"logistic_regression_model\")\n",
    "    \n",
    "    # Log des métriques pour le modèle linéaire\n",
    "    mlflow.log_metric(\"r2\", r2)\n",
    "    mlflow.log_metric(\"rmse\", rmse)\n",
    "    mlflow.log_metric(\"auc\", auc_lin)\n",
    "\n",
    "# Enregistrer le modèle non-linéaire (Random Forest) avec ses paramètres\n",
    "with mlflow.start_run() as run:\n",
    "    # Hyperparamètres du modèle non-linéaire\n",
    "    rf_params = {\n",
    "        'random_state': 42\n",
    "    }\n",
    "    \n",
    "    # Log des paramètres du modèle Random Forest\n",
    "    for param, value in rf_params.items():\n",
    "        mlflow.log_param(param, value)\n",
    "    \n",
    "    # Log du modèle Random Forest\n",
    "    mlflow.sklearn.log_model(non_linear_model, \"random_forest_model\")\n",
    "    \n",
    "    # Log des métriques pour le modèle Random Forest\n",
    "    mlflow.log_metric(\"auc\", auc_non_lin)"
   ]
  },
  {
   "cell_type": "markdown",
   "metadata": {},
   "source": [
    " avec 1 représentant un crédit non remboursé et 0 représentant un crédit remboursé, le RMSE (Root Mean Squared Error) n'est pas la métrique la plus appropriée pour évaluer la performance du modèle, car elle est plus utilisée pour les problèmes de régression où la cible est continue"
   ]
  },
  {
   "cell_type": "code",
   "execution_count": 28,
   "metadata": {},
   "outputs": [
    {
     "name": "stdout",
     "output_type": "stream",
     "text": [
      "Les modèles ont été enregistrés avec succès !\n"
     ]
    }
   ],
   "source": [
    "import joblib\n",
    "from sklearn.pipeline import Pipeline\n",
    "\n",
    "# Enregistrer le modèle de régression logistique\n",
    "joblib.dump(linear_model, '/home/machou/openclassroom/mlflow_project/models/logistic_regression_model.pkl')\n",
    "\n",
    "# Enregistrer le modèle Random Forest\n",
    "joblib.dump(non_linear_model,  '/home/machou/openclassroom/mlflow_project/models/random_forest_model.pkl')\n",
    "\n",
    "print(\"Les modèles ont été enregistrés avec succès !\")\n",
    "\n"
   ]
  },
  {
   "cell_type": "markdown",
   "metadata": {},
   "source": [
    "### Exemple d'implémentation  avec DummyClassifier"
   ]
  },
  {
   "cell_type": "code",
   "execution_count": 112,
   "metadata": {},
   "outputs": [
    {
     "name": "stdout",
     "output_type": "stream",
     "text": [
      "DummyClassifier Results:\n",
      "Accuracy: 0.9191\n",
      "F1-Score: 0.0000\n",
      "ROC AUC: 0.5000\n",
      "Le DummyClassifier a été enregistré avec succès.\n"
     ]
    }
   ],
   "source": [
    "from sklearn.dummy import DummyClassifier\n",
    "import joblib\n",
    "from sklearn.metrics import precision_score, recall_score, roc_auc_score, accuracy_score, f1_score\n",
    "\n",
    "# Créer un DummyClassifier avec la stratégie 'most_frequent' (prédire la classe la plus fréquente)\n",
    "dummy_model = DummyClassifier(strategy='most_frequent', random_state=42)\n",
    "\n",
    "# Entraîner le DummyClassifier sur les données d'entraînement\n",
    "dummy_model.fit(X_train_final, y_train_final)\n",
    "\n",
    "# Prédictions sur l'ensemble de validation\n",
    "y_pred_dummy = dummy_model.predict(X_val)\n",
    "\n",
    "# Évaluation du modèle DummyClassifier\n",
    "accuracy_dummy = accuracy_score(y_val, y_pred_dummy)\n",
    "f1_dummy = f1_score(y_val, y_pred_dummy)\n",
    "roc_auc_dummy = roc_auc_score(y_val, y_pred_dummy)\n",
    "\n",
    "print(\"DummyClassifier Results:\")\n",
    "print(f\"Accuracy: {accuracy_dummy:.4f}\")\n",
    "print(f\"F1-Score: {f1_dummy:.4f}\")\n",
    "print(f\"ROC AUC: {roc_auc_dummy:.4f}\")\n",
    "\n",
    "# Enregistrer le modèle DummyClassifier\n",
    "joblib.dump(dummy_model, '/home/machou/openclassroom/mlflow_project/data/dummy_classifier_model.pkl')\n",
    "\n",
    "print(\"Le DummyClassifier a été enregistré avec succès.\")\n",
    "\n"
   ]
  },
  {
   "cell_type": "code",
   "execution_count": 50,
   "metadata": {},
   "outputs": [
    {
     "name": "stderr",
     "output_type": "stream",
     "text": [
      "2024/11/26 18:57:26 WARNING mlflow.models.model: Model logged without a signature and input example. Please set `input_example` parameter when logging the model to auto infer the model signature.\n",
      "2024/11/26 18:57:26 INFO mlflow.tracking._tracking_service.client: 🏃 View run secretive-grouse-287 at: http://localhost:5000/#/experiments/0/runs/7c2bba2b61e843b7a4280af06bbe71c2.\n",
      "2024/11/26 18:57:26 INFO mlflow.tracking._tracking_service.client: 🧪 View experiment at: http://localhost:5000/#/experiments/0.\n"
     ]
    }
   ],
   "source": [
    "# --- Enregistrement du modèle DummyClassifier dans MLflow ---\n",
    "with mlflow.start_run() as run:\n",
    "    # Hyperparamètres du DummyClassifier\n",
    "    dummy_params = {\n",
    "        'strategy': 'most_frequent',\n",
    "        'random_state': 42\n",
    "    }\n",
    "\n",
    "    # Log des paramètres du modèle DummyClassifier\n",
    "    for param, value in dummy_params.items():\n",
    "        mlflow.log_param(param, value)\n",
    "\n",
    "    # Log du modèle DummyClassifier\n",
    "    mlflow.sklearn.log_model(dummy_model, \"dummy_classifier_model\")\n",
    "    \n",
    "    # Log des métriques du modèle DummyClassifier\n",
    "    mlflow.log_metric(\"accuracy\", accuracy_dummy)\n",
    "    mlflow.log_metric(\"f1_score\", f1_dummy)\n",
    "    mlflow.log_metric(\"roc_auc\", roc_auc_dummy)\n",
    "\n",
    "\n"
   ]
  },
  {
   "cell_type": "code",
   "execution_count": null,
   "metadata": {},
   "outputs": [],
   "source": [
    "import pandas as pd\n",
    "\n",
    "# Enregistrer les données traitées (X_train, X_test) après transformation et normalisation\n",
    "X_train.to_csv('/home/machou/openclassroom/mlflow_project/data/X_train_cleaned.csv', index=False)\n",
    "X_test.to_csv('/home/machou/openclassroom/mlflow_project/data/X_test_cleaned.csv', index=False)\n",
    "y_train.to_csv('/home/machou/openclassroom/mlflow_project/data/y_train_cleaned.csv', index=False)\n"
   ]
  },
  {
   "cell_type": "markdown",
   "metadata": {},
   "source": [
    "Ces résultats montrent que le DummyClassifier n’est qu'un modèle de référence. Dans un cas de données déséquilibrées, il peut sembler donner une bonne précision en raison de la forte prédiction de la classe majoritaire, mais il ne fait pas réellement de bonnes prédictions pour les classes minoritaires. Le F1-score et le ROC AUC faibles confirment que ce modèle n'est pas utile pour un problème réel où on souhaite prédire toutes les classes avec équité."
   ]
  },
  {
   "cell_type": "markdown",
   "metadata": {},
   "source": [
    "### Affichage des données avant et apres smote"
   ]
  },
  {
   "cell_type": "code",
   "execution_count": 118,
   "metadata": {},
   "outputs": [
    {
     "name": "stdout",
     "output_type": "stream",
     "text": [
      "Classes dans y_train_final: [0 1]\n",
      "Distribution des classes avant SMOTE:\n",
      "0    158275\n",
      "1     13930\n",
      "Name: TARGET, dtype: int64\n"
     ]
    },
    {
     "data": {
      "image/png": "[encoded data removed]",
      "text/plain": [
       "<Figure size 576x432 with 1 Axes>"
      ]
     },
     "metadata": {
      "needs_background": "light"
     },
     "output_type": "display_data"
    },
    {
     "name": "stderr",
     "output_type": "stream",
     "text": [
      "`sparse` was renamed to `sparse_output` in version 1.2 and will be removed in 1.4. `sparse_output` is ignored unless you leave `sparse` to its default value.\n"
     ]
    },
    {
     "name": "stdout",
     "output_type": "stream",
     "text": [
      "Dimensions après transformation : (172205, 202)\n",
      "Distribution des classes après SMOTE:\n",
      "0    158275\n",
      "1     63310\n",
      "Name: TARGET, dtype: int64\n"
     ]
    },
    {
     "data": {
      "image/png": "[encoded data removed]",
      "text/plain": [
       "<Figure size 576x432 with 1 Axes>"
      ]
     },
     "metadata": {
      "needs_background": "light"
     },
     "output_type": "display_data"
    }
   ],
   "source": [
    "# Vérification des classes de la cible\n",
    "print(\"Classes dans y_train_final:\", y_train_final.unique())\n",
    "\n",
    "# 1. Afficher la distribution des classes avant SMOTE\n",
    "print(\"Distribution des classes avant SMOTE:\")\n",
    "print(y_train_final.value_counts())\n",
    "\n",
    "# Affichage sous forme de graphique\n",
    "plt.figure(figsize=(8, 6))\n",
    "sns.countplot(x=y_train_final)\n",
    "plt.title('Distribution des classes avant SMOTE')\n",
    "plt.xlabel('Classe')\n",
    "plt.ylabel('Nombre d\\'échantillons')\n",
    "plt.show()\n",
    "\n",
    "# 2. Transformation des données d'entrée avec preprocessor\n",
    "X_train_transformed = preprocessor.fit_transform(X_train_final, y_train_final)\n",
    "\n",
    "\n",
    "# Vérification après transformation\n",
    "print(\"Dimensions après transformation :\", X_train_transformed.shape)\n",
    "\n",
    "# 3. Appliquer SMOTE indépendamment pour visualisation\n",
    "X_train_res, y_train_res = smote.fit_resample(X_train_transformed, y_train_final)\n",
    "\n",
    "# 4. Afficher la distribution des classes après SMOTE\n",
    "print(\"Distribution des classes après SMOTE:\")\n",
    "print(pd.Series(y_train_res).value_counts())\n",
    "\n",
    "# Affichage sous forme de graphique\n",
    "plt.figure(figsize=(8, 6))\n",
    "sns.countplot(x=y_train_res)\n",
    "plt.title('Distribution des classes après SMOTE')\n",
    "plt.xlabel('Classe')\n",
    "plt.ylabel('Nombre d\\'échantillons')\n",
    "plt.show()\n"
   ]
  },
  {
   "cell_type": "markdown",
   "metadata": {},
   "source": [
    "### Model Xgboost with smote an score metier"
   ]
  },
  {
   "cell_type": "code",
   "execution_count": 109,
   "metadata": {},
   "outputs": [],
   "source": [
    "import xgboost as xgb\n",
    "from imblearn.over_sampling import SMOTE\n",
    "from sklearn.model_selection import train_test_split, GridSearchCV\n",
    "from sklearn.metrics import make_scorer, confusion_matrix, accuracy_score, roc_auc_score\n",
    "from imblearn.pipeline import Pipeline as ImbPipeline\n",
    "import numpy as np\n",
    "from imblearn.under_sampling import RandomUnderSampler\n",
    "\n",
    "\n",
    "\n",
    "\n",
    "\n",
    "\n",
    "# 1. Modèle XGBoost avec une échelle de poids pour les classes déséquilibrées\n",
    "model_xgb = xgb.XGBClassifier(random_state=42, scale_pos_weight=10)\n",
    "\n",
    "# 2. SMOTE pour l'équilibrage des classes\n",
    "smote = SMOTE(sampling_strategy=0.4, random_state=42)\n",
    "# 2. RandomUnderSampler pour équilibrer les classes\n",
    "#undersampler = RandomUnderSampler(sampling_strategy=0.4, random_state=42)\n",
    "\n",
    "\n",
    "\n",
    "# 3. Pipeline avec SMOTE et XGBoost\n",
    "pipeline_xgb = ImbPipeline([\n",
    "    ('preprocessor', preprocessor), \n",
    "    ('smote', smote),  # Appliquer SMOTE pour suréchantillonner les classes minoritaires\n",
    "    ('model', model_xgb)  # Modèle XGBoost\n",
    "])\n",
    "\n",
    "# 4. Fonction de coût métier (10 * FN + FP)\n",
    "def cost_function(y_true, y_pred_proba, threshold=0.5):\n",
    "    # Convertir les probabilités en classes binaires en fonction du seuil\n",
    "    y_pred_bin = (y_pred_proba >= threshold).astype(int)\n",
    "    \n",
    "    # Calculer la matrice de confusion\n",
    "    tn, fp, fn, tp = confusion_matrix(y_true, y_pred_bin).ravel()\n",
    "\n",
    "    # Coût métier : 10 * FN + FP\n",
    "    return 10 * fn + fp\n",
    "\n",
    "# 5. Score personnalisé basé sur la fonction de coût métier\n",
    "def custom_cost_score(y_true, y_pred_proba, threshold=0.5):\n",
    "    return -cost_function(y_true, y_pred_proba, threshold)\n",
    "\n",
    "# 6. Créer un scorer pour la fonction de coût métier\n",
    "custom_scorer = make_scorer(custom_cost_score, greater_is_better=False)\n",
    "\n",
    "# Grille d'hyperparamètres pour GridSearchCV\n",
    "param_grid = {\n",
    "    'model__n_estimators': [ 220],\n",
    "    'model__max_depth': [9],\n",
    "    'model__learning_rate': [0.04],\n",
    "    'model__colsample_bytree': [1.0],\n",
    "    'model__gamma': [0.2],\n",
    "    'model__subsample': [0.8],\n",
    "    'model__scale_pos_weight': [9],  \n",
    "    \n",
    "}\n",
    "    \n",
    "\n",
    "\n",
    "# 8. GridSearch pour optimiser les hyperparamètres en fonction du score métier\n",
    "grid_search = GridSearchCV(pipeline_xgb, param_grid, cv=5, scoring=custom_scorer, n_jobs=-1, verbose=2)\n",
    "\n",
    "\n"
   ]
  },
  {
   "cell_type": "code",
   "execution_count": 61,
   "metadata": {},
   "outputs": [
    {
     "name": "stdout",
     "output_type": "stream",
     "text": [
      "Fitting 5 folds for each of 1 candidates, totalling 5 fits\n"
     ]
    },
    {
     "name": "stderr",
     "output_type": "stream",
     "text": [
      "`sparse` was renamed to `sparse_output` in version 1.2 and will be removed in 1.4. `sparse_output` is ignored unless you leave `sparse` to its default value.\n"
     ]
    },
    {
     "data": {
      "text/html": [
       "<style>#sk-container-id-2 {color: black;}#sk-container-id-2 pre{padding: 0;}#sk-container-id-2 div.sk-toggleable {background-color: white;}#sk-container-id-2 label.sk-toggleable__label {cursor: pointer;display: block;width: 100%;margin-bottom: 0;padding: 0.3em;box-sizing: border-box;text-align: center;}#sk-container-id-2 label.sk-toggleable__label-arrow:before {content: \"▸\";float: left;margin-right: 0.25em;color: #696969;}#sk-container-id-2 label.sk-toggleable__label-arrow:hover:before {color: black;}#sk-container-id-2 div.sk-estimator:hover label.sk-toggleable__label-arrow:before {color: black;}#sk-container-id-2 div.sk-toggleable__content {max-height: 0;max-width: 0;overflow: hidden;text-align: left;background-color: #f0f8ff;}#sk-container-id-2 div.sk-toggleable__content pre {margin: 0.2em;color: black;border-radius: 0.25em;background-color: #f0f8ff;}#sk-container-id-2 input.sk-toggleable__control:checked~div.sk-toggleable__content {max-height: 200px;max-width: 100%;overflow: auto;}#sk-container-id-2 input.sk-toggleable__control:checked~label.sk-toggleable__label-arrow:before {content: \"▾\";}#sk-container-id-2 div.sk-estimator input.sk-toggleable__control:checked~label.sk-toggleable__label {background-color: #d4ebff;}#sk-container-id-2 div.sk-label input.sk-toggleable__control:checked~label.sk-toggleable__label {background-color: #d4ebff;}#sk-container-id-2 input.sk-hidden--visually {border: 0;clip: rect(1px 1px 1px 1px);clip: rect(1px, 1px, 1px, 1px);height: 1px;margin: -1px;overflow: hidden;padding: 0;position: absolute;width: 1px;}#sk-container-id-2 div.sk-estimator {font-family: monospace;background-color: #f0f8ff;border: 1px dotted black;border-radius: 0.25em;box-sizing: border-box;margin-bottom: 0.5em;}#sk-container-id-2 div.sk-estimator:hover {background-color: #d4ebff;}#sk-container-id-2 div.sk-parallel-item::after {content: \"\";width: 100%;border-bottom: 1px solid gray;flex-grow: 1;}#sk-container-id-2 div.sk-label:hover label.sk-toggleable__label {background-color: #d4ebff;}#sk-container-id-2 div.sk-serial::before {content: \"\";position: absolute;border-left: 1px solid gray;box-sizing: border-box;top: 0;bottom: 0;left: 50%;z-index: 0;}#sk-container-id-2 div.sk-serial {display: flex;flex-direction: column;align-items: center;background-color: white;padding-right: 0.2em;padding-left: 0.2em;position: relative;}#sk-container-id-2 div.sk-item {position: relative;z-index: 1;}#sk-container-id-2 div.sk-parallel {display: flex;align-items: stretch;justify-content: center;background-color: white;position: relative;}#sk-container-id-2 div.sk-item::before, #sk-container-id-2 div.sk-parallel-item::before {content: \"\";position: absolute;border-left: 1px solid gray;box-sizing: border-box;top: 0;bottom: 0;left: 50%;z-index: -1;}#sk-container-id-2 div.sk-parallel-item {display: flex;flex-direction: column;z-index: 1;position: relative;background-color: white;}#sk-container-id-2 div.sk-parallel-item:first-child::after {align-self: flex-end;width: 50%;}#sk-container-id-2 div.sk-parallel-item:last-child::after {align-self: flex-start;width: 50%;}#sk-container-id-2 div.sk-parallel-item:only-child::after {width: 0;}#sk-container-id-2 div.sk-dashed-wrapped {border: 1px dashed gray;margin: 0 0.4em 0.5em 0.4em;box-sizing: border-box;padding-bottom: 0.4em;background-color: white;}#sk-container-id-2 div.sk-label label {font-family: monospace;font-weight: bold;display: inline-block;line-height: 1.2em;}#sk-container-id-2 div.sk-label-container {text-align: center;}#sk-container-id-2 div.sk-container {/* jupyter's `normalize.less` sets `[hidden] { display: none; }` but bootstrap.min.css set `[hidden] { display: none !important; }` so we also need the `!important` here to be able to override the default hidden behavior on the sphinx rendered scikit-learn.org. See: https://github.com/scikit-learn/scikit-learn/issues/21755 */display: inline-block !important;position: relative;}#sk-container-id-2 div.sk-text-repr-fallback {display: none;}</style><div id=\"sk-container-id-2\" class=\"sk-top-container\"><div class=\"sk-text-repr-fallback\"><pre>GridSearchCV(cv=5,\n",
       "             estimator=Pipeline(steps=[(&#x27;preprocessor&#x27;,\n",
       "                                        ColumnTransformer(transformers=[(&#x27;num&#x27;,\n",
       "                                                                         Pipeline(steps=[(&#x27;imputer&#x27;,\n",
       "                                                                                          SimpleImputer()),\n",
       "                                                                                         (&#x27;scaler&#x27;,\n",
       "                                                                                          StandardScaler())]),\n",
       "                                                                         Index([&#x27;SK_ID_CURR&#x27;, &#x27;CNT_CHILDREN&#x27;, &#x27;AMT_INCOME_TOTAL&#x27;, &#x27;AMT_CREDIT&#x27;,\n",
       "       &#x27;AMT_ANNUITY&#x27;, &#x27;AMT_GOODS_PRICE&#x27;, &#x27;REGION_POPULATION_RELATIVE&#x27;,\n",
       "       &#x27;DAYS_BIRTH&#x27;, &#x27;DAYS_EMPLOYED&#x27;, &#x27;DAYS_REGISTRATION&#x27;,...\n",
       "                                                      n_estimators=None,\n",
       "                                                      n_jobs=None,\n",
       "                                                      num_parallel_tree=None,\n",
       "                                                      random_state=42, ...))]),\n",
       "             n_jobs=-1,\n",
       "             param_grid={&#x27;model__colsample_bytree&#x27;: [1.0],\n",
       "                         &#x27;model__gamma&#x27;: [0.2], &#x27;model__learning_rate&#x27;: [0.04],\n",
       "                         &#x27;model__max_depth&#x27;: [9], &#x27;model__n_estimators&#x27;: [220],\n",
       "                         &#x27;model__scale_pos_weight&#x27;: [9],\n",
       "                         &#x27;model__subsample&#x27;: [0.8]},\n",
       "             scoring=make_scorer(custom_cost_score, greater_is_better=False),\n",
       "             verbose=2)</pre><b>In a Jupyter environment, please rerun this cell to show the HTML representation or trust the notebook. <br />On GitHub, the HTML representation is unable to render, please try loading this page with nbviewer.org.</b></div><div class=\"sk-container\" hidden><div class=\"sk-item sk-dashed-wrapped\"><div class=\"sk-label-container\"><div class=\"sk-label sk-toggleable\"><input class=\"sk-toggleable__control sk-hidden--visually\" id=\"sk-estimator-id-16\" type=\"checkbox\" ><label for=\"sk-estimator-id-16\" class=\"sk-toggleable__label sk-toggleable__label-arrow\">GridSearchCV</label><div class=\"sk-toggleable__content\"><pre>GridSearchCV(cv=5,\n",
       "             estimator=Pipeline(steps=[(&#x27;preprocessor&#x27;,\n",
       "                                        ColumnTransformer(transformers=[(&#x27;num&#x27;,\n",
       "                                                                         Pipeline(steps=[(&#x27;imputer&#x27;,\n",
       "                                                                                          SimpleImputer()),\n",
       "                                                                                         (&#x27;scaler&#x27;,\n",
       "                                                                                          StandardScaler())]),\n",
       "                                                                         Index([&#x27;SK_ID_CURR&#x27;, &#x27;CNT_CHILDREN&#x27;, &#x27;AMT_INCOME_TOTAL&#x27;, &#x27;AMT_CREDIT&#x27;,\n",
       "       &#x27;AMT_ANNUITY&#x27;, &#x27;AMT_GOODS_PRICE&#x27;, &#x27;REGION_POPULATION_RELATIVE&#x27;,\n",
       "       &#x27;DAYS_BIRTH&#x27;, &#x27;DAYS_EMPLOYED&#x27;, &#x27;DAYS_REGISTRATION&#x27;,...\n",
       "                                                      n_estimators=None,\n",
       "                                                      n_jobs=None,\n",
       "                                                      num_parallel_tree=None,\n",
       "                                                      random_state=42, ...))]),\n",
       "             n_jobs=-1,\n",
       "             param_grid={&#x27;model__colsample_bytree&#x27;: [1.0],\n",
       "                         &#x27;model__gamma&#x27;: [0.2], &#x27;model__learning_rate&#x27;: [0.04],\n",
       "                         &#x27;model__max_depth&#x27;: [9], &#x27;model__n_estimators&#x27;: [220],\n",
       "                         &#x27;model__scale_pos_weight&#x27;: [9],\n",
       "                         &#x27;model__subsample&#x27;: [0.8]},\n",
       "             scoring=make_scorer(custom_cost_score, greater_is_better=False),\n",
       "             verbose=2)</pre></div></div></div><div class=\"sk-parallel\"><div class=\"sk-parallel-item\"><div class=\"sk-item\"><div class=\"sk-label-container\"><div class=\"sk-label sk-toggleable\"><input class=\"sk-toggleable__control sk-hidden--visually\" id=\"sk-estimator-id-17\" type=\"checkbox\" ><label for=\"sk-estimator-id-17\" class=\"sk-toggleable__label sk-toggleable__label-arrow\">estimator: Pipeline</label><div class=\"sk-toggleable__content\"><pre>Pipeline(steps=[(&#x27;preprocessor&#x27;,\n",
       "                 ColumnTransformer(transformers=[(&#x27;num&#x27;,\n",
       "                                                  Pipeline(steps=[(&#x27;imputer&#x27;,\n",
       "                                                                   SimpleImputer()),\n",
       "                                                                  (&#x27;scaler&#x27;,\n",
       "                                                                   StandardScaler())]),\n",
       "                                                  Index([&#x27;SK_ID_CURR&#x27;, &#x27;CNT_CHILDREN&#x27;, &#x27;AMT_INCOME_TOTAL&#x27;, &#x27;AMT_CREDIT&#x27;,\n",
       "       &#x27;AMT_ANNUITY&#x27;, &#x27;AMT_GOODS_PRICE&#x27;, &#x27;REGION_POPULATION_RELATIVE&#x27;,\n",
       "       &#x27;DAYS_BIRTH&#x27;, &#x27;DAYS_EMPLOYED&#x27;, &#x27;DAYS_REGISTRATION&#x27;,\n",
       "       ...\n",
       "       &#x27;INSTALLMENTS_NUM_INSTALM...\n",
       "                               feature_types=None, gamma=None, grow_policy=None,\n",
       "                               importance_type=None,\n",
       "                               interaction_constraints=None, learning_rate=None,\n",
       "                               max_bin=None, max_cat_threshold=None,\n",
       "                               max_cat_to_onehot=None, max_delta_step=None,\n",
       "                               max_depth=None, max_leaves=None,\n",
       "                               min_child_weight=None, missing=nan,\n",
       "                               monotone_constraints=None, multi_strategy=None,\n",
       "                               n_estimators=None, n_jobs=None,\n",
       "                               num_parallel_tree=None, random_state=42, ...))])</pre></div></div></div><div class=\"sk-serial\"><div class=\"sk-item\"><div class=\"sk-serial\"><div class=\"sk-item sk-dashed-wrapped\"><div class=\"sk-label-container\"><div class=\"sk-label sk-toggleable\"><input class=\"sk-toggleable__control sk-hidden--visually\" id=\"sk-estimator-id-18\" type=\"checkbox\" ><label for=\"sk-estimator-id-18\" class=\"sk-toggleable__label sk-toggleable__label-arrow\">preprocessor: ColumnTransformer</label><div class=\"sk-toggleable__content\"><pre>ColumnTransformer(transformers=[(&#x27;num&#x27;,\n",
       "                                 Pipeline(steps=[(&#x27;imputer&#x27;, SimpleImputer()),\n",
       "                                                 (&#x27;scaler&#x27;, StandardScaler())]),\n",
       "                                 Index([&#x27;SK_ID_CURR&#x27;, &#x27;CNT_CHILDREN&#x27;, &#x27;AMT_INCOME_TOTAL&#x27;, &#x27;AMT_CREDIT&#x27;,\n",
       "       &#x27;AMT_ANNUITY&#x27;, &#x27;AMT_GOODS_PRICE&#x27;, &#x27;REGION_POPULATION_RELATIVE&#x27;,\n",
       "       &#x27;DAYS_BIRTH&#x27;, &#x27;DAYS_EMPLOYED&#x27;, &#x27;DAYS_REGISTRATION&#x27;,\n",
       "       ...\n",
       "       &#x27;INSTALLMENTS_NUM_INSTALMENT_NUMBER&#x27;, &#x27;income_credit_ratio...\n",
       "                                                                   &#x27;ORGANIZATION_TYPE&#x27;])]),\n",
       "                                 Index([&#x27;NAME_CONTRACT_TYPE&#x27;, &#x27;CODE_GENDER&#x27;, &#x27;FLAG_OWN_CAR&#x27;, &#x27;FLAG_OWN_REALTY&#x27;,\n",
       "       &#x27;NAME_TYPE_SUITE&#x27;, &#x27;NAME_INCOME_TYPE&#x27;, &#x27;NAME_EDUCATION_TYPE&#x27;,\n",
       "       &#x27;NAME_FAMILY_STATUS&#x27;, &#x27;NAME_HOUSING_TYPE&#x27;, &#x27;OCCUPATION_TYPE&#x27;,\n",
       "       &#x27;WEEKDAY_APPR_PROCESS_START&#x27;, &#x27;ORGANIZATION_TYPE&#x27;, &#x27;FONDKAPREMONT_MODE&#x27;,\n",
       "       &#x27;HOUSETYPE_MODE&#x27;, &#x27;WALLSMATERIAL_MODE&#x27;, &#x27;EMERGENCYSTATE_MODE&#x27;],\n",
       "      dtype=&#x27;object&#x27;))])</pre></div></div></div><div class=\"sk-parallel\"><div class=\"sk-parallel-item\"><div class=\"sk-item\"><div class=\"sk-label-container\"><div class=\"sk-label sk-toggleable\"><input class=\"sk-toggleable__control sk-hidden--visually\" id=\"sk-estimator-id-19\" type=\"checkbox\" ><label for=\"sk-estimator-id-19\" class=\"sk-toggleable__label sk-toggleable__label-arrow\">num</label><div class=\"sk-toggleable__content\"><pre>Index([&#x27;SK_ID_CURR&#x27;, &#x27;CNT_CHILDREN&#x27;, &#x27;AMT_INCOME_TOTAL&#x27;, &#x27;AMT_CREDIT&#x27;,\n",
       "       &#x27;AMT_ANNUITY&#x27;, &#x27;AMT_GOODS_PRICE&#x27;, &#x27;REGION_POPULATION_RELATIVE&#x27;,\n",
       "       &#x27;DAYS_BIRTH&#x27;, &#x27;DAYS_EMPLOYED&#x27;, &#x27;DAYS_REGISTRATION&#x27;,\n",
       "       ...\n",
       "       &#x27;INSTALLMENTS_NUM_INSTALMENT_NUMBER&#x27;, &#x27;income_credit_ratio&#x27;, &#x27;age&#x27;,\n",
       "       &#x27;years_employed&#x27;, &#x27;log_AMT_INCOME_TOTAL&#x27;, &#x27;annuity_income_ratio&#x27;,\n",
       "       &#x27;log_AMT_CREDIT&#x27;, &#x27;is_employed&#x27;, &#x27;credit_income_ratio&#x27;,\n",
       "       &#x27;debt_to_income_ratio&#x27;],\n",
       "      dtype=&#x27;object&#x27;, length=136)</pre></div></div></div><div class=\"sk-serial\"><div class=\"sk-item\"><div class=\"sk-serial\"><div class=\"sk-item\"><div class=\"sk-estimator sk-toggleable\"><input class=\"sk-toggleable__control sk-hidden--visually\" id=\"sk-estimator-id-20\" type=\"checkbox\" ><label for=\"sk-estimator-id-20\" class=\"sk-toggleable__label sk-toggleable__label-arrow\">SimpleImputer</label><div class=\"sk-toggleable__content\"><pre>SimpleImputer()</pre></div></div></div><div class=\"sk-item\"><div class=\"sk-estimator sk-toggleable\"><input class=\"sk-toggleable__control sk-hidden--visually\" id=\"sk-estimator-id-21\" type=\"checkbox\" ><label for=\"sk-estimator-id-21\" class=\"sk-toggleable__label sk-toggleable__label-arrow\">StandardScaler</label><div class=\"sk-toggleable__content\"><pre>StandardScaler()</pre></div></div></div></div></div></div></div></div><div class=\"sk-parallel-item\"><div class=\"sk-item\"><div class=\"sk-label-container\"><div class=\"sk-label sk-toggleable\"><input class=\"sk-toggleable__control sk-hidden--visually\" id=\"sk-estimator-id-22\" type=\"checkbox\" ><label for=\"sk-estimator-id-22\" class=\"sk-toggleable__label sk-toggleable__label-arrow\">cat</label><div class=\"sk-toggleable__content\"><pre>Index([&#x27;NAME_CONTRACT_TYPE&#x27;, &#x27;CODE_GENDER&#x27;, &#x27;FLAG_OWN_CAR&#x27;, &#x27;FLAG_OWN_REALTY&#x27;,\n",
       "       &#x27;NAME_TYPE_SUITE&#x27;, &#x27;NAME_INCOME_TYPE&#x27;, &#x27;NAME_EDUCATION_TYPE&#x27;,\n",
       "       &#x27;NAME_FAMILY_STATUS&#x27;, &#x27;NAME_HOUSING_TYPE&#x27;, &#x27;OCCUPATION_TYPE&#x27;,\n",
       "       &#x27;WEEKDAY_APPR_PROCESS_START&#x27;, &#x27;ORGANIZATION_TYPE&#x27;, &#x27;FONDKAPREMONT_MODE&#x27;,\n",
       "       &#x27;HOUSETYPE_MODE&#x27;, &#x27;WALLSMATERIAL_MODE&#x27;, &#x27;EMERGENCYSTATE_MODE&#x27;],\n",
       "      dtype=&#x27;object&#x27;)</pre></div></div></div><div class=\"sk-serial\"><div class=\"sk-item sk-dashed-wrapped\"><div class=\"sk-parallel\"><div class=\"sk-parallel-item\"><div class=\"sk-item\"><div class=\"sk-label-container\"><div class=\"sk-label sk-toggleable\"><input class=\"sk-toggleable__control sk-hidden--visually\" id=\"sk-estimator-id-23\" type=\"checkbox\" ><label for=\"sk-estimator-id-23\" class=\"sk-toggleable__label sk-toggleable__label-arrow\">low_cardinality</label><div class=\"sk-toggleable__content\"><pre>[&#x27;NAME_CONTRACT_TYPE&#x27;, &#x27;CODE_GENDER&#x27;, &#x27;FLAG_OWN_CAR&#x27;, &#x27;FLAG_OWN_REALTY&#x27;, &#x27;NAME_TYPE_SUITE&#x27;, &#x27;NAME_INCOME_TYPE&#x27;, &#x27;NAME_EDUCATION_TYPE&#x27;, &#x27;NAME_FAMILY_STATUS&#x27;, &#x27;NAME_HOUSING_TYPE&#x27;, &#x27;WEEKDAY_APPR_PROCESS_START&#x27;, &#x27;FONDKAPREMONT_MODE&#x27;, &#x27;HOUSETYPE_MODE&#x27;, &#x27;WALLSMATERIAL_MODE&#x27;, &#x27;EMERGENCYSTATE_MODE&#x27;]</pre></div></div></div><div class=\"sk-serial\"><div class=\"sk-item\"><div class=\"sk-serial\"><div class=\"sk-item\"><div class=\"sk-estimator sk-toggleable\"><input class=\"sk-toggleable__control sk-hidden--visually\" id=\"sk-estimator-id-24\" type=\"checkbox\" ><label for=\"sk-estimator-id-24\" class=\"sk-toggleable__label sk-toggleable__label-arrow\">SimpleImputer</label><div class=\"sk-toggleable__content\"><pre>SimpleImputer(strategy=&#x27;most_frequent&#x27;)</pre></div></div></div><div class=\"sk-item\"><div class=\"sk-estimator sk-toggleable\"><input class=\"sk-toggleable__control sk-hidden--visually\" id=\"sk-estimator-id-25\" type=\"checkbox\" ><label for=\"sk-estimator-id-25\" class=\"sk-toggleable__label sk-toggleable__label-arrow\">OneHotEncoder</label><div class=\"sk-toggleable__content\"><pre>OneHotEncoder(handle_unknown=&#x27;ignore&#x27;, sparse=False)</pre></div></div></div></div></div></div></div></div><div class=\"sk-parallel-item\"><div class=\"sk-item\"><div class=\"sk-label-container\"><div class=\"sk-label sk-toggleable\"><input class=\"sk-toggleable__control sk-hidden--visually\" id=\"sk-estimator-id-26\" type=\"checkbox\" ><label for=\"sk-estimator-id-26\" class=\"sk-toggleable__label sk-toggleable__label-arrow\">high_cardinality</label><div class=\"sk-toggleable__content\"><pre>[&#x27;OCCUPATION_TYPE&#x27;, &#x27;ORGANIZATION_TYPE&#x27;]</pre></div></div></div><div class=\"sk-serial\"><div class=\"sk-item\"><div class=\"sk-serial\"><div class=\"sk-item\"><div class=\"sk-estimator sk-toggleable\"><input class=\"sk-toggleable__control sk-hidden--visually\" id=\"sk-estimator-id-27\" type=\"checkbox\" ><label for=\"sk-estimator-id-27\" class=\"sk-toggleable__label sk-toggleable__label-arrow\">SimpleImputer</label><div class=\"sk-toggleable__content\"><pre>SimpleImputer(strategy=&#x27;most_frequent&#x27;)</pre></div></div></div><div class=\"sk-item\"><div class=\"sk-estimator sk-toggleable\"><input class=\"sk-toggleable__control sk-hidden--visually\" id=\"sk-estimator-id-28\" type=\"checkbox\" ><label for=\"sk-estimator-id-28\" class=\"sk-toggleable__label sk-toggleable__label-arrow\">TargetEncoder</label><div class=\"sk-toggleable__content\"><pre>TargetEncoder()</pre></div></div></div></div></div></div></div></div></div></div></div></div></div></div></div><div class=\"sk-item\"><div class=\"sk-estimator sk-toggleable\"><input class=\"sk-toggleable__control sk-hidden--visually\" id=\"sk-estimator-id-29\" type=\"checkbox\" ><label for=\"sk-estimator-id-29\" class=\"sk-toggleable__label sk-toggleable__label-arrow\">SMOTE</label><div class=\"sk-toggleable__content\"><pre>SMOTE(random_state=42, sampling_strategy=0.4)</pre></div></div></div><div class=\"sk-item\"><div class=\"sk-estimator sk-toggleable\"><input class=\"sk-toggleable__control sk-hidden--visually\" id=\"sk-estimator-id-30\" type=\"checkbox\" ><label for=\"sk-estimator-id-30\" class=\"sk-toggleable__label sk-toggleable__label-arrow\">XGBClassifier</label><div class=\"sk-toggleable__content\"><pre>XGBClassifier(base_score=None, booster=None, callbacks=None,\n",
       "              colsample_bylevel=None, colsample_bynode=None,\n",
       "              colsample_bytree=None, device=None, early_stopping_rounds=None,\n",
       "              enable_categorical=False, eval_metric=None, feature_types=None,\n",
       "              gamma=None, grow_policy=None, importance_type=None,\n",
       "              interaction_constraints=None, learning_rate=None, max_bin=None,\n",
       "              max_cat_threshold=None, max_cat_to_onehot=None,\n",
       "              max_delta_step=None, max_depth=None, max_leaves=None,\n",
       "              min_child_weight=None, missing=nan, monotone_constraints=None,\n",
       "              multi_strategy=None, n_estimators=None, n_jobs=None,\n",
       "              num_parallel_tree=None, random_state=42, ...)</pre></div></div></div></div></div></div></div></div></div></div></div></div>"
      ],
      "text/plain": [
       "GridSearchCV(cv=5,\n",
       "             estimator=Pipeline(steps=[('preprocessor',\n",
       "                                        ColumnTransformer(transformers=[('num',\n",
       "                                                                         Pipeline(steps=[('imputer',\n",
       "                                                                                          SimpleImputer()),\n",
       "                                                                                         ('scaler',\n",
       "                                                                                          StandardScaler())]),\n",
       "                                                                         Index(['SK_ID_CURR', 'CNT_CHILDREN', 'AMT_INCOME_TOTAL', 'AMT_CREDIT',\n",
       "       'AMT_ANNUITY', 'AMT_GOODS_PRICE', 'REGION_POPULATION_RELATIVE',\n",
       "       'DAYS_BIRTH', 'DAYS_EMPLOYED', 'DAYS_REGISTRATION',...\n",
       "                                                      n_estimators=None,\n",
       "                                                      n_jobs=None,\n",
       "                                                      num_parallel_tree=None,\n",
       "                                                      random_state=42, ...))]),\n",
       "             n_jobs=-1,\n",
       "             param_grid={'model__colsample_bytree': [1.0],\n",
       "                         'model__gamma': [0.2], 'model__learning_rate': [0.04],\n",
       "                         'model__max_depth': [9], 'model__n_estimators': [220],\n",
       "                         'model__scale_pos_weight': [9],\n",
       "                         'model__subsample': [0.8]},\n",
       "             scoring=make_scorer(custom_cost_score, greater_is_better=False),\n",
       "             verbose=2)"
      ]
     },
     "execution_count": 61,
     "metadata": {},
     "output_type": "execute_result"
    }
   ],
   "source": [
    "\n",
    "# 9. Entraîner le modèle avec la recherche de grille\n",
    "grid_search.fit(X_train_final, y_train_final)\n",
    "\n",
    "#"
   ]
  },
  {
   "cell_type": "code",
   "execution_count": 62,
   "metadata": {},
   "outputs": [
    {
     "name": "stdout",
     "output_type": "stream",
     "text": [
      "Meilleurs hyperparamètres: {'model__colsample_bytree': 1.0, 'model__gamma': 0.2, 'model__learning_rate': 0.04, 'model__max_depth': 9, 'model__n_estimators': 220, 'model__scale_pos_weight': 9, 'model__subsample': 0.8}\n",
      "Meilleur score de coût métier: -21746.8\n",
      "AUC : 0.7625\n",
      "Accuracy : 0.7992\n",
      "F1-Score : 0.3039\n",
      "Precision : 0.2110\n",
      "Recall : 0.5430\n",
      "Seuil optimal pour le score métier : 0.4000\n"
     ]
    },
    {
     "data": {
      "text/plain": [
       "['/home/machou/openclassroom/mlflow_project/models/preprocessor.pkl']"
      ]
     },
     "execution_count": 62,
     "metadata": {},
     "output_type": "execute_result"
    },
    {
     "name": "stderr",
     "output_type": "stream",
     "text": [
      "/home/machou/.local/lib/python3.8/site-packages/sklearn/preprocessing/_encoders.py:975: FutureWarning: `sparse` was renamed to `sparse_output` in version 1.2 and will be removed in 1.4. `sparse_output` is ignored unless you leave `sparse` to its default value.\n",
      "  warnings.warn(\n"
     ]
    },
    {
     "name": "stdout",
     "output_type": "stream",
     "text": [
      "[CV] END model__colsample_bytree=1.0, model__gamma=0.2, model__learning_rate=0.04, model__max_depth=9, model__n_estimators=220, model__scale_pos_weight=9, model__subsample=0.8; total time= 2.4min\n",
      "[CV] END model__colsample_bytree=1.0, model__gamma=0.2, model__learning_rate=0.04, model__max_depth=9, model__n_estimators=220, model__scale_pos_weight=9, model__subsample=0.8; total time= 2.5min\n"
     ]
    },
    {
     "name": "stderr",
     "output_type": "stream",
     "text": [
      "/home/machou/.local/lib/python3.8/site-packages/sklearn/preprocessing/_encoders.py:975: FutureWarning: `sparse` was renamed to `sparse_output` in version 1.2 and will be removed in 1.4. `sparse_output` is ignored unless you leave `sparse` to its default value.\n",
      "  warnings.warn(\n"
     ]
    },
    {
     "name": "stdout",
     "output_type": "stream",
     "text": [
      "[CV] END model__colsample_bytree=1.0, model__gamma=0.2, model__learning_rate=0.04, model__max_depth=9, model__n_estimators=220, model__scale_pos_weight=9, model__subsample=0.8; total time= 2.6min\n"
     ]
    },
    {
     "name": "stderr",
     "output_type": "stream",
     "text": [
      "/home/machou/.local/lib/python3.8/site-packages/sklearn/preprocessing/_encoders.py:975: FutureWarning: `sparse` was renamed to `sparse_output` in version 1.2 and will be removed in 1.4. `sparse_output` is ignored unless you leave `sparse` to its default value.\n",
      "  warnings.warn(\n"
     ]
    },
    {
     "name": "stdout",
     "output_type": "stream",
     "text": [
      "[CV] END model__colsample_bytree=1.0, model__gamma=0.2, model__learning_rate=0.04, model__max_depth=9, model__n_estimators=220, model__scale_pos_weight=9, model__subsample=0.8; total time= 2.6min\n"
     ]
    },
    {
     "name": "stderr",
     "output_type": "stream",
     "text": [
      "/home/machou/.local/lib/python3.8/site-packages/sklearn/preprocessing/_encoders.py:975: FutureWarning: `sparse` was renamed to `sparse_output` in version 1.2 and will be removed in 1.4. `sparse_output` is ignored unless you leave `sparse` to its default value.\n",
      "  warnings.warn(\n"
     ]
    },
    {
     "name": "stdout",
     "output_type": "stream",
     "text": [
      "[CV] END model__colsample_bytree=1.0, model__gamma=0.2, model__learning_rate=0.04, model__max_depth=9, model__n_estimators=220, model__scale_pos_weight=9, model__subsample=0.8; total time= 2.7min\n"
     ]
    },
    {
     "name": "stderr",
     "output_type": "stream",
     "text": [
      "/home/machou/.local/lib/python3.8/site-packages/sklearn/preprocessing/_encoders.py:975: FutureWarning: `sparse` was renamed to `sparse_output` in version 1.2 and will be removed in 1.4. `sparse_output` is ignored unless you leave `sparse` to its default value.\n",
      "  warnings.warn(\n"
     ]
    }
   ],
   "source": [
    "from sklearn.metrics import precision_score, recall_score, roc_auc_score, accuracy_score, f1_score\n",
    "\n",
    "# 7. Résultats de la recherche\n",
    "print(\"Meilleurs hyperparamètres:\", grid_search.best_params_)\n",
    "print(\"Meilleur score de coût métier:\", -grid_search.best_score_)\n",
    "\n",
    "# 8. Prédictions et évaluation\n",
    "best_model = grid_search.best_estimator_\n",
    "\n",
    "# Prédire sur les données de test\n",
    "y_pred_bin = best_model.predict(X_test)  # Classes prédites\n",
    "y_pred_proba = best_model.predict_proba(X_test)[:, 1]  # Probabilités pour la classe positive\n",
    "\n",
    "# Calcul des métriques\n",
    "auc_score_xgb = roc_auc_score(y_test, y_pred_proba)  # AUC (Area Under the Curve)\n",
    "accuracy_xgb = accuracy_score(y_test, y_pred_bin)  # Accuracy\n",
    "f1_xgb = f1_score(y_test, y_pred_bin)  # F1-Score\n",
    "precision_xgb = precision_score(y_test, y_pred_bin)  # Précision\n",
    "recall_xgb = recall_score(y_test, y_pred_bin)  # Rappel\n",
    "\n",
    "# Trouver le seuil optimal pour minimiser le coût métier\n",
    "thresholds = np.arange(0.0, 1.05, 0.05)  # Tester des seuils de 0.0 à 1.0 par pas de 0.05\n",
    "costs = [cost_function(y_test, y_pred_proba, threshold=t) for t in thresholds]  # Calculer le coût pour chaque seuil\n",
    "best_threshold = thresholds[np.argmin(costs)]  # Trouver le seuil qui minimise le coût\n",
    "\n",
    "# Affichage des résultats\n",
    "print(f'AUC : {auc_score_xgb:.4f}')\n",
    "print(f'Accuracy : {accuracy_xgb:.4f}')\n",
    "print(f'F1-Score : {f1_xgb:.4f}')\n",
    "print(f'Precision : {precision_xgb:.4f}')\n",
    "print(f'Recall : {recall_xgb:.4f}')\n",
    "print(f'Seuil optimal pour le score métier : {best_threshold:.4f}')\n",
    "\n",
    "# Sauvegarder le modèle final\n",
    "joblib.dump(best_model, '/home/machou/openclassroom/mlflow_project/models/xgb_model_with_smote_and_score_metier_etape_par_etape.pkl')\n",
    "joblib.dump(preprocessor, '/home/machou/openclassroom/mlflow_project/models/preprocessor.pkl')"
   ]
  },
  {
   "cell_type": "code",
   "execution_count": 34,
   "metadata": {},
   "outputs": [
    {
     "name": "stdout",
     "output_type": "stream",
     "text": [
      "Noms des caractéristiques après encodage One-Hot: ['low_cardinality__NAME_CONTRACT_TYPE_Cash loans'\n",
      " 'low_cardinality__NAME_CONTRACT_TYPE_Revolving loans'\n",
      " 'low_cardinality__CODE_GENDER_F' 'low_cardinality__CODE_GENDER_M'\n",
      " 'low_cardinality__CODE_GENDER_XNA' 'low_cardinality__FLAG_OWN_CAR_N'\n",
      " 'low_cardinality__FLAG_OWN_CAR_Y' 'low_cardinality__FLAG_OWN_REALTY_N'\n",
      " 'low_cardinality__FLAG_OWN_REALTY_Y'\n",
      " 'low_cardinality__NAME_TYPE_SUITE_Children'\n",
      " 'low_cardinality__NAME_TYPE_SUITE_Family'\n",
      " 'low_cardinality__NAME_TYPE_SUITE_Group of people'\n",
      " 'low_cardinality__NAME_TYPE_SUITE_Other_A'\n",
      " 'low_cardinality__NAME_TYPE_SUITE_Other_B'\n",
      " 'low_cardinality__NAME_TYPE_SUITE_Spouse, partner'\n",
      " 'low_cardinality__NAME_TYPE_SUITE_Unaccompanied'\n",
      " 'low_cardinality__NAME_INCOME_TYPE_Businessman'\n",
      " 'low_cardinality__NAME_INCOME_TYPE_Commercial associate'\n",
      " 'low_cardinality__NAME_INCOME_TYPE_Maternity leave'\n",
      " 'low_cardinality__NAME_INCOME_TYPE_Pensioner'\n",
      " 'low_cardinality__NAME_INCOME_TYPE_State servant'\n",
      " 'low_cardinality__NAME_INCOME_TYPE_Student'\n",
      " 'low_cardinality__NAME_INCOME_TYPE_Unemployed'\n",
      " 'low_cardinality__NAME_INCOME_TYPE_Working'\n",
      " 'low_cardinality__NAME_EDUCATION_TYPE_Academic degree'\n",
      " 'low_cardinality__NAME_EDUCATION_TYPE_Higher education'\n",
      " 'low_cardinality__NAME_EDUCATION_TYPE_Incomplete higher'\n",
      " 'low_cardinality__NAME_EDUCATION_TYPE_Lower secondary'\n",
      " 'low_cardinality__NAME_EDUCATION_TYPE_Secondary / secondary special'\n",
      " 'low_cardinality__NAME_FAMILY_STATUS_Civil marriage'\n",
      " 'low_cardinality__NAME_FAMILY_STATUS_Married'\n",
      " 'low_cardinality__NAME_FAMILY_STATUS_Separated'\n",
      " 'low_cardinality__NAME_FAMILY_STATUS_Single / not married'\n",
      " 'low_cardinality__NAME_FAMILY_STATUS_Unknown'\n",
      " 'low_cardinality__NAME_FAMILY_STATUS_Widow'\n",
      " 'low_cardinality__NAME_HOUSING_TYPE_Co-op apartment'\n",
      " 'low_cardinality__NAME_HOUSING_TYPE_House / apartment'\n",
      " 'low_cardinality__NAME_HOUSING_TYPE_Municipal apartment'\n",
      " 'low_cardinality__NAME_HOUSING_TYPE_Office apartment'\n",
      " 'low_cardinality__NAME_HOUSING_TYPE_Rented apartment'\n",
      " 'low_cardinality__NAME_HOUSING_TYPE_With parents'\n",
      " 'low_cardinality__WEEKDAY_APPR_PROCESS_START_FRIDAY'\n",
      " 'low_cardinality__WEEKDAY_APPR_PROCESS_START_MONDAY'\n",
      " 'low_cardinality__WEEKDAY_APPR_PROCESS_START_SATURDAY'\n",
      " 'low_cardinality__WEEKDAY_APPR_PROCESS_START_SUNDAY'\n",
      " 'low_cardinality__WEEKDAY_APPR_PROCESS_START_THURSDAY'\n",
      " 'low_cardinality__WEEKDAY_APPR_PROCESS_START_TUESDAY'\n",
      " 'low_cardinality__WEEKDAY_APPR_PROCESS_START_WEDNESDAY'\n",
      " 'low_cardinality__FONDKAPREMONT_MODE_not specified'\n",
      " 'low_cardinality__FONDKAPREMONT_MODE_org spec account'\n",
      " 'low_cardinality__FONDKAPREMONT_MODE_reg oper account'\n",
      " 'low_cardinality__FONDKAPREMONT_MODE_reg oper spec account'\n",
      " 'low_cardinality__HOUSETYPE_MODE_block of flats'\n",
      " 'low_cardinality__HOUSETYPE_MODE_specific housing'\n",
      " 'low_cardinality__HOUSETYPE_MODE_terraced house'\n",
      " 'low_cardinality__WALLSMATERIAL_MODE_Block'\n",
      " 'low_cardinality__WALLSMATERIAL_MODE_Mixed'\n",
      " 'low_cardinality__WALLSMATERIAL_MODE_Monolithic'\n",
      " 'low_cardinality__WALLSMATERIAL_MODE_Others'\n",
      " 'low_cardinality__WALLSMATERIAL_MODE_Panel'\n",
      " 'low_cardinality__WALLSMATERIAL_MODE_Stone, brick'\n",
      " 'low_cardinality__WALLSMATERIAL_MODE_Wooden'\n",
      " 'low_cardinality__EMERGENCYSTATE_MODE_No'\n",
      " 'low_cardinality__EMERGENCYSTATE_MODE_Yes' 'high_cardinality__0'\n",
      " 'high_cardinality__1']\n"
     ]
    }
   ],
   "source": [
    "# Récupérer le meilleur modèle de la recherche par grille\n",
    "best_model = grid_search.best_estimator_\n",
    "\n",
    "# Accéder au préprocesseur dans le pipeline\n",
    "preprocessor = best_model.named_steps['preprocessor']\n",
    "\n",
    "# Accéder à l'encodeur OneHot (en supposant qu'il est dans le second transformateur)\n",
    "onehot_encoder = preprocessor.transformers_[1][1]  # Accéder au second transformateur\n",
    "\n",
    "# Vérifier les noms des caractéristiques après l'encodage One-Hot\n",
    "feature_names_after_encoding = onehot_encoder.get_feature_names_out()\n",
    "\n",
    "# Afficher les noms des caractéristiques après encodage One-Hot\n",
    "print(\"Noms des caractéristiques après encodage One-Hot:\", feature_names_after_encoding)\n",
    "\n",
    "\n",
    "# Exemple de sauvegarde des noms des caractéristiques après encodage\n",
    "import numpy as np\n",
    "np.save('/home/machou/openclassroom/mlflow_project/data/feature_names_after_encoding.npy', feature_names_after_encoding)\n"
   ]
  },
  {
   "cell_type": "code",
   "execution_count": 35,
   "metadata": {},
   "outputs": [
    {
     "name": "stdout",
     "output_type": "stream",
     "text": [
      "['SK_ID_CURR' 'NAME_CONTRACT_TYPE' 'CODE_GENDER' 'FLAG_OWN_CAR'\n",
      " 'FLAG_OWN_REALTY' 'CNT_CHILDREN' 'AMT_INCOME_TOTAL' 'AMT_CREDIT'\n",
      " 'AMT_ANNUITY' 'AMT_GOODS_PRICE' 'NAME_TYPE_SUITE' 'NAME_INCOME_TYPE'\n",
      " 'NAME_EDUCATION_TYPE' 'NAME_FAMILY_STATUS' 'NAME_HOUSING_TYPE'\n",
      " 'REGION_POPULATION_RELATIVE' 'DAYS_BIRTH' 'DAYS_EMPLOYED'\n",
      " 'DAYS_REGISTRATION' 'DAYS_ID_PUBLISH' 'OWN_CAR_AGE' 'FLAG_MOBIL'\n",
      " 'FLAG_EMP_PHONE' 'FLAG_WORK_PHONE' 'FLAG_CONT_MOBILE' 'FLAG_PHONE'\n",
      " 'FLAG_EMAIL' 'OCCUPATION_TYPE' 'CNT_FAM_MEMBERS' 'REGION_RATING_CLIENT'\n",
      " 'REGION_RATING_CLIENT_W_CITY' 'WEEKDAY_APPR_PROCESS_START'\n",
      " 'HOUR_APPR_PROCESS_START' 'REG_REGION_NOT_LIVE_REGION'\n",
      " 'REG_REGION_NOT_WORK_REGION' 'LIVE_REGION_NOT_WORK_REGION'\n",
      " 'REG_CITY_NOT_LIVE_CITY' 'REG_CITY_NOT_WORK_CITY'\n",
      " 'LIVE_CITY_NOT_WORK_CITY' 'ORGANIZATION_TYPE' 'EXT_SOURCE_1'\n",
      " 'EXT_SOURCE_2' 'EXT_SOURCE_3' 'APARTMENTS_AVG' 'BASEMENTAREA_AVG'\n",
      " 'YEARS_BEGINEXPLUATATION_AVG' 'YEARS_BUILD_AVG' 'COMMONAREA_AVG'\n",
      " 'ELEVATORS_AVG' 'ENTRANCES_AVG' 'FLOORSMAX_AVG' 'FLOORSMIN_AVG'\n",
      " 'LANDAREA_AVG' 'LIVINGAPARTMENTS_AVG' 'LIVINGAREA_AVG'\n",
      " 'NONLIVINGAPARTMENTS_AVG' 'NONLIVINGAREA_AVG' 'APARTMENTS_MODE'\n",
      " 'BASEMENTAREA_MODE' 'YEARS_BEGINEXPLUATATION_MODE' 'YEARS_BUILD_MODE'\n",
      " 'COMMONAREA_MODE' 'ELEVATORS_MODE' 'ENTRANCES_MODE' 'FLOORSMAX_MODE'\n",
      " 'FLOORSMIN_MODE' 'LANDAREA_MODE' 'LIVINGAPARTMENTS_MODE'\n",
      " 'LIVINGAREA_MODE' 'NONLIVINGAPARTMENTS_MODE' 'NONLIVINGAREA_MODE'\n",
      " 'APARTMENTS_MEDI' 'BASEMENTAREA_MEDI' 'YEARS_BEGINEXPLUATATION_MEDI'\n",
      " 'YEARS_BUILD_MEDI' 'COMMONAREA_MEDI' 'ELEVATORS_MEDI' 'ENTRANCES_MEDI'\n",
      " 'FLOORSMAX_MEDI' 'FLOORSMIN_MEDI' 'LANDAREA_MEDI' 'LIVINGAPARTMENTS_MEDI'\n",
      " 'LIVINGAREA_MEDI' 'NONLIVINGAPARTMENTS_MEDI' 'NONLIVINGAREA_MEDI'\n",
      " 'FONDKAPREMONT_MODE' 'HOUSETYPE_MODE' 'TOTALAREA_MODE'\n",
      " 'WALLSMATERIAL_MODE' 'EMERGENCYSTATE_MODE' 'OBS_30_CNT_SOCIAL_CIRCLE'\n",
      " 'DEF_30_CNT_SOCIAL_CIRCLE' 'OBS_60_CNT_SOCIAL_CIRCLE'\n",
      " 'DEF_60_CNT_SOCIAL_CIRCLE' 'DAYS_LAST_PHONE_CHANGE' 'FLAG_DOCUMENT_2'\n",
      " 'FLAG_DOCUMENT_3' 'FLAG_DOCUMENT_4' 'FLAG_DOCUMENT_5' 'FLAG_DOCUMENT_6'\n",
      " 'FLAG_DOCUMENT_7' 'FLAG_DOCUMENT_8' 'FLAG_DOCUMENT_9' 'FLAG_DOCUMENT_10'\n",
      " 'FLAG_DOCUMENT_11' 'FLAG_DOCUMENT_12' 'FLAG_DOCUMENT_13'\n",
      " 'FLAG_DOCUMENT_14' 'FLAG_DOCUMENT_15' 'FLAG_DOCUMENT_16'\n",
      " 'FLAG_DOCUMENT_17' 'FLAG_DOCUMENT_18' 'FLAG_DOCUMENT_19'\n",
      " 'FLAG_DOCUMENT_20' 'FLAG_DOCUMENT_21' 'AMT_REQ_CREDIT_BUREAU_HOUR'\n",
      " 'AMT_REQ_CREDIT_BUREAU_DAY' 'AMT_REQ_CREDIT_BUREAU_WEEK'\n",
      " 'AMT_REQ_CREDIT_BUREAU_MON' 'AMT_REQ_CREDIT_BUREAU_QRT'\n",
      " 'AMT_REQ_CREDIT_BUREAU_YEAR' 'BUREAU_AMT_CREDIT_SUM_SUM'\n",
      " 'BUREAU_AMT_CREDIT_SUM_MEAN' 'BUREAU_AMT_CREDIT_SUM_MAX'\n",
      " 'BUREAU_AMT_CREDIT_SUM_DEBT_SUM' 'BUREAU_AMT_CREDIT_SUM_DEBT_MEAN'\n",
      " 'BUREAU_AMT_CREDIT_SUM_DEBT_MAX' 'BUREAU_DAYS_CREDIT_MEAN'\n",
      " 'BUREAU_DAYS_CREDIT_MIN' 'POS_SK_DPD' 'POS_SK_DPD_DEF'\n",
      " 'POS_CNT_INSTALMENT' 'POS_CNT_INSTALMENT_FUTURE'\n",
      " 'CREDIT_CARD_AMT_BALANCE' 'CREDIT_CARD_AMT_CREDIT_LIMIT_ACTUAL'\n",
      " 'CREDIT_CARD_AMT_DRAWINGS_ATM_CURRENT' 'CREDIT_CARD_AMT_PAYMENT_CURRENT'\n",
      " 'PREVIOUS_AMT_APPLICATION' 'PREVIOUS_AMT_CREDIT' 'PREVIOUS_CNT_PAYMENT'\n",
      " 'INSTALLMENTS_AMT_INSTALMENT' 'INSTALLMENTS_AMT_PAYMENT'\n",
      " 'INSTALLMENTS_NUM_INSTALMENT_NUMBER' 'income_credit_ratio' 'age'\n",
      " 'years_employed' 'log_AMT_INCOME_TOTAL' 'annuity_income_ratio'\n",
      " 'log_AMT_CREDIT' 'is_employed' 'credit_income_ratio'\n",
      " 'debt_to_income_ratio']\n"
     ]
    }
   ],
   "source": [
    "print(best_model.feature_names_in_)  # Liste des colonnes utilisées pour entraîner le modèle\n"
   ]
  },
  {
   "cell_type": "code",
   "execution_count": 63,
   "metadata": {},
   "outputs": [
    {
     "name": "stderr",
     "output_type": "stream",
     "text": [
      "2024/12/04 10:40:52 WARNING mlflow.models.model: Model logged without a signature and input example. Please set `input_example` parameter when logging the model to auto infer the model signature.\n",
      "2024/12/04 10:40:52 INFO mlflow.tracking._tracking_service.client: 🏃 View run fun-grub-856 at: http://localhost:5000/#/experiments/0/runs/c767a154d6174462a185f363eba2209b.\n",
      "2024/12/04 10:40:52 INFO mlflow.tracking._tracking_service.client: 🧪 View experiment at: http://localhost:5000/#/experiments/0.\n"
     ]
    }
   ],
   "source": [
    "\n",
    "    \n",
    "from sklearn.metrics import roc_curve\n",
    "import matplotlib.pyplot as plt\n",
    "import mlflow\n",
    "import joblib\n",
    "\n",
    "# Générer les coordonnées de la courbe ROC\n",
    "fpr, tpr, thresholds = roc_curve(y_test, y_pred_proba)\n",
    "\n",
    "# Tracer la courbe ROC\n",
    "plt.figure(figsize=(8, 6))\n",
    "plt.plot(fpr, tpr, label=f\"ROC Curve (AUC = {auc_score_xgb:.4f})\")\n",
    "plt.plot([0, 1], [0, 1], 'k--', label=\"Random Classifier\")\n",
    "plt.xlabel(\"False Positive Rate\")\n",
    "plt.ylabel(\"True Positive Rate\")\n",
    "plt.title(\"Receiver Operating Characteristic (ROC) Curve\")\n",
    "plt.legend(loc=\"lower right\")\n",
    "roc_curve_path = '/home/machou/openclassroom/mlflow_project/models/roc_curve.png'\n",
    "plt.savefig(roc_curve_path)  # Sauvegarder la courbe ROC comme image\n",
    "plt.close()\n",
    "\n",
    "# --- Enregistrement du modèle et des résultats dans MLflow ---\n",
    "with mlflow.start_run() as run:\n",
    "    # Log des meilleurs hyperparamètres\n",
    "    for param, value in grid_search.best_params_.items():\n",
    "        mlflow.log_param(param, value)\n",
    "\n",
    "    # Log du modèle XGBoost avec SMOTE\n",
    "    mlflow.sklearn.log_model(best_model, \"xgb_model_with_smote_and_cost\")\n",
    "\n",
    "    # Log des métriques d'évaluation\n",
    "    mlflow.log_metric(\"auc\", auc_score_xgb)\n",
    "    mlflow.log_metric(\"accuracy\", accuracy_xgb)\n",
    "    mlflow.log_metric(\"f1_score\", f1_xgb)\n",
    "    mlflow.log_metric(\"precision\", precision_xgb)\n",
    "    mlflow.log_metric(\"recall\", recall_xgb)\n",
    "    mlflow.log_metric(\"best_threshold\", best_threshold)\n",
    "\n",
    "    # Log du meilleur score de coût métier\n",
    "    mlflow.log_metric(\"best_cost_score\", -grid_search.best_score_)\n",
    "\n",
    "    # Log de la courbe ROC comme artefact\n",
    "    mlflow.log_artifact(roc_curve_path, artifact_path=\"plots\")\n",
    "    "
   ]
  },
  {
   "cell_type": "code",
   "execution_count": null,
   "metadata": {},
   "outputs": [],
   "source": [
    "### Matrice de Confusion"
   ]
  },
  {
   "cell_type": "code",
   "execution_count": 37,
   "metadata": {},
   "outputs": [
    {
     "name": "stdout",
     "output_type": "stream",
     "text": [
      "Vrais Positifs (TP) : 3348 : Cas où le modèle a correctement prédit la classe positive.\n",
      "Faux Positifs (FP) : 15773 : Cas où le modèle a prédit à tort la classe positive.\n",
      "Faux Négatifs (FN) : 1617 : Cas où le modèle a prédit à tort la classe négative.\n",
      "Vrais Négatifs (TN) : 40765 : Cas où le modèle a correctement prédit la classe négative.\n"
     ]
    },
    {
     "data": {
      "image/png": "[encoded data removed]",
      "text/plain": [
       "<Figure size 576x432 with 2 Axes>"
      ]
     },
     "metadata": {
      "needs_background": "light"
     },
     "output_type": "display_data"
    }
   ],
   "source": [
    "import seaborn as sns\n",
    "import matplotlib.pyplot as plt\n",
    "from sklearn.metrics import confusion_matrix\n",
    "\n",
    "# 1. Calculer les prédictions binaires avec le seuil optimal\n",
    "y_pred_bin = (y_pred_proba >= best_threshold).astype(int)  # Appliquer le seuil optimal\n",
    "\n",
    "# 2. Calculer la matrice de confusion\n",
    "cm = confusion_matrix(y_test, y_pred_bin)\n",
    "\n",
    "# Extraire TP, FP, FN, TN à partir de la matrice de confusion\n",
    "TN, FP, FN, TP = cm.ravel()\n",
    "\n",
    "# 3. Afficher les résultats\n",
    "print(f\"Vrais Positifs (TP) : {TP} : Cas où le modèle a correctement prédit la classe positive.\")\n",
    "print(f\"Faux Positifs (FP) : {FP} : Cas où le modèle a prédit à tort la classe positive.\")\n",
    "print(f\"Faux Négatifs (FN) : {FN} : Cas où le modèle a prédit à tort la classe négative.\")\n",
    "print(f\"Vrais Négatifs (TN) : {TN} : Cas où le modèle a correctement prédit la classe négative.\")\n",
    "\n",
    "# 4. Afficher la matrice de confusion sous forme de heatmap\n",
    "plt.figure(figsize=(8, 6))\n",
    "sns.heatmap(cm, annot=True, fmt='d', cmap='Blues', xticklabels=['Classe 0', 'Classe 1'], yticklabels=['Classe 0', 'Classe 1'])\n",
    "plt.ylabel('Vrai label')\n",
    "plt.xlabel('Prédiction')\n",
    "plt.title('Matrice de confusion')\n",
    "plt.show()\n"
   ]
  },
  {
   "cell_type": "code",
   "execution_count": null,
   "metadata": {},
   "outputs": [],
   "source": [
    "### model mieux optimisé"
   ]
  },
  {
   "cell_type": "code",
   "execution_count": 16,
   "metadata": {},
   "outputs": [],
   "source": [
    "from sklearn.preprocessing import OneHotEncoder, StandardScaler\n",
    "from sklearn.compose import ColumnTransformer\n",
    "from sklearn.pipeline import Pipeline\n",
    "from sklearn.impute import SimpleImputer\n",
    "from sklearn.model_selection import train_test_split, StratifiedKFold\n",
    "from imblearn.over_sampling import SMOTE\n",
    "from imblearn.pipeline import Pipeline as ImbPipeline\n",
    "import xgboost as xgb\n",
    "from sklearn.metrics import make_scorer, roc_auc_score, confusion_matrix, accuracy_score, f1_score\n",
    "from sklearn.model_selection import GridSearchCV\n",
    "import numpy as np\n",
    "import joblib\n",
    "\n",
    "\n",
    "\n",
    "# Gestion des classes déséquilibrées avec SMOTE\n",
    "smote = SMOTE(sampling_strategy=0.5, random_state=42)\n",
    "\n",
    "# Initialisation du modèle XGBoost avec pondération des classes\n",
    "model_xgb = xgb.XGBClassifier(random_state=42, scale_pos_weight=12)\n",
    "\n",
    "# Pipeline complet : Prétraitement -> SMOTE -> Modèle\n",
    "pipeline_xgb = ImbPipeline([\n",
    "    ('preprocessor', preprocessor),\n",
    "    ('smote', smote),\n",
    "    ('model', model_xgb)\n",
    "])\n",
    "\n",
    "# Définition de la fonction de coût métier : 10 * FN + FP\n",
    "def cost_function(y_true, y_pred_proba, threshold=0.5):\n",
    "    y_pred_bin = (y_pred_proba >= threshold).astype(int)  # Conversion des probabilités en classes\n",
    "    tn, fp, fn, tp = confusion_matrix(y_true, y_pred_bin).ravel()  # Matrice de confusion\n",
    "    return 10 * fn + fp  # Coût métier\n",
    "\n",
    "# Création d'un scorer basé sur la fonction de coût\n",
    "def custom_cost_score(y_true, y_pred_proba, threshold=0.5):\n",
    "    return -cost_function(y_true, y_pred_proba, threshold)\n",
    "\n",
    "custom_scorer = make_scorer(custom_cost_score, greater_is_better=False)\n",
    "\n",
    "# Grille d'hyperparamètres pour GridSearchCV\n",
    "param_grid = {\n",
    "    'model__n_estimators': [ 220],\n",
    "    'model__max_depth': [10],\n",
    "    'model__learning_rate': [0.04],\n",
    "    'model__colsample_bytree': [1.0],\n",
    "    'model__gamma': [0.2],\n",
    "    'model__subsample': [0.8],\n",
    "    'model__scale_pos_weight': [11],  \n",
    "    \n",
    "}\n",
    "\n",
    "\n",
    "# Grille d'hyperparamètres pour GridSearchCV\n",
    "#param_grid = {\n",
    "  # 'model__n_estimators': [160],\n",
    " #   'model__max_depth': [8],\n",
    " #   'model__learning_rate': [0.04],\n",
    "    #'model__subsample': [1.0],\n",
    "  #  'model__colsample_bytree': [1.0],\n",
    "  #  'model__gamma': [0.2],\n",
    "   # 'model__min_child_weight': [5],\n",
    "   # 'model__reg_alpha': [0.01],  # L1 Regularization\n",
    "   # 'model__reg_lambda': [1.0],\n",
    "#}\n",
    "\n",
    "\n",
    "# Recherche d'hyperparamètres avec validation croisée stratifiée\n",
    "grid_search = GridSearchCV(\n",
    "    pipeline_xgb,\n",
    "    param_grid,\n",
    "    cv=StratifiedKFold(n_splits=5),\n",
    "    scoring=custom_scorer,\n",
    "    n_jobs=-1\n",
    ")\n"
   ]
  },
  {
   "cell_type": "code",
   "execution_count": 17,
   "metadata": {},
   "outputs": [
    {
     "name": "stderr",
     "output_type": "stream",
     "text": [
      "/home/machou/.local/lib/python3.8/site-packages/sklearn/preprocessing/_encoders.py:975: FutureWarning: `sparse` was renamed to `sparse_output` in version 1.2 and will be removed in 1.4. `sparse_output` is ignored unless you leave `sparse` to its default value.\n",
      "  warnings.warn(\n"
     ]
    },
    {
     "data": {
      "text/html": [
       "<style>#sk-container-id-1 {color: black;}#sk-container-id-1 pre{padding: 0;}#sk-container-id-1 div.sk-toggleable {background-color: white;}#sk-container-id-1 label.sk-toggleable__label {cursor: pointer;display: block;width: 100%;margin-bottom: 0;padding: 0.3em;box-sizing: border-box;text-align: center;}#sk-container-id-1 label.sk-toggleable__label-arrow:before {content: \"▸\";float: left;margin-right: 0.25em;color: #696969;}#sk-container-id-1 label.sk-toggleable__label-arrow:hover:before {color: black;}#sk-container-id-1 div.sk-estimator:hover label.sk-toggleable__label-arrow:before {color: black;}#sk-container-id-1 div.sk-toggleable__content {max-height: 0;max-width: 0;overflow: hidden;text-align: left;background-color: #f0f8ff;}#sk-container-id-1 div.sk-toggleable__content pre {margin: 0.2em;color: black;border-radius: 0.25em;background-color: #f0f8ff;}#sk-container-id-1 input.sk-toggleable__control:checked~div.sk-toggleable__content {max-height: 200px;max-width: 100%;overflow: auto;}#sk-container-id-1 input.sk-toggleable__control:checked~label.sk-toggleable__label-arrow:before {content: \"▾\";}#sk-container-id-1 div.sk-estimator input.sk-toggleable__control:checked~label.sk-toggleable__label {background-color: #d4ebff;}#sk-container-id-1 div.sk-label input.sk-toggleable__control:checked~label.sk-toggleable__label {background-color: #d4ebff;}#sk-container-id-1 input.sk-hidden--visually {border: 0;clip: rect(1px 1px 1px 1px);clip: rect(1px, 1px, 1px, 1px);height: 1px;margin: -1px;overflow: hidden;padding: 0;position: absolute;width: 1px;}#sk-container-id-1 div.sk-estimator {font-family: monospace;background-color: #f0f8ff;border: 1px dotted black;border-radius: 0.25em;box-sizing: border-box;margin-bottom: 0.5em;}#sk-container-id-1 div.sk-estimator:hover {background-color: #d4ebff;}#sk-container-id-1 div.sk-parallel-item::after {content: \"\";width: 100%;border-bottom: 1px solid gray;flex-grow: 1;}#sk-container-id-1 div.sk-label:hover label.sk-toggleable__label {background-color: #d4ebff;}#sk-container-id-1 div.sk-serial::before {content: \"\";position: absolute;border-left: 1px solid gray;box-sizing: border-box;top: 0;bottom: 0;left: 50%;z-index: 0;}#sk-container-id-1 div.sk-serial {display: flex;flex-direction: column;align-items: center;background-color: white;padding-right: 0.2em;padding-left: 0.2em;position: relative;}#sk-container-id-1 div.sk-item {position: relative;z-index: 1;}#sk-container-id-1 div.sk-parallel {display: flex;align-items: stretch;justify-content: center;background-color: white;position: relative;}#sk-container-id-1 div.sk-item::before, #sk-container-id-1 div.sk-parallel-item::before {content: \"\";position: absolute;border-left: 1px solid gray;box-sizing: border-box;top: 0;bottom: 0;left: 50%;z-index: -1;}#sk-container-id-1 div.sk-parallel-item {display: flex;flex-direction: column;z-index: 1;position: relative;background-color: white;}#sk-container-id-1 div.sk-parallel-item:first-child::after {align-self: flex-end;width: 50%;}#sk-container-id-1 div.sk-parallel-item:last-child::after {align-self: flex-start;width: 50%;}#sk-container-id-1 div.sk-parallel-item:only-child::after {width: 0;}#sk-container-id-1 div.sk-dashed-wrapped {border: 1px dashed gray;margin: 0 0.4em 0.5em 0.4em;box-sizing: border-box;padding-bottom: 0.4em;background-color: white;}#sk-container-id-1 div.sk-label label {font-family: monospace;font-weight: bold;display: inline-block;line-height: 1.2em;}#sk-container-id-1 div.sk-label-container {text-align: center;}#sk-container-id-1 div.sk-container {/* jupyter's `normalize.less` sets `[hidden] { display: none; }` but bootstrap.min.css set `[hidden] { display: none !important; }` so we also need the `!important` here to be able to override the default hidden behavior on the sphinx rendered scikit-learn.org. See: https://github.com/scikit-learn/scikit-learn/issues/21755 */display: inline-block !important;position: relative;}#sk-container-id-1 div.sk-text-repr-fallback {display: none;}</style><div id=\"sk-container-id-1\" class=\"sk-top-container\"><div class=\"sk-text-repr-fallback\"><pre>GridSearchCV(cv=StratifiedKFold(n_splits=5, random_state=None, shuffle=False),\n",
       "             estimator=Pipeline(steps=[(&#x27;preprocessor&#x27;,\n",
       "                                        ColumnTransformer(transformers=[(&#x27;num&#x27;,\n",
       "                                                                         Pipeline(steps=[(&#x27;imputer&#x27;,\n",
       "                                                                                          SimpleImputer()),\n",
       "                                                                                         (&#x27;scaler&#x27;,\n",
       "                                                                                          StandardScaler())]),\n",
       "                                                                         Index([&#x27;SK_ID_CURR&#x27;, &#x27;CNT_CHILDREN&#x27;, &#x27;AMT_INCOME_TOTAL&#x27;, &#x27;AMT_CREDIT&#x27;,\n",
       "       &#x27;AMT_ANNUITY&#x27;, &#x27;AMT_GOODS_PRICE&#x27;, &#x27;REGION_POPULATION_R...\n",
       "                                                      n_estimators=None,\n",
       "                                                      n_jobs=None,\n",
       "                                                      num_parallel_tree=None,\n",
       "                                                      random_state=42, ...))]),\n",
       "             n_jobs=-1,\n",
       "             param_grid={&#x27;model__colsample_bytree&#x27;: [1.0],\n",
       "                         &#x27;model__gamma&#x27;: [0.2], &#x27;model__learning_rate&#x27;: [0.04],\n",
       "                         &#x27;model__max_depth&#x27;: [10], &#x27;model__n_estimators&#x27;: [220],\n",
       "                         &#x27;model__scale_pos_weight&#x27;: [11],\n",
       "                         &#x27;model__subsample&#x27;: [0.8]},\n",
       "             scoring=make_scorer(custom_cost_score, greater_is_better=False))</pre><b>In a Jupyter environment, please rerun this cell to show the HTML representation or trust the notebook. <br />On GitHub, the HTML representation is unable to render, please try loading this page with nbviewer.org.</b></div><div class=\"sk-container\" hidden><div class=\"sk-item sk-dashed-wrapped\"><div class=\"sk-label-container\"><div class=\"sk-label sk-toggleable\"><input class=\"sk-toggleable__control sk-hidden--visually\" id=\"sk-estimator-id-1\" type=\"checkbox\" ><label for=\"sk-estimator-id-1\" class=\"sk-toggleable__label sk-toggleable__label-arrow\">GridSearchCV</label><div class=\"sk-toggleable__content\"><pre>GridSearchCV(cv=StratifiedKFold(n_splits=5, random_state=None, shuffle=False),\n",
       "             estimator=Pipeline(steps=[(&#x27;preprocessor&#x27;,\n",
       "                                        ColumnTransformer(transformers=[(&#x27;num&#x27;,\n",
       "                                                                         Pipeline(steps=[(&#x27;imputer&#x27;,\n",
       "                                                                                          SimpleImputer()),\n",
       "                                                                                         (&#x27;scaler&#x27;,\n",
       "                                                                                          StandardScaler())]),\n",
       "                                                                         Index([&#x27;SK_ID_CURR&#x27;, &#x27;CNT_CHILDREN&#x27;, &#x27;AMT_INCOME_TOTAL&#x27;, &#x27;AMT_CREDIT&#x27;,\n",
       "       &#x27;AMT_ANNUITY&#x27;, &#x27;AMT_GOODS_PRICE&#x27;, &#x27;REGION_POPULATION_R...\n",
       "                                                      n_estimators=None,\n",
       "                                                      n_jobs=None,\n",
       "                                                      num_parallel_tree=None,\n",
       "                                                      random_state=42, ...))]),\n",
       "             n_jobs=-1,\n",
       "             param_grid={&#x27;model__colsample_bytree&#x27;: [1.0],\n",
       "                         &#x27;model__gamma&#x27;: [0.2], &#x27;model__learning_rate&#x27;: [0.04],\n",
       "                         &#x27;model__max_depth&#x27;: [10], &#x27;model__n_estimators&#x27;: [220],\n",
       "                         &#x27;model__scale_pos_weight&#x27;: [11],\n",
       "                         &#x27;model__subsample&#x27;: [0.8]},\n",
       "             scoring=make_scorer(custom_cost_score, greater_is_better=False))</pre></div></div></div><div class=\"sk-parallel\"><div class=\"sk-parallel-item\"><div class=\"sk-item\"><div class=\"sk-label-container\"><div class=\"sk-label sk-toggleable\"><input class=\"sk-toggleable__control sk-hidden--visually\" id=\"sk-estimator-id-2\" type=\"checkbox\" ><label for=\"sk-estimator-id-2\" class=\"sk-toggleable__label sk-toggleable__label-arrow\">estimator: Pipeline</label><div class=\"sk-toggleable__content\"><pre>Pipeline(steps=[(&#x27;preprocessor&#x27;,\n",
       "                 ColumnTransformer(transformers=[(&#x27;num&#x27;,\n",
       "                                                  Pipeline(steps=[(&#x27;imputer&#x27;,\n",
       "                                                                   SimpleImputer()),\n",
       "                                                                  (&#x27;scaler&#x27;,\n",
       "                                                                   StandardScaler())]),\n",
       "                                                  Index([&#x27;SK_ID_CURR&#x27;, &#x27;CNT_CHILDREN&#x27;, &#x27;AMT_INCOME_TOTAL&#x27;, &#x27;AMT_CREDIT&#x27;,\n",
       "       &#x27;AMT_ANNUITY&#x27;, &#x27;AMT_GOODS_PRICE&#x27;, &#x27;REGION_POPULATION_RELATIVE&#x27;,\n",
       "       &#x27;DAYS_BIRTH&#x27;, &#x27;DAYS_EMPLOYED&#x27;, &#x27;DAYS_REGISTRATION&#x27;,\n",
       "       ...\n",
       "       &#x27;INSTALLMENTS_NUM_INSTALM...\n",
       "                               feature_types=None, gamma=None, grow_policy=None,\n",
       "                               importance_type=None,\n",
       "                               interaction_constraints=None, learning_rate=None,\n",
       "                               max_bin=None, max_cat_threshold=None,\n",
       "                               max_cat_to_onehot=None, max_delta_step=None,\n",
       "                               max_depth=None, max_leaves=None,\n",
       "                               min_child_weight=None, missing=nan,\n",
       "                               monotone_constraints=None, multi_strategy=None,\n",
       "                               n_estimators=None, n_jobs=None,\n",
       "                               num_parallel_tree=None, random_state=42, ...))])</pre></div></div></div><div class=\"sk-serial\"><div class=\"sk-item\"><div class=\"sk-serial\"><div class=\"sk-item sk-dashed-wrapped\"><div class=\"sk-label-container\"><div class=\"sk-label sk-toggleable\"><input class=\"sk-toggleable__control sk-hidden--visually\" id=\"sk-estimator-id-3\" type=\"checkbox\" ><label for=\"sk-estimator-id-3\" class=\"sk-toggleable__label sk-toggleable__label-arrow\">preprocessor: ColumnTransformer</label><div class=\"sk-toggleable__content\"><pre>ColumnTransformer(transformers=[(&#x27;num&#x27;,\n",
       "                                 Pipeline(steps=[(&#x27;imputer&#x27;, SimpleImputer()),\n",
       "                                                 (&#x27;scaler&#x27;, StandardScaler())]),\n",
       "                                 Index([&#x27;SK_ID_CURR&#x27;, &#x27;CNT_CHILDREN&#x27;, &#x27;AMT_INCOME_TOTAL&#x27;, &#x27;AMT_CREDIT&#x27;,\n",
       "       &#x27;AMT_ANNUITY&#x27;, &#x27;AMT_GOODS_PRICE&#x27;, &#x27;REGION_POPULATION_RELATIVE&#x27;,\n",
       "       &#x27;DAYS_BIRTH&#x27;, &#x27;DAYS_EMPLOYED&#x27;, &#x27;DAYS_REGISTRATION&#x27;,\n",
       "       ...\n",
       "       &#x27;INSTALLMENTS_NUM_INSTALMENT_NUMBER&#x27;, &#x27;income_credit_ratio...\n",
       "                                                                   &#x27;ORGANIZATION_TYPE&#x27;])]),\n",
       "                                 Index([&#x27;NAME_CONTRACT_TYPE&#x27;, &#x27;CODE_GENDER&#x27;, &#x27;FLAG_OWN_CAR&#x27;, &#x27;FLAG_OWN_REALTY&#x27;,\n",
       "       &#x27;NAME_TYPE_SUITE&#x27;, &#x27;NAME_INCOME_TYPE&#x27;, &#x27;NAME_EDUCATION_TYPE&#x27;,\n",
       "       &#x27;NAME_FAMILY_STATUS&#x27;, &#x27;NAME_HOUSING_TYPE&#x27;, &#x27;OCCUPATION_TYPE&#x27;,\n",
       "       &#x27;WEEKDAY_APPR_PROCESS_START&#x27;, &#x27;ORGANIZATION_TYPE&#x27;, &#x27;FONDKAPREMONT_MODE&#x27;,\n",
       "       &#x27;HOUSETYPE_MODE&#x27;, &#x27;WALLSMATERIAL_MODE&#x27;, &#x27;EMERGENCYSTATE_MODE&#x27;],\n",
       "      dtype=&#x27;object&#x27;))])</pre></div></div></div><div class=\"sk-parallel\"><div class=\"sk-parallel-item\"><div class=\"sk-item\"><div class=\"sk-label-container\"><div class=\"sk-label sk-toggleable\"><input class=\"sk-toggleable__control sk-hidden--visually\" id=\"sk-estimator-id-4\" type=\"checkbox\" ><label for=\"sk-estimator-id-4\" class=\"sk-toggleable__label sk-toggleable__label-arrow\">num</label><div class=\"sk-toggleable__content\"><pre>Index([&#x27;SK_ID_CURR&#x27;, &#x27;CNT_CHILDREN&#x27;, &#x27;AMT_INCOME_TOTAL&#x27;, &#x27;AMT_CREDIT&#x27;,\n",
       "       &#x27;AMT_ANNUITY&#x27;, &#x27;AMT_GOODS_PRICE&#x27;, &#x27;REGION_POPULATION_RELATIVE&#x27;,\n",
       "       &#x27;DAYS_BIRTH&#x27;, &#x27;DAYS_EMPLOYED&#x27;, &#x27;DAYS_REGISTRATION&#x27;,\n",
       "       ...\n",
       "       &#x27;INSTALLMENTS_NUM_INSTALMENT_NUMBER&#x27;, &#x27;income_credit_ratio&#x27;, &#x27;age&#x27;,\n",
       "       &#x27;years_employed&#x27;, &#x27;log_AMT_INCOME_TOTAL&#x27;, &#x27;annuity_income_ratio&#x27;,\n",
       "       &#x27;log_AMT_CREDIT&#x27;, &#x27;is_employed&#x27;, &#x27;credit_income_ratio&#x27;,\n",
       "       &#x27;debt_to_income_ratio&#x27;],\n",
       "      dtype=&#x27;object&#x27;, length=136)</pre></div></div></div><div class=\"sk-serial\"><div class=\"sk-item\"><div class=\"sk-serial\"><div class=\"sk-item\"><div class=\"sk-estimator sk-toggleable\"><input class=\"sk-toggleable__control sk-hidden--visually\" id=\"sk-estimator-id-5\" type=\"checkbox\" ><label for=\"sk-estimator-id-5\" class=\"sk-toggleable__label sk-toggleable__label-arrow\">SimpleImputer</label><div class=\"sk-toggleable__content\"><pre>SimpleImputer()</pre></div></div></div><div class=\"sk-item\"><div class=\"sk-estimator sk-toggleable\"><input class=\"sk-toggleable__control sk-hidden--visually\" id=\"sk-estimator-id-6\" type=\"checkbox\" ><label for=\"sk-estimator-id-6\" class=\"sk-toggleable__label sk-toggleable__label-arrow\">StandardScaler</label><div class=\"sk-toggleable__content\"><pre>StandardScaler()</pre></div></div></div></div></div></div></div></div><div class=\"sk-parallel-item\"><div class=\"sk-item\"><div class=\"sk-label-container\"><div class=\"sk-label sk-toggleable\"><input class=\"sk-toggleable__control sk-hidden--visually\" id=\"sk-estimator-id-7\" type=\"checkbox\" ><label for=\"sk-estimator-id-7\" class=\"sk-toggleable__label sk-toggleable__label-arrow\">cat</label><div class=\"sk-toggleable__content\"><pre>Index([&#x27;NAME_CONTRACT_TYPE&#x27;, &#x27;CODE_GENDER&#x27;, &#x27;FLAG_OWN_CAR&#x27;, &#x27;FLAG_OWN_REALTY&#x27;,\n",
       "       &#x27;NAME_TYPE_SUITE&#x27;, &#x27;NAME_INCOME_TYPE&#x27;, &#x27;NAME_EDUCATION_TYPE&#x27;,\n",
       "       &#x27;NAME_FAMILY_STATUS&#x27;, &#x27;NAME_HOUSING_TYPE&#x27;, &#x27;OCCUPATION_TYPE&#x27;,\n",
       "       &#x27;WEEKDAY_APPR_PROCESS_START&#x27;, &#x27;ORGANIZATION_TYPE&#x27;, &#x27;FONDKAPREMONT_MODE&#x27;,\n",
       "       &#x27;HOUSETYPE_MODE&#x27;, &#x27;WALLSMATERIAL_MODE&#x27;, &#x27;EMERGENCYSTATE_MODE&#x27;],\n",
       "      dtype=&#x27;object&#x27;)</pre></div></div></div><div class=\"sk-serial\"><div class=\"sk-item sk-dashed-wrapped\"><div class=\"sk-parallel\"><div class=\"sk-parallel-item\"><div class=\"sk-item\"><div class=\"sk-label-container\"><div class=\"sk-label sk-toggleable\"><input class=\"sk-toggleable__control sk-hidden--visually\" id=\"sk-estimator-id-8\" type=\"checkbox\" ><label for=\"sk-estimator-id-8\" class=\"sk-toggleable__label sk-toggleable__label-arrow\">low_cardinality</label><div class=\"sk-toggleable__content\"><pre>[&#x27;NAME_CONTRACT_TYPE&#x27;, &#x27;CODE_GENDER&#x27;, &#x27;FLAG_OWN_CAR&#x27;, &#x27;FLAG_OWN_REALTY&#x27;, &#x27;NAME_TYPE_SUITE&#x27;, &#x27;NAME_INCOME_TYPE&#x27;, &#x27;NAME_EDUCATION_TYPE&#x27;, &#x27;NAME_FAMILY_STATUS&#x27;, &#x27;NAME_HOUSING_TYPE&#x27;, &#x27;WEEKDAY_APPR_PROCESS_START&#x27;, &#x27;FONDKAPREMONT_MODE&#x27;, &#x27;HOUSETYPE_MODE&#x27;, &#x27;WALLSMATERIAL_MODE&#x27;, &#x27;EMERGENCYSTATE_MODE&#x27;]</pre></div></div></div><div class=\"sk-serial\"><div class=\"sk-item\"><div class=\"sk-serial\"><div class=\"sk-item\"><div class=\"sk-estimator sk-toggleable\"><input class=\"sk-toggleable__control sk-hidden--visually\" id=\"sk-estimator-id-9\" type=\"checkbox\" ><label for=\"sk-estimator-id-9\" class=\"sk-toggleable__label sk-toggleable__label-arrow\">SimpleImputer</label><div class=\"sk-toggleable__content\"><pre>SimpleImputer(strategy=&#x27;most_frequent&#x27;)</pre></div></div></div><div class=\"sk-item\"><div class=\"sk-estimator sk-toggleable\"><input class=\"sk-toggleable__control sk-hidden--visually\" id=\"sk-estimator-id-10\" type=\"checkbox\" ><label for=\"sk-estimator-id-10\" class=\"sk-toggleable__label sk-toggleable__label-arrow\">OneHotEncoder</label><div class=\"sk-toggleable__content\"><pre>OneHotEncoder(handle_unknown=&#x27;ignore&#x27;, sparse=False)</pre></div></div></div></div></div></div></div></div><div class=\"sk-parallel-item\"><div class=\"sk-item\"><div class=\"sk-label-container\"><div class=\"sk-label sk-toggleable\"><input class=\"sk-toggleable__control sk-hidden--visually\" id=\"sk-estimator-id-11\" type=\"checkbox\" ><label for=\"sk-estimator-id-11\" class=\"sk-toggleable__label sk-toggleable__label-arrow\">high_cardinality</label><div class=\"sk-toggleable__content\"><pre>[&#x27;OCCUPATION_TYPE&#x27;, &#x27;ORGANIZATION_TYPE&#x27;]</pre></div></div></div><div class=\"sk-serial\"><div class=\"sk-item\"><div class=\"sk-serial\"><div class=\"sk-item\"><div class=\"sk-estimator sk-toggleable\"><input class=\"sk-toggleable__control sk-hidden--visually\" id=\"sk-estimator-id-12\" type=\"checkbox\" ><label for=\"sk-estimator-id-12\" class=\"sk-toggleable__label sk-toggleable__label-arrow\">SimpleImputer</label><div class=\"sk-toggleable__content\"><pre>SimpleImputer(strategy=&#x27;most_frequent&#x27;)</pre></div></div></div><div class=\"sk-item\"><div class=\"sk-estimator sk-toggleable\"><input class=\"sk-toggleable__control sk-hidden--visually\" id=\"sk-estimator-id-13\" type=\"checkbox\" ><label for=\"sk-estimator-id-13\" class=\"sk-toggleable__label sk-toggleable__label-arrow\">TargetEncoder</label><div class=\"sk-toggleable__content\"><pre>TargetEncoder()</pre></div></div></div></div></div></div></div></div></div></div></div></div></div></div></div><div class=\"sk-item\"><div class=\"sk-estimator sk-toggleable\"><input class=\"sk-toggleable__control sk-hidden--visually\" id=\"sk-estimator-id-14\" type=\"checkbox\" ><label for=\"sk-estimator-id-14\" class=\"sk-toggleable__label sk-toggleable__label-arrow\">SMOTE</label><div class=\"sk-toggleable__content\"><pre>SMOTE(random_state=42, sampling_strategy=0.5)</pre></div></div></div><div class=\"sk-item\"><div class=\"sk-estimator sk-toggleable\"><input class=\"sk-toggleable__control sk-hidden--visually\" id=\"sk-estimator-id-15\" type=\"checkbox\" ><label for=\"sk-estimator-id-15\" class=\"sk-toggleable__label sk-toggleable__label-arrow\">XGBClassifier</label><div class=\"sk-toggleable__content\"><pre>XGBClassifier(base_score=None, booster=None, callbacks=None,\n",
       "              colsample_bylevel=None, colsample_bynode=None,\n",
       "              colsample_bytree=None, device=None, early_stopping_rounds=None,\n",
       "              enable_categorical=False, eval_metric=None, feature_types=None,\n",
       "              gamma=None, grow_policy=None, importance_type=None,\n",
       "              interaction_constraints=None, learning_rate=None, max_bin=None,\n",
       "              max_cat_threshold=None, max_cat_to_onehot=None,\n",
       "              max_delta_step=None, max_depth=None, max_leaves=None,\n",
       "              min_child_weight=None, missing=nan, monotone_constraints=None,\n",
       "              multi_strategy=None, n_estimators=None, n_jobs=None,\n",
       "              num_parallel_tree=None, random_state=42, ...)</pre></div></div></div></div></div></div></div></div></div></div></div></div>"
      ],
      "text/plain": [
       "GridSearchCV(cv=StratifiedKFold(n_splits=5, random_state=None, shuffle=False),\n",
       "             estimator=Pipeline(steps=[('preprocessor',\n",
       "                                        ColumnTransformer(transformers=[('num',\n",
       "                                                                         Pipeline(steps=[('imputer',\n",
       "                                                                                          SimpleImputer()),\n",
       "                                                                                         ('scaler',\n",
       "                                                                                          StandardScaler())]),\n",
       "                                                                         Index(['SK_ID_CURR', 'CNT_CHILDREN', 'AMT_INCOME_TOTAL', 'AMT_CREDIT',\n",
       "       'AMT_ANNUITY', 'AMT_GOODS_PRICE', 'REGION_POPULATION_R...\n",
       "                                                      n_estimators=None,\n",
       "                                                      n_jobs=None,\n",
       "                                                      num_parallel_tree=None,\n",
       "                                                      random_state=42, ...))]),\n",
       "             n_jobs=-1,\n",
       "             param_grid={'model__colsample_bytree': [1.0],\n",
       "                         'model__gamma': [0.2], 'model__learning_rate': [0.04],\n",
       "                         'model__max_depth': [10], 'model__n_estimators': [220],\n",
       "                         'model__scale_pos_weight': [11],\n",
       "                         'model__subsample': [0.8]},\n",
       "             scoring=make_scorer(custom_cost_score, greater_is_better=False))"
      ]
     },
     "execution_count": 17,
     "metadata": {},
     "output_type": "execute_result"
    }
   ],
   "source": [
    "\n",
    "# Entraînement du modèle\n",
    "grid_search.fit(X_train_final, y_train_final)\n",
    "\n"
   ]
  },
  {
   "cell_type": "code",
   "execution_count": 18,
   "metadata": {},
   "outputs": [
    {
     "name": "stdout",
     "output_type": "stream",
     "text": [
      "Meilleurs hyperparamètres: {'model__colsample_bytree': 1.0, 'model__gamma': 0.2, 'model__learning_rate': 0.04, 'model__max_depth': 10, 'model__n_estimators': 220, 'model__scale_pos_weight': 11, 'model__subsample': 0.8}\n",
      "Meilleur score de coût métier: -22064.2\n",
      "AUC : 0.7565\n",
      "Accuracy : 0.7914\n",
      "F1-Score : 0.2915\n",
      "Seuil optimal pour le score métier : 0.3700\n"
     ]
    }
   ],
   "source": [
    "# Meilleurs hyperparamètres et score associé\n",
    "print(\"Meilleurs hyperparamètres:\", grid_search.best_params_)\n",
    "print(\"Meilleur score de coût métier:\", -grid_search.best_score_)\n",
    "\n",
    "# Prédictions sur les données de test\n",
    "best_model = grid_search.best_estimator_\n",
    "y_pred_proba = best_model.predict_proba(X_test)[:, 1]  # Probabilités pour la classe positive\n",
    "\n",
    "# Évaluation des performances\n",
    "y_pred_bin = (y_pred_proba >= 0.5).astype(int)  # Classes prédictes avec seuil de 0.5\n",
    "auc_score_xgb = roc_auc_score(y_test, y_pred_proba)  # AUC\n",
    "accuracy_xgb = accuracy_score(y_test, y_pred_bin)  # Accuracy\n",
    "f1_xgb = f1_score(y_test, y_pred_bin)  # F1-score\n",
    "\n",
    "# Recherche du seuil optimal pour minimiser le coût métier\n",
    "thresholds = np.arange(0.0, 1.0, 0.01)#thresholds = np.arange(0.0, 1.05, 0.05)\n",
    "costs = [cost_function(y_test, y_pred_proba, threshold=t) for t in thresholds]\n",
    "best_threshold = thresholds[np.argmin(costs)]\n",
    "\n",
    "# Affichage des résultats\n",
    "print(f'AUC : {auc_score_xgb:.4f}')\n",
    "print(f'Accuracy : {accuracy_xgb:.4f}')\n",
    "print(f'F1-Score : {f1_xgb:.4f}')\n",
    "print(f'Seuil optimal pour le score métier : {best_threshold:.4f}')\n",
    "\n",
    "# Sauvegarde du meilleur modèle\n",
    "#joblib.dump(best_model, '/path/to/model_xgb_with_smote.pkl')\n"
   ]
  },
  {
   "cell_type": "code",
   "execution_count": 38,
   "metadata": {},
   "outputs": [
    {
     "ename": "NameError",
     "evalue": "name 'shap' is not defined",
     "output_type": "error",
     "traceback": [
      "\u001b[0;31m---------------------------------------------------------------------------\u001b[0m",
      "\u001b[0;31mNameError\u001b[0m                                 Traceback (most recent call last)",
      "Input \u001b[0;32mIn [38]\u001b[0m, in \u001b[0;36m<cell line: 8>\u001b[0;34m()\u001b[0m\n\u001b[1;32m      5\u001b[0m X_test_transformed \u001b[38;5;241m=\u001b[39m preprocessor\u001b[38;5;241m.\u001b[39mtransform(X_test)\n\u001b[1;32m      7\u001b[0m \u001b[38;5;66;03m# Initialisation de l'explainer SHAP avec votre modèle\u001b[39;00m\n\u001b[0;32m----> 8\u001b[0m explainer \u001b[38;5;241m=\u001b[39m \u001b[43mshap\u001b[49m\u001b[38;5;241m.\u001b[39mExplainer(best_model\u001b[38;5;241m.\u001b[39mnamed_steps[\u001b[38;5;124m'\u001b[39m\u001b[38;5;124mmodel\u001b[39m\u001b[38;5;124m'\u001b[39m])\n\u001b[1;32m     10\u001b[0m \u001b[38;5;66;03m# Calcul des valeurs SHAP pour les données transformées de test\u001b[39;00m\n\u001b[1;32m     11\u001b[0m shap_values \u001b[38;5;241m=\u001b[39m explainer(X_test_transformed)\n",
      "\u001b[0;31mNameError\u001b[0m: name 'shap' is not defined"
     ]
    }
   ],
   "source": [
    "# Séparation des données d'origine en train et test\n",
    "#X_train, X_test, y_train, y_test = train_test_split(X, y, test_size=0.2, random_state=42, stratify=y)\n",
    "\n",
    "# Prétraitement et transformation sur l'ensemble de test\n",
    "X_test_transformed = preprocessor.transform(X_test)\n",
    "\n",
    "# Initialisation de l'explainer SHAP avec votre modèle\n",
    "explainer = shap.Explainer(best_model.named_steps['model'])\n",
    "\n",
    "# Calcul des valeurs SHAP pour les données transformées de test\n",
    "shap_values = explainer(X_test_transformed)\n",
    "\n",
    "\n"
   ]
  },
  {
   "cell_type": "code",
   "execution_count": null,
   "metadata": {},
   "outputs": [],
   "source": [
    "# Visualisation de l'importance globale des caractéristiques\n",
    "shap.summary_plot(shap_values, X_test_transformed)"
   ]
  },
  {
   "cell_type": "code",
   "execution_count": null,
   "metadata": {},
   "outputs": [],
   "source": [
    "# Si X_test est un DataFrame pandas\n",
    "print(\"Noms des colonnes dans X_test:\")\n",
    "print(X_test.columns)\n",
    "\n",
    "# Après transformation, X_test_transformed peut être un tableau NumPy, donc utilisez all_feature_names\n",
    "print(\"\\nNoms des colonnes après transformation:\")\n",
    "print(all_feature_names)\n"
   ]
  },
  {
   "cell_type": "code",
   "execution_count": null,
   "metadata": {},
   "outputs": [],
   "source": [
    "# Affichage de l'importance globale des caractéristiques sous forme de graphique à barres\n",
    "shap.summary_plot(shap_values, X_test_transformed, plot_type=\"bar\")\n"
   ]
  },
  {
   "cell_type": "code",
   "execution_count": null,
   "metadata": {},
   "outputs": [],
   "source": [
    "# Appliquer la transformation sur X_test pour voir le résultat\n",
    "X_test_transformed = preprocessor.transform(X_test)\n",
    "\n",
    "# Affichez les dimensions de X_test_transformed\n",
    "print(\"Dimensions de X_test_transformed:\", X_test_transformed.shape)\n"
   ]
  },
  {
   "cell_type": "code",
   "execution_count": null,
   "metadata": {},
   "outputs": [],
   "source": [
    "# utlisation de RandomunderSampler a la place de smote pour comparer les resultat :"
   ]
  },
  {
   "cell_type": "code",
   "execution_count": 20,
   "metadata": {},
   "outputs": [
    {
     "name": "stdout",
     "output_type": "stream",
     "text": [
      "Aperçu des données cibles avant transformation :\n",
      "181648    0\n",
      "229245    0\n",
      "122525    1\n",
      "306311    1\n",
      "300658    0\n",
      "Name: TARGET, dtype: int64\n",
      "Valeurs uniques des cibles :\n",
      "[0 1]\n"
     ]
    },
    {
     "name": "stderr",
     "output_type": "stream",
     "text": [
      "/home/machou/.local/lib/python3.8/site-packages/sklearn/preprocessing/_encoders.py:975: FutureWarning: `sparse` was renamed to `sparse_output` in version 1.2 and will be removed in 1.4. `sparse_output` is ignored unless you leave `sparse` to its default value.\n",
      "  warnings.warn(\n"
     ]
    },
    {
     "name": "stdout",
     "output_type": "stream",
     "text": [
      "Meilleurs hyperparamètres: {'model__colsample_bytree': 0.8, 'model__gamma': 0.1, 'model__learning_rate': 0.1, 'model__max_depth': 9, 'model__n_estimators': 150, 'model__scale_pos_weight': 8, 'model__subsample': 0.8}\n",
      "Meilleur score de coût métier: -23035.6\n",
      "AUC : 0.7490\n",
      "Accuracy : 0.5376\n",
      "F1-Score : 0.2225\n",
      "Seuil optimal pour le score métier : 0.6700\n",
      "Vrais Positifs (TP) : 3384 : Cas où le modèle a correctement prédit la classe positive.\n",
      "Faux Positifs (FP) : 17222 : Cas où le modèle a prédit à tort la classe positive.\n",
      "Faux Négatifs (FN) : 1581 : Cas où le modèle a prédit à tort la classe négative.\n",
      "Vrais Négatifs (TN) : 39316 : Cas où le modèle a correctement prédit la classe négative.\n"
     ]
    }
   ],
   "source": [
    "from sklearn.preprocessing import OneHotEncoder, StandardScaler\n",
    "from sklearn.compose import ColumnTransformer\n",
    "from sklearn.pipeline import Pipeline\n",
    "from sklearn.impute import SimpleImputer\n",
    "from sklearn.model_selection import train_test_split, StratifiedKFold\n",
    "from imblearn.under_sampling import RandomUnderSampler  # Pour l'undersampling\n",
    "from imblearn.pipeline import Pipeline as ImbPipeline\n",
    "import xgboost as xgb\n",
    "from sklearn.metrics import make_scorer, roc_auc_score, confusion_matrix, accuracy_score, f1_score\n",
    "from sklearn.model_selection import GridSearchCV\n",
    "import numpy as np\n",
    "import joblib\n",
    "\n",
    "# Exemple de données (remplacez par vos données)\n",
    "# X_train = train_data.drop(columns=['TARGET'])\n",
    "# y_train = train_data['TARGET']\n",
    "\n",
    "# Vérification des données cibles\n",
    "print(\"Aperçu des données cibles avant transformation :\")\n",
    "print(y_train.head())\n",
    "print(\"Valeurs uniques des cibles :\")\n",
    "print(y_train.unique())\n",
    "\n",
    "\n",
    "\n",
    "# Gestion des classes déséquilibrées avec RandomUnderSampler\n",
    "rus = RandomUnderSampler(sampling_strategy=0.5, random_state=42)  # Undersampling\n",
    "\n",
    "# Initialisation du modèle XGBoost avec pondération des classes\n",
    "model_xgb = xgb.XGBClassifier(random_state=42, scale_pos_weight=10)\n",
    "\n",
    "# Pipeline complet : Prétraitement -> RandomUnderSampler -> Modèle\n",
    "pipeline_xgb_rus = ImbPipeline([\n",
    "    ('preprocessor', preprocessor),\n",
    "    ('rus', rus),  # Application de l'undersampling\n",
    "    ('model', model_xgb)\n",
    "])\n",
    "\n",
    "# Affichage de la taille des données après l'undersampling, avant l'entraînement\n",
    "# Appliquer RandomUnderSampler pour voir les effets sur la taille des données\n",
    "#X_train_resampled, y_train_resampled = rus.fit_resample(X_train, y_train)\n",
    "#print(f\"Taille des données après l'undersampling - X_train : {X_train_resampled.shape}, y_train : {y_train_resampled.shape}\")\n",
    "\n",
    "# Définition de la fonction de coût métier : 10 * FN + FP\n",
    "def cost_function(y_true, y_pred_proba, threshold=0.5):\n",
    "    y_pred_bin = (y_pred_proba >= threshold).astype(int)  # Conversion des probabilités en classes\n",
    "    tn, fp, fn, tp = confusion_matrix(y_true, y_pred_bin).ravel()  # Matrice de confusion\n",
    "    return 10 * fn + fp  # Coût métier\n",
    "\n",
    "# Création d'un scorer basé sur la fonction de coût\n",
    "def custom_cost_score(y_true, y_pred_proba, threshold=0.5):\n",
    "    return -cost_function(y_true, y_pred_proba, threshold)\n",
    "\n",
    "custom_scorer = make_scorer(custom_cost_score, greater_is_better=False)\n",
    "\n",
    "# Grille d'hyperparamètres pour GridSearchCV\n",
    "param_grid = {\n",
    "    'model__n_estimators': [150],\n",
    "    'model__max_depth': [9],\n",
    "    'model__learning_rate': [0.1],\n",
    "    'model__colsample_bytree': [0.8],\n",
    "    'model__gamma': [0.1],\n",
    "    'model__subsample': [0.8],\n",
    "    'model__scale_pos_weight': [8],  \n",
    "}\n",
    "\n",
    "# Recherche d'hyperparamètres avec validation croisée stratifiée\n",
    "grid_search = GridSearchCV(\n",
    "    pipeline_xgb_rus,\n",
    "    param_grid,\n",
    "    cv=StratifiedKFold(n_splits=5),\n",
    "    scoring=custom_scorer,\n",
    "    n_jobs=-1\n",
    ")\n",
    "\n",
    "# Entraînement du modèle\n",
    "grid_search.fit(X_train_final, y_train_final)\n",
    "\n",
    "# Meilleurs hyperparamètres et score associé\n",
    "print(\"Meilleurs hyperparamètres:\", grid_search.best_params_)\n",
    "print(\"Meilleur score de coût métier:\", -grid_search.best_score_)\n",
    "\n",
    "# Prédictions sur les données de test\n",
    "best_model = grid_search.best_estimator_\n",
    "y_pred_proba = best_model.predict_proba(X_test)[:, 1]  # Probabilités pour la classe positive\n",
    "\n",
    "# Évaluation des performances\n",
    "y_pred_bin = (y_pred_proba >= 0.5).astype(int)  # Classes prédictes avec seuil de 0.5\n",
    "auc_score_xgb = roc_auc_score(y_test, y_pred_proba)  # AUC\n",
    "accuracy_xgb = accuracy_score(y_test, y_pred_bin)  # Accuracy\n",
    "f1_xgb = f1_score(y_test, y_pred_bin)  # F1-score\n",
    "\n",
    "# Recherche du seuil optimal pour minimiser le coût métier\n",
    "thresholds = np.arange(0.0, 1.0, 0.01)\n",
    "costs = [cost_function(y_test, y_pred_proba, threshold=t) for t in thresholds]\n",
    "best_threshold = thresholds[np.argmin(costs)]\n",
    "\n",
    "# Affichage des résultats\n",
    "print(f'AUC : {auc_score_xgb:.4f}')\n",
    "print(f'Accuracy : {accuracy_xgb:.4f}')\n",
    "print(f'F1-Score : {f1_xgb:.4f}')\n",
    "print(f'Seuil optimal pour le score métier : {best_threshold:.4f}')\n",
    "\n",
    "# Sauvegarde du meilleur modèle\n",
    "#joblib.dump(best_model, '/path/to/model_xgb_with_random_under_sampler.pkl')\n",
    "\n",
    "# Afficher la matrice de confusion\n",
    "import seaborn as sns\n",
    "import matplotlib.pyplot as plt\n",
    "from sklearn.metrics import confusion_matrix\n",
    "\n",
    "# 1. Calculer les prédictions binaires avec le seuil optimal\n",
    "y_pred_bin = (y_pred_proba >= best_threshold).astype(int)  # Appliquer le seuil optimal\n",
    "\n",
    "# 2. Calculer la matrice de confusion\n",
    "cm = confusion_matrix(y_test, y_pred_bin)\n",
    "\n",
    "# Extraire TP, FP, FN, TN à partir de la matrice de confusion\n",
    "TN, FP, FN, TP = cm.ravel()\n",
    "\n",
    "# 3. Afficher les résultats\n",
    "print(f\"Vrais Positifs (TP) : {TP} : Cas où le modèle a correctement prédit la classe positive.\")\n",
    "print(f\"Faux Positifs (FP) : {FP} : Cas où le modèle a prédit à tort la classe positive.\")\n",
    "print(f\"Faux Négatifs (FN) : {FN} : Cas où le modèle a prédit à tort la classe négative.\")\n",
    "print(f\"Vrais Négatifs (TN) : {TN} : Cas où le modèle a correctement prédit la classe négative.\")\n"
   ]
  },
  {
   "cell_type": "markdown",
   "metadata": {},
   "source": [
    "### Model light lgbm with smote and score metier"
   ]
  },
  {
   "cell_type": "code",
   "execution_count": 68,
   "metadata": {},
   "outputs": [
    {
     "name": "stderr",
     "output_type": "stream",
     "text": [
      "`sparse` was renamed to `sparse_output` in version 1.2 and will be removed in 1.4. `sparse_output` is ignored unless you leave `sparse` to its default value.\n"
     ]
    },
    {
     "name": "stdout",
     "output_type": "stream",
     "text": [
      "[LightGBM] [Warning] Unknown parameter: gamma\n",
      "[LightGBM] [Warning] Unknown parameter: gamma\n",
      "[LightGBM] [Info] Number of positive: 72367, number of negative: 180918\n",
      "[LightGBM] [Info] Auto-choosing col-wise multi-threading, the overhead of testing was 0.219367 seconds.\n",
      "You can set `force_col_wise=true` to remove the overhead.\n",
      "[LightGBM] [Info] Total Bins 43450\n",
      "[LightGBM] [Info] Number of data points in the train set: 253285, number of used features: 193\n",
      "[LightGBM] [Info] [binary:BoostFromScore]: pavg=0.285714 -> initscore=-0.916293\n",
      "[LightGBM] [Info] Start training from score -0.916293\n",
      "Meilleurs hyperparamètres: {'model__colsample_bytree': 1.0, 'model__gamma': 0.2, 'model__learning_rate': 0.08, 'model__max_depth': 8, 'model__n_estimators': 150}\n",
      "Meilleur score de coût métier: -20539.6\n",
      "[LightGBM] [Warning] Unknown parameter: gamma\n",
      "[LightGBM] [Warning] Unknown parameter: gamma\n",
      "[LightGBM] [Warning] Unknown parameter: gamma\n",
      "AUC_lgb : 0.7694\n",
      "Accuracy_lgb : 0.7245\n",
      "F1-Score_lgb : 0.2851\n",
      "precision_lgb : 0.1804\n",
      "recall_lgb: 0.6806\n",
      "Seuil optimal pour le score métier : 0.5000\n"
     ]
    },
    {
     "data": {
      "text/plain": [
       "['/home/machou/openclassroom/mlflow_project/models/lgb_model_with_smote_and_score_metier_etape_par_etape.pkl']"
      ]
     },
     "execution_count": 68,
     "metadata": {},
     "output_type": "execute_result"
    }
   ],
   "source": [
    "from sklearn.preprocessing import OneHotEncoder\n",
    "from sklearn.compose import ColumnTransformer\n",
    "from sklearn.pipeline import Pipeline\n",
    "from sklearn.impute import SimpleImputer\n",
    "from sklearn.model_selection import train_test_split, StratifiedKFold\n",
    "from imblearn.over_sampling import SMOTE\n",
    "from sklearn.preprocessing import StandardScaler\n",
    "import lightgbm as lgb  # Importer LightGBM\n",
    "from sklearn.model_selection import GridSearchCV\n",
    "from sklearn.metrics import make_scorer, roc_auc_score, confusion_matrix, accuracy_score\n",
    "import joblib\n",
    "import numpy as np\n",
    "from imblearn.pipeline import Pipeline as ImbPipeline\n",
    "from sklearn.metrics import precision_score, recall_score, roc_auc_score, accuracy_score, f1_score\n",
    "\n",
    "\n",
    "# 3. SMOTE pour équilibrer les classes\n",
    "smote = SMOTE(sampling_strategy=0.4, random_state=42)\n",
    "\n",
    "# 4. Modèle LightGBM\n",
    "model_lgb = lgb.LGBMClassifier(random_state=42, scale_pos_weight=10)\n",
    "\n",
    "# 5. Créer un pipeline avec SMOTE dans un pipeline ImbPipeline\n",
    "pipeline_lgb = ImbPipeline([\n",
    "    ('preprocessor', preprocessor),  # Prétraitement des données\n",
    "    ('smote', smote),  # SMOTE pour suréchantillonner les classes minoritaires\n",
    "    ('model', model_lgb)  # LightGBM\n",
    "])\n",
    "\n",
    "# Fonction de coût métier (10 * FN + FP)\n",
    "def cost_function(y_true, y_pred_proba, threshold=0.5):\n",
    "    # Convertir les probabilités en classes binaires en fonction du seuil\n",
    "    y_pred_bin = (y_pred_proba >= threshold).astype(int)\n",
    "\n",
    "    # Calculer la matrice de confusion\n",
    "    tn, fp, fn, tp = confusion_matrix(y_true, y_pred_bin).ravel()\n",
    "\n",
    "    # Coût métier : 10 * FN + FP\n",
    "    return 10 * fn + fp\n",
    "\n",
    "# Score personnalisé basé sur la fonction de coût métier\n",
    "def custom_cost_score(y_true, y_pred_proba, threshold=0.5):\n",
    "    return -cost_function(y_true, y_pred_proba, threshold)\n",
    "\n",
    "# Créer un scorer pour la fonction de coût métier\n",
    "custom_scorer = make_scorer(custom_cost_score, greater_is_better=False)\n",
    "\n",
    "# Score pour l'AUC (à ajouter pour contrôle)\n",
    "def auc_score(y_true, y_pred_proba):\n",
    "    return roc_auc_score(y_true, y_pred_proba)\n",
    "\n",
    "# Créer un scorer pour l'AUC\n",
    "auc_scorer = make_scorer(auc_score, greater_is_better=True)\n",
    "\n",
    "# Score pour l'accuracy (à ajouter pour contrôle)\n",
    "def accuracy_score_custom(y_true, y_pred):\n",
    "    return accuracy_score(y_true, y_pred)\n",
    "\n",
    "# Créer un scorer pour l'accuracy\n",
    "accuracy_scorer = make_scorer(accuracy_score_custom, greater_is_better=True)\n",
    "\n",
    "# 6. Recherche d'hyperparamètres avec GridSearchCV (optionnel)\n",
    "param_grid = {\n",
    "   'model__n_estimators': [150],\n",
    "    'model__max_depth': [8],\n",
    "    'model__learning_rate': [0.08],\n",
    "    'model__colsample_bytree': [1.0],\n",
    "}\n",
    "\n",
    "grid_search = GridSearchCV(pipeline_lgb, param_grid, cv=StratifiedKFold(n_splits=5), \n",
    "                           scoring=custom_scorer, n_jobs=-1)\n",
    "\n",
    "# Entraîner le modèle avec la recherche des meilleurs hyperparamètres\n",
    "grid_search.fit(X_train_final, y_train_final)\n",
    "\n",
    "# 7. Résultats de la recherche\n",
    "print(\"Meilleurs hyperparamètres:\", grid_search.best_params_)\n",
    "print(\"Meilleur score de coût métier:\", -grid_search.best_score_)\n",
    "\n",
    "# 8. Prédictions et évaluation\n",
    "best_model_lgb = grid_search.best_estimator_\n",
    "\n",
    "# Prédire sur les données de test\n",
    "y_pred_proba = best_model_lgb.predict_proba(X_test)[:, 1]  # Probabilités pour la classe positive\n",
    "\n",
    "from sklearn.metrics import f1_score\n",
    "\n",
    "# Calcul des prédictions sur X_test\n",
    "y_pred_bin = best_model_lgb.predict(X_test)  # Classes prédites pour la précision et le F1-score\n",
    "y_pred_proba = best_model_lgb.predict_proba(X_test)[:, 1]  # Probabilités pour la classe positive\n",
    "\n",
    "# Calcul de l'AUC (Area Under the Curve)\n",
    "auc_score_lgb = roc_auc_score(y_test, y_pred_proba)\n",
    "\n",
    "# Calcul de l'Accuracy\n",
    "accuracy_lgb = accuracy_score(y_test, y_pred_bin)\n",
    "\n",
    "# Calcul du F1-Score\n",
    "f1_lgb = f1_score(y_test, y_pred_bin)\n",
    "\n",
    "\n",
    "precision_lgb = precision_score(y_test, y_pred_bin)  # Précision\n",
    "recall_lgb = recall_score(y_test, y_pred_bin)  # Rappel\n",
    "\n",
    "# Trouver le seuil optimal pour minimiser le coût métier\n",
    "thresholds = np.arange(0.0, 1.05, 0.05)  # Tester des seuils de 0.0 à 1.0 par pas de 0.05\n",
    "costs = [cost_function(y_test, y_pred_proba, threshold=t) for t in thresholds]  # Calculer le coût pour chaque seuil\n",
    "best_threshold = thresholds[np.argmin(costs)]  # Trouver le seuil qui minimise le coût\n",
    "\n",
    "# Affichage des résultats\n",
    "print(f'AUC_lgb : {auc_score_lgb:.4f}')\n",
    "print(f'Accuracy_lgb : {accuracy_lgb:.4f}')\n",
    "print(f'F1-Score_lgb : {f1_lgb:.4f}')\n",
    "print(f'precision_lgb : {precision_lgb:.4f}')\n",
    "print(f'recall_lgb: {recall_lgb:.4f}')\n",
    "print(f'Seuil optimal pour le score métier : {best_threshold:.4f}')\n",
    "\n",
    "# Sauvegarder le modèle final\n",
    "joblib.dump(best_model_lgb, '/home/machou/openclassroom/mlflow_project/models/lgb_model_with_smote_and_score_metier_etape_par_etape.pkl')\n"
   ]
  },
  {
   "cell_type": "code",
   "execution_count": 69,
   "metadata": {},
   "outputs": [
    {
     "name": "stderr",
     "output_type": "stream",
     "text": [
      "2024/11/26 19:19:13 WARNING mlflow.models.model: Model logged without a signature and input example. Please set `input_example` parameter when logging the model to auto infer the model signature.\n",
      "2024/11/26 19:19:13 INFO mlflow.tracking._tracking_service.client: 🏃 View run casual-donkey-680 at: http://localhost:5000/#/experiments/0/runs/a57239bd297e4e37ab79f745b76362d8.\n",
      "2024/11/26 19:19:13 INFO mlflow.tracking._tracking_service.client: 🧪 View experiment at: http://localhost:5000/#/experiments/0.\n"
     ]
    },
    {
     "name": "stdout",
     "output_type": "stream",
     "text": [
      "[LightGBM] [Warning] Unknown parameter: gamma\n",
      "[LightGBM] [Warning] Unknown parameter: gamma\n",
      "[LightGBM] [Info] Number of positive: 57894, number of negative: 144735\n",
      "[LightGBM] [Info] Auto-choosing row-wise multi-threading, the overhead of testing was 0.513449 seconds.\n",
      "You can set `force_row_wise=true` to remove the overhead.\n",
      "And if memory is not enough, you can set `force_col_wise=true`.\n",
      "[LightGBM] [Info] Total Bins 43444\n",
      "[LightGBM] [Info] Number of data points in the train set: 202629, number of used features: 191\n",
      "[LightGBM] [Info] [binary:BoostFromScore]: pavg=0.285714 -> initscore=-0.916291\n",
      "[LightGBM] [Info] Start training from score -0.916291\n",
      "[LightGBM] [Warning] Unknown parameter: gamma\n"
     ]
    },
    {
     "name": "stderr",
     "output_type": "stream",
     "text": [
      "/home/machou/.local/lib/python3.8/site-packages/sklearn/preprocessing/_encoders.py:975: FutureWarning: `sparse` was renamed to `sparse_output` in version 1.2 and will be removed in 1.4. `sparse_output` is ignored unless you leave `sparse` to its default value.\n",
      "  warnings.warn(\n"
     ]
    },
    {
     "name": "stdout",
     "output_type": "stream",
     "text": [
      "[LightGBM] [Warning] Unknown parameter: gamma\n",
      "[LightGBM] [Warning] Unknown parameter: gamma\n",
      "[LightGBM] [Info] Number of positive: 57893, number of negative: 144734\n",
      "[LightGBM] [Info] Auto-choosing row-wise multi-threading, the overhead of testing was 0.427890 seconds.\n",
      "You can set `force_row_wise=true` to remove the overhead.\n",
      "And if memory is not enough, you can set `force_col_wise=true`.\n",
      "[LightGBM] [Info] Total Bins 43374\n",
      "[LightGBM] [Info] Number of data points in the train set: 202627, number of used features: 193\n",
      "[LightGBM] [Info] [binary:BoostFromScore]: pavg=0.285712 -> initscore=-0.916301\n",
      "[LightGBM] [Info] Start training from score -0.916301\n",
      "[LightGBM] [Warning] Unknown parameter: gamma\n"
     ]
    },
    {
     "name": "stderr",
     "output_type": "stream",
     "text": [
      "/home/machou/.local/lib/python3.8/site-packages/sklearn/preprocessing/_encoders.py:975: FutureWarning: `sparse` was renamed to `sparse_output` in version 1.2 and will be removed in 1.4. `sparse_output` is ignored unless you leave `sparse` to its default value.\n",
      "  warnings.warn(\n",
      "/home/machou/.local/lib/python3.8/site-packages/sklearn/preprocessing/_encoders.py:975: FutureWarning: `sparse` was renamed to `sparse_output` in version 1.2 and will be removed in 1.4. `sparse_output` is ignored unless you leave `sparse` to its default value.\n",
      "  warnings.warn(\n"
     ]
    },
    {
     "name": "stdout",
     "output_type": "stream",
     "text": [
      "[LightGBM] [Warning] Unknown parameter: gamma\n",
      "[LightGBM] [Warning] Unknown parameter: gamma\n",
      "[LightGBM] [Info] Number of positive: 57893, number of negative: 144734\n",
      "[LightGBM] [Info] Auto-choosing row-wise multi-threading, the overhead of testing was 0.438394 seconds.\n",
      "You can set `force_row_wise=true` to remove the overhead.\n",
      "And if memory is not enough, you can set `force_col_wise=true`.\n",
      "[LightGBM] [Info] Total Bins 43377\n",
      "[LightGBM] [Info] Number of data points in the train set: 202627, number of used features: 191\n",
      "[LightGBM] [Info] [binary:BoostFromScore]: pavg=0.285712 -> initscore=-0.916301\n",
      "[LightGBM] [Info] Start training from score -0.916301\n",
      "[LightGBM] [Warning] Unknown parameter: gamma\n",
      "[LightGBM] [Warning] Unknown parameter: gamma\n",
      "[LightGBM] [Warning] Unknown parameter: gamma\n",
      "[LightGBM] [Info] Number of positive: 57893, number of negative: 144734\n",
      "[LightGBM] [Info] Auto-choosing col-wise multi-threading, the overhead of testing was 0.624270 seconds.\n",
      "You can set `force_col_wise=true` to remove the overhead.\n",
      "[LightGBM] [Info] Total Bins 43472\n",
      "[LightGBM] [Info] Number of data points in the train set: 202627, number of used features: 192\n",
      "[LightGBM] [Info] [binary:BoostFromScore]: pavg=0.285712 -> initscore=-0.916301\n",
      "[LightGBM] [Info] Start training from score -0.916301\n",
      "[LightGBM] [Warning] Unknown parameter: gamma\n"
     ]
    },
    {
     "name": "stderr",
     "output_type": "stream",
     "text": [
      "/home/machou/.local/lib/python3.8/site-packages/sklearn/preprocessing/_encoders.py:975: FutureWarning: `sparse` was renamed to `sparse_output` in version 1.2 and will be removed in 1.4. `sparse_output` is ignored unless you leave `sparse` to its default value.\n",
      "  warnings.warn(\n"
     ]
    },
    {
     "name": "stdout",
     "output_type": "stream",
     "text": [
      "[LightGBM] [Warning] Unknown parameter: gamma\n",
      "[LightGBM] [Warning] Unknown parameter: gamma\n",
      "[LightGBM] [Info] Number of positive: 57894, number of negative: 144735\n",
      "[LightGBM] [Info] Auto-choosing row-wise multi-threading, the overhead of testing was 0.540036 seconds.\n",
      "You can set `force_row_wise=true` to remove the overhead.\n",
      "And if memory is not enough, you can set `force_col_wise=true`.\n",
      "[LightGBM] [Info] Total Bins 42896\n",
      "[LightGBM] [Info] Number of data points in the train set: 202629, number of used features: 192\n",
      "[LightGBM] [Info] [binary:BoostFromScore]: pavg=0.285714 -> initscore=-0.916291\n",
      "[LightGBM] [Info] Start training from score -0.916291\n",
      "[LightGBM] [Warning] Unknown parameter: gamma\n"
     ]
    },
    {
     "name": "stderr",
     "output_type": "stream",
     "text": [
      "/home/machou/.local/lib/python3.8/site-packages/sklearn/preprocessing/_encoders.py:975: FutureWarning: `sparse` was renamed to `sparse_output` in version 1.2 and will be removed in 1.4. `sparse_output` is ignored unless you leave `sparse` to its default value.\n",
      "  warnings.warn(\n"
     ]
    }
   ],
   "source": [
    "# --- Enregistrement du modèle dans MLflow ---\n",
    "with mlflow.start_run() as run:\n",
    "    # Log des meilleurs hyperparamètres\n",
    "    for param, value in grid_search.best_params_.items():\n",
    "        mlflow.log_param(param, value)\n",
    "\n",
    "    # Log du modèle LightGBM avec SMOTE\n",
    "    mlflow.sklearn.log_model(best_model_lgb, \"lgb_model_with_smote_and_cost\")\n",
    "\n",
    "    # Log des métriques d'évaluation\n",
    "    mlflow.log_metric(\"auc\", auc_score_lgb)\n",
    "    mlflow.log_metric(\"accuracy\", accuracy_lgb)\n",
    "    mlflow.log_metric(\"f1_score\", f1_lgb)\n",
    "    mlflow.log_metric(\"precision\", precision_lgb)\n",
    "    mlflow.log_metric(\"recall\", recall_lgb)\n",
    "    mlflow.log_metric(\"best_threshold\", best_threshold)\n",
    "\n",
    "    # Log du meilleur score de coût métier\n",
    "    mlflow.log_metric(\"best_cost_score\", -grid_search.best_score_)"
   ]
  },
  {
   "cell_type": "code",
   "execution_count": 24,
   "metadata": {},
   "outputs": [
    {
     "name": "stdout",
     "output_type": "stream",
     "text": [
      "Vrais Positifs (TP) : 3379 : Cas où le modèle a correctement prédit la classe positive.\n",
      "Faux Positifs (FP) : 15356 : Cas où le modèle a prédit à tort la classe positive.\n",
      "Faux Négatifs (FN) : 1586 : Cas où le modèle a prédit à tort la classe négative.\n",
      "Vrais Négatifs (TN) : 41182 : Cas où le modèle a correctement prédit la classe négative.\n"
     ]
    },
    {
     "data": {
      "image/png": "[encoded data removed]",
      "text/plain": [
       "<Figure size 576x432 with 2 Axes>"
      ]
     },
     "metadata": {
      "needs_background": "light"
     },
     "output_type": "display_data"
    }
   ],
   "source": [
    "import seaborn as sns\n",
    "import matplotlib.pyplot as plt\n",
    "from sklearn.metrics import confusion_matrix\n",
    "\n",
    "# 1. Calculer les prédictions binaires avec le seuil optimal\n",
    "y_pred_bin = (y_pred_proba >= best_threshold).astype(int)  # Appliquer le seuil optimal\n",
    "\n",
    "# 2. Calculer la matrice de confusion\n",
    "cm = confusion_matrix(y_test, y_pred_bin)\n",
    "\n",
    "# Extraire TP, FP, FN, TN à partir de la matrice de confusion\n",
    "TN, FP, FN, TP = cm.ravel()\n",
    "\n",
    "# 3. Afficher les résultats\n",
    "print(f\"Vrais Positifs (TP) : {TP} : Cas où le modèle a correctement prédit la classe positive.\")\n",
    "print(f\"Faux Positifs (FP) : {FP} : Cas où le modèle a prédit à tort la classe positive.\")\n",
    "print(f\"Faux Négatifs (FN) : {FN} : Cas où le modèle a prédit à tort la classe négative.\")\n",
    "print(f\"Vrais Négatifs (TN) : {TN} : Cas où le modèle a correctement prédit la classe négative.\")\n",
    "\n",
    "# 4. Afficher la matrice de confusion sous forme de heatmap\n",
    "plt.figure(figsize=(8, 6))\n",
    "sns.heatmap(cm, annot=True, fmt='d', cmap='Blues', xticklabels=['Classe 0', 'Classe 1'], yticklabels=['Classe 0', 'Classe 1'])\n",
    "plt.ylabel('Vrai label')\n",
    "plt.xlabel('Prédiction')\n",
    "plt.title('Matrice de confusion')\n",
    "plt.show()\n"
   ]
  },
  {
   "cell_type": "code",
   "execution_count": 113,
   "metadata": {},
   "outputs": [
    {
     "data": {
      "image/png": "[encoded data removed]",
      "text/plain": [
       "<Figure size 720x432 with 1 Axes>"
      ]
     },
     "metadata": {
      "needs_background": "light"
     },
     "output_type": "display_data"
    }
   ],
   "source": [
    "import matplotlib.pyplot as plt\n",
    "import numpy as np\n",
    "\n",
    "# Données de performance\n",
    "metrics = ['AUC', 'Précision', 'Rappel', 'F1-Score']\n",
    "\n",
    "random_forest_scores = [0.7177, 0.92, 0.00, 0.00]  # Exemple de données pour Random Forest\n",
    "xgboost_score = [0.76, 0.79, 0.54, 0.30]  # Exemple de données pour xgboost\n",
    "lightgbm_scores = [0.7694, 0.1804, 0.6806,  0.2851]  # Exemple de données pourlightgbm\n",
    "\n",
    "# Configuration du graphique\n",
    "x = np.arange(len(metrics))\n",
    "width = 0.2\n",
    "\n",
    "fig, ax = plt.subplots(figsize=(10, 6))\n",
    "\n",
    "# Déplacement des barres sur l'axe des x pour éviter les chevauchements\n",
    "ax.bar(x - width/2, random_forest_scores, width, label='Random Forest', color='green')\n",
    "\n",
    "ax.bar(x + width*1.5, xgboost_score, width, label='xgboost', color='yellow')\n",
    "ax.bar(x + width/2, lightgbm_scores, width, label='lightgbm', color='red')\n",
    "# Labels et légende\n",
    "ax.set_xlabel('Métriques')\n",
    "ax.set_ylabel('Scores')\n",
    "ax.set_title('Comparaison des performances des modèles')\n",
    "ax.set_xticks(x)\n",
    "ax.set_xticklabels(metrics)\n",
    "ax.legend()\n",
    "\n",
    "# Afficher le graphique\n",
    "plt.tight_layout()\n",
    "plt.show()\n"
   ]
  },
  {
   "cell_type": "code",
   "execution_count": 39,
   "metadata": {},
   "outputs": [
    {
     "name": "stderr",
     "output_type": "stream",
     "text": [
      "IProgress not found. Please update jupyter and ipywidgets. See https://ipywidgets.readthedocs.io/en/stable/user_install.html\n",
      "/home/machou/.local/lib/python3.8/site-packages/sklearn/preprocessing/_encoders.py:975: FutureWarning: `sparse` was renamed to `sparse_output` in version 1.2 and will be removed in 1.4. `sparse_output` is ignored unless you leave `sparse` to its default value.\n",
      "  warnings.warn(\n"
     ]
    },
    {
     "name": "stdout",
     "output_type": "stream",
     "text": [
      "[CV] END model__colsample_bytree=1.0, model__gamma=0.2, model__learning_rate=0.04, model__max_depth=9, model__n_estimators=220, model__scale_pos_weight=9, model__subsample=0.8; total time= 2.0min\n",
      "[CV] END model__colsample_bytree=1.0, model__gamma=0.2, model__learning_rate=0.04, model__max_depth=9, model__n_estimators=220, model__scale_pos_weight=9, model__subsample=0.8; total time= 2.1min\n"
     ]
    },
    {
     "name": "stderr",
     "output_type": "stream",
     "text": [
      "/home/machou/.local/lib/python3.8/site-packages/sklearn/preprocessing/_encoders.py:975: FutureWarning: `sparse` was renamed to `sparse_output` in version 1.2 and will be removed in 1.4. `sparse_output` is ignored unless you leave `sparse` to its default value.\n",
      "  warnings.warn(\n"
     ]
    },
    {
     "name": "stdout",
     "output_type": "stream",
     "text": [
      "[CV] END model__colsample_bytree=1.0, model__gamma=0.2, model__learning_rate=0.04, model__max_depth=9, model__n_estimators=220, model__scale_pos_weight=9, model__subsample=0.8; total time= 2.1min\n"
     ]
    },
    {
     "name": "stderr",
     "output_type": "stream",
     "text": [
      "/home/machou/.local/lib/python3.8/site-packages/sklearn/preprocessing/_encoders.py:975: FutureWarning: `sparse` was renamed to `sparse_output` in version 1.2 and will be removed in 1.4. `sparse_output` is ignored unless you leave `sparse` to its default value.\n",
      "  warnings.warn(\n"
     ]
    },
    {
     "name": "stdout",
     "output_type": "stream",
     "text": [
      "[CV] END model__colsample_bytree=1.0, model__gamma=0.2, model__learning_rate=0.04, model__max_depth=9, model__n_estimators=220, model__scale_pos_weight=9, model__subsample=0.8; total time= 2.5min\n"
     ]
    },
    {
     "name": "stderr",
     "output_type": "stream",
     "text": [
      "/home/machou/.local/lib/python3.8/site-packages/sklearn/preprocessing/_encoders.py:975: FutureWarning: `sparse` was renamed to `sparse_output` in version 1.2 and will be removed in 1.4. `sparse_output` is ignored unless you leave `sparse` to its default value.\n",
      "  warnings.warn(\n"
     ]
    },
    {
     "name": "stdout",
     "output_type": "stream",
     "text": [
      "[CV] END model__colsample_bytree=1.0, model__gamma=0.2, model__learning_rate=0.04, model__max_depth=9, model__n_estimators=220, model__scale_pos_weight=9, model__subsample=0.8; total time= 2.5min\n"
     ]
    },
    {
     "name": "stderr",
     "output_type": "stream",
     "text": [
      "/home/machou/.local/lib/python3.8/site-packages/sklearn/preprocessing/_encoders.py:975: FutureWarning: `sparse` was renamed to `sparse_output` in version 1.2 and will be removed in 1.4. `sparse_output` is ignored unless you leave `sparse` to its default value.\n",
      "  warnings.warn(\n"
     ]
    },
    {
     "data": {
      "image/png": "[encoded data removed]",
      "text/plain": [
       "<Figure size 576x684 with 1 Axes>"
      ]
     },
     "metadata": {
      "needs_background": "light"
     },
     "output_type": "display_data"
    }
   ],
   "source": [
    "import shap\n",
    "import joblib\n",
    "import numpy as np\n",
    "import pandas as pd\n",
    "import matplotlib.pyplot as plt\n",
    "\n",
    "# Charger le modèle XGBoost\n",
    "model = joblib.load('/home/machou/openclassroom/mlflow_project/models/xgb_model_with_smote_and_score_metier_etape_par_etape.pkl')\n",
    "\n",
    "# Appliquer d'abord le préprocesseur pour transformer les données de test\n",
    "X_test_transformed = model.named_steps['preprocessor'].transform(X_test)\n",
    "\n",
    "# Récupérer les noms de caractéristiques après transformation\n",
    "# Accéder aux transformateurs dans le ColumnTransformer\n",
    "column_transformer = model.named_steps['preprocessor']\n",
    "\n",
    "# 1. Identifier l'étape OneHotEncoder dans le ColumnTransformer (index 1, première transformation catégorielle)\n",
    "onehot_transformer = column_transformer.transformers_[1][1]  # 'transformers_' est une liste avec les transformations\n",
    "\n",
    "# 2. Extraire les noms des colonnes après OneHotEncoder\n",
    "onehot_columns = onehot_transformer.get_feature_names_out(input_features=column_transformer.transformers_[1][2])\n",
    "\n",
    "# 3. Extraire les noms des colonnes numériques\n",
    "numerical_columns = column_transformer.transformers_[0][2]  # Colonnes numériques d'origine\n",
    "\n",
    "# 4. Combiner les colonnes numériques et OneHot pour obtenir tous les noms des caractéristiques\n",
    "all_feature_names = np.concatenate([numerical_columns, onehot_columns])\n",
    "\n",
    "# Créer un explainer SHAP en fonction du modèle XGBoost\n",
    "explainer = shap.TreeExplainer(model.named_steps['model'])  # Remplacer 'model' par le nom exact du modèle dans votre pipeline\n",
    "\n",
    "# Calcul des valeurs SHAP pour X_test\n",
    "shap_values = explainer.shap_values(X_test_transformed)\n",
    "\n",
    "# Visualisation des résultats sous forme de bar plot\n",
    "shap.summary_plot(shap_values, X_test_transformed, feature_names=all_feature_names, plot_type=\"bar\")\n",
    "\n",
    "# Sauvegarder le graphique si nécessaire :\n",
    "# plt.savefig('shap_feature_importance_bar_plot.png')\n"
   ]
  },
  {
   "cell_type": "code",
   "execution_count": 40,
   "metadata": {},
   "outputs": [
    {
     "data": {
      "image/png": "[encoded data removed]",
      "text/plain": [
       "<Figure size 576x684 with 2 Axes>"
      ]
     },
     "metadata": {
      "needs_background": "light"
     },
     "output_type": "display_data"
    }
   ],
   "source": [
    "import shap\n",
    "import joblib\n",
    "import numpy as np\n",
    "import pandas as pd\n",
    "import matplotlib.pyplot as plt\n",
    "\n",
    "# Charger le modèle XGBoost\n",
    "model = joblib.load('/home/machou/openclassroom/mlflow_project/models/xgb_model_with_smote_and_score_metier_etape_par_etape.pkl')\n",
    "\n",
    "# Appliquer d'abord le préprocesseur pour transformer les données de test\n",
    "X_test_transformed = model.named_steps['preprocessor'].transform(X_test)\n",
    "\n",
    "# Récupérer les noms de caractéristiques après transformation\n",
    "# Accéder aux transformateurs dans le ColumnTransformer\n",
    "column_transformer = model.named_steps['preprocessor']\n",
    "\n",
    "# 1. Identifier l'étape OneHotEncoder dans le ColumnTransformer (index 1, première transformation catégorielle)\n",
    "onehot_transformer = column_transformer.transformers_[1][1]  # 'transformers_' est une liste avec les transformations\n",
    "\n",
    "# 2. Extraire les noms des colonnes après OneHotEncoder\n",
    "onehot_columns = onehot_transformer.get_feature_names_out(input_features=column_transformer.transformers_[1][2])\n",
    "\n",
    "# 3. Extraire les noms des colonnes numériques\n",
    "numerical_columns = column_transformer.transformers_[0][2]  # Colonnes numériques d'origine\n",
    "\n",
    "# 4. Combiner les colonnes numériques et OneHot pour obtenir tous les noms des caractéristiques\n",
    "all_feature_names = np.concatenate([numerical_columns, onehot_columns])\n",
    "\n",
    "# Créer un explainer SHAP en fonction du modèle XGBoost\n",
    "explainer = shap.TreeExplainer(model.named_steps['model'])  # Remplacer 'model' par le nom exact du modèle dans votre pipeline\n",
    "\n",
    "# Calcul des valeurs SHAP pour X_test\n",
    "shap_values = explainer.shap_values(X_test_transformed)\n",
    "\n",
    "# Visualisation des résultats sous forme de summary plot\n",
    "shap.summary_plot(shap_values, X_test_transformed, feature_names=all_feature_names)\n",
    "\n",
    "# Sauvegarder le graphique si nécessaire :\n",
    "# plt.savefig('shap_feature_importance_summary_plot.png')\n"
   ]
  },
  {
   "cell_type": "code",
   "execution_count": null,
   "metadata": {},
   "outputs": [],
   "source": [
    "### importante feature"
   ]
  },
  {
   "cell_type": "code",
   "execution_count": 42,
   "metadata": {},
   "outputs": [
    {
     "name": "stdout",
     "output_type": "stream",
     "text": [
      "                                               Feature  Importance\n",
      "29                                        EXT_SOURCE_2    0.354728\n",
      "30                                        EXT_SOURCE_3    0.344631\n",
      "139                     low_cardinality__CODE_GENDER_M    0.267618\n",
      "108                     BUREAU_AMT_CREDIT_SUM_DEBT_SUM    0.140703\n",
      "164  low_cardinality__NAME_EDUCATION_TYPE_Secondary...    0.138415\n",
      "141                    low_cardinality__FLAG_OWN_CAR_N    0.130409\n",
      "159          low_cardinality__NAME_INCOME_TYPE_Working    0.122481\n",
      "28                                        EXT_SOURCE_1    0.114252\n",
      "125                           INSTALLMENTS_AMT_PAYMENT    0.109518\n",
      "166        low_cardinality__NAME_FAMILY_STATUS_Married    0.106875\n"
     ]
    },
    {
     "ename": "NameError",
     "evalue": "name 'importance_df' is not defined",
     "output_type": "error",
     "traceback": [
      "\u001b[0;31m---------------------------------------------------------------------------\u001b[0m",
      "\u001b[0;31mNameError\u001b[0m                                 Traceback (most recent call last)",
      "Input \u001b[0;32mIn [42]\u001b[0m, in \u001b[0;36m<cell line: 55>\u001b[0;34m()\u001b[0m\n\u001b[1;32m     51\u001b[0m \u001b[38;5;28mprint\u001b[39m(feature_importance_df\u001b[38;5;241m.\u001b[39mhead(\u001b[38;5;241m10\u001b[39m))\n\u001b[1;32m     54\u001b[0m \u001b[38;5;66;03m# Enregistrer dans un fichier CSV\u001b[39;00m\n\u001b[0;32m---> 55\u001b[0m \u001b[43mimportance_df\u001b[49m\u001b[38;5;241m.\u001b[39mto_csv(\u001b[38;5;124m'\u001b[39m\u001b[38;5;124m/home/machou/openclassroom/mlflow_project/projet/api/data/feature_importance_shap.csv\u001b[39m\u001b[38;5;124m'\u001b[39m, index\u001b[38;5;241m=\u001b[39m\u001b[38;5;28;01mFalse\u001b[39;00m)\n",
      "\u001b[0;31mNameError\u001b[0m: name 'importance_df' is not defined"
     ]
    }
   ],
   "source": [
    "import shap\n",
    "import joblib\n",
    "import numpy as np\n",
    "import pandas as pd\n",
    "import matplotlib.pyplot as plt\n",
    "\n",
    "# Charger le modèle XGBoost\n",
    "model = joblib.load('/home/machou/openclassroom/mlflow_project/models/xgb_model_with_smote_and_score_metier_etape_par_etape.pkl')\n",
    "\n",
    "# Appliquer d'abord le préprocesseur pour transformer les données de test\n",
    "X_test_transformed = model.named_steps['preprocessor'].transform(X_test)\n",
    "\n",
    "# Récupérer les noms de caractéristiques après transformation\n",
    "# Accéder aux transformateurs dans le ColumnTransformer\n",
    "column_transformer = model.named_steps['preprocessor']\n",
    "\n",
    "# Identifier l'étape OneHotEncoder dans le ColumnTransformer (index 1)\n",
    "onehot_transformer = column_transformer.transformers_[1][1]  # 'transformers_' est une liste avec les transformations\n",
    "\n",
    "# Extraire les noms des colonnes après OneHotEncoder\n",
    "onehot_columns = onehot_transformer.get_feature_names_out(input_features=column_transformer.transformers_[1][2])\n",
    "\n",
    "# Extraire les noms des colonnes numériques\n",
    "numerical_columns = column_transformer.transformers_[0][2]  # Colonnes numériques d'origine\n",
    "\n",
    "# Combiner les colonnes numériques et OneHot pour obtenir tous les noms des caractéristiques\n",
    "all_feature_names = np.concatenate([numerical_columns, onehot_columns])\n",
    "\n",
    "# Créer un explainer SHAP en fonction du modèle XGBoost\n",
    "explainer = shap.TreeExplainer(model.named_steps['model'])  # Remplacer 'model' par le nom exact du modèle dans votre pipeline\n",
    "\n",
    "# Calcul des valeurs SHAP pour X_test\n",
    "shap_values = explainer.shap_values(X_test_transformed)\n",
    "\n",
    "# Extraire l'importance des caractéristiques (moyenne des valeurs absolues SHAP sur toutes les observations)\n",
    "shap_importance = np.abs(shap_values).mean(axis=0)\n",
    "\n",
    "# Créer un DataFrame pour lier les importances aux noms des caractéristiques\n",
    "feature_importance_df = pd.DataFrame({\n",
    "    'Feature': all_feature_names,\n",
    "    'Importance': shap_importance\n",
    "})\n",
    "\n",
    "# Trier les caractéristiques par ordre décroissant d'importance\n",
    "feature_importance_df = feature_importance_df.sort_values(by='Importance', ascending=False)\n",
    "\n"
   ]
  },
  {
   "cell_type": "code",
   "execution_count": 44,
   "metadata": {},
   "outputs": [
    {
     "name": "stdout",
     "output_type": "stream",
     "text": [
      "                                               Feature  Importance\n",
      "29                                        EXT_SOURCE_2    0.354728\n",
      "30                                        EXT_SOURCE_3    0.344631\n",
      "139                     low_cardinality__CODE_GENDER_M    0.267618\n",
      "108                     BUREAU_AMT_CREDIT_SUM_DEBT_SUM    0.140703\n",
      "164  low_cardinality__NAME_EDUCATION_TYPE_Secondary...    0.138415\n",
      "141                    low_cardinality__FLAG_OWN_CAR_N    0.130409\n",
      "159          low_cardinality__NAME_INCOME_TYPE_Working    0.122481\n",
      "28                                        EXT_SOURCE_1    0.114252\n",
      "125                           INSTALLMENTS_AMT_PAYMENT    0.109518\n",
      "166        low_cardinality__NAME_FAMILY_STATUS_Married    0.106875\n"
     ]
    }
   ],
   "source": [
    "\n",
    "# Sauvegarder l'importances des caractéristiques dans un fichier CSV\n",
    "feature_importance_df.to_csv('/home/machou/openclassroom/projet/api/data/shap_feature_importance.csv', index=False)\n",
    "\n",
    "# Affichage des 10 caractéristiques les plus importantes\n",
    "print(feature_importance_df.head(10))\n"
   ]
  },
  {
   "cell_type": "code",
   "execution_count": 45,
   "metadata": {},
   "outputs": [],
   "source": [
    "# Sauvegarder l'importances des caractéristiques sous le format .npy\n",
    "np.save('/home/machou/openclassroom/projet/api/data/shap_feature_importance.npy', shap_importance)\n",
    "\n",
    "# Sauvegarder les noms des caractéristiques associées\n",
    "np.save('/home/machou/openclassroom/projet/api/data/shap_feature_names.npy', all_feature_names)\n"
   ]
  },
  {
   "cell_type": "markdown",
   "metadata": {},
   "source": [
    "### courbe ROC "
   ]
  },
  {
   "cell_type": "code",
   "execution_count": 41,
   "metadata": {},
   "outputs": [
    {
     "data": {
      "image/png": "[encoded data removed]",
      "text/plain": [
       "<Figure size 720x576 with 1 Axes>"
      ]
     },
     "metadata": {
      "needs_background": "light"
     },
     "output_type": "display_data"
    },
    {
     "name": "stdout",
     "output_type": "stream",
     "text": [
      "AUC (Area Under the Curve): 0.7625\n"
     ]
    }
   ],
   "source": [
    "import shap\n",
    "import joblib\n",
    "import numpy as np\n",
    "import matplotlib.pyplot as plt\n",
    "from sklearn.metrics import roc_curve, auc\n",
    "\n",
    "# Charger le modèle XGBoost\n",
    "model = joblib.load('/home/machou/openclassroom/mlflow_project/models/xgb_model_with_smote_and_score_metier_etape_par_etape.pkl')\n",
    "\n",
    "# Supposons que vous avez des données d'entrée X_test (transformées si nécessaire)\n",
    "# Appliquez d'abord le préprocesseur pour transformer les données de test\n",
    "X_test_transformed = model.named_steps['preprocessor'].transform(X_test)\n",
    "\n",
    "# Prédictions probabilistes pour X_test\n",
    "y_pred_proba = model.named_steps['model'].predict_proba(X_test_transformed)[:, 1]\n",
    "\n",
    "# Calcul de la courbe ROC\n",
    "fpr, tpr, thresholds = roc_curve(y_test, y_pred_proba)\n",
    "roc_auc = auc(fpr, tpr)\n",
    "\n",
    "# Affichage de la courbe ROC\n",
    "plt.figure(figsize=(10, 8))\n",
    "plt.plot(fpr, tpr, color='darkorange', lw=2, label='Courbe ROC (AUC = {:.2f})'.format(roc_auc))\n",
    "plt.plot([0, 1], [0, 1], color='navy', lw=2, linestyle='--')\n",
    "plt.xlim([0.0, 1.0])\n",
    "plt.ylim([0.0, 1.05])\n",
    "plt.xlabel('Taux de faux positifs (FPR)')\n",
    "plt.ylabel('Taux de vrais positifs (TPR)')\n",
    "plt.title('Courbe ROC')\n",
    "plt.legend(loc='lower right')\n",
    "plt.show()\n",
    "\n",
    "# Affichage de l'AUC\n",
    "print(f\"AUC (Area Under the Curve): {roc_auc:.4f}\")\n"
   ]
  },
  {
   "cell_type": "markdown",
   "metadata": {},
   "source": [
    "Une droite plate indique peu de lien entre le montant du crédit et le défaut."
   ]
  },
  {
   "cell_type": "code",
   "execution_count": null,
   "metadata": {},
   "outputs": [],
   "source": [
    "### enregistrer le model dans mlflow"
   ]
  },
  {
   "cell_type": "code",
   "execution_count": null,
   "metadata": {},
   "outputs": [],
   "source": [
    "\n",
    "# Lancer un run MLflow\n",
    "with mlflow.start_run(run_name=\"XGBoost_with_SMOTE_and_Cost_Score\") as run:\n",
    "    \n",
    "    # Enregistrer les paramètres (hyperparamètres du modèle)\n",
    "    mlflow.log_param(\"n_estimators\", 150)\n",
    "    mlflow.log_param(\"max_depth\", 8)\n",
    "    mlflow.log_param(\"learning_rate\", 0.06)\n",
    "    mlflow.log_param(\"subsample\", 1.0)\n",
    "    mlflow.log_param(\"colsample_bytree\", 1.0)\n",
    "    mlflow.log_param(\"gamma\", 1)\n",
    "    mlflow.log_param(\"min_child_weight\", 5)\n",
    "    mlflow.log_param(\"scale_pos_weight\", 10)\n",
    "    mlflow.log_param(\"reg_alpha\", 0.01)\n",
    "    mlflow.log_param(\"reg_lambda\", 1.0)\n",
    "    \n",
    "    # Enregistrer les métriques\n",
    "    mlflow.log_metric(\"accuracy\", accuracy)\n",
    "    mlflow.log_metric(\"precision\", precision)\n",
    "    mlflow.log_metric(\"recall\", recall)\n",
    "    mlflow.log_metric(\"f1_score\", f1)\n",
    "    mlflow.log_metric(\"auc\", auc_score)\n",
    "    mlflow.log_metric(\"cost_metric\", min_cost)\n",
    "    mlflow.log_metric(\"optimal_threshold\", best_threshold)\n",
    "\n",
    "    # Tracer et enregistrer des graphiques\n",
    "    plt.figure()\n",
    "    RocCurveDisplay.from_predictions(y_test, y_pred_proba_xgb, name=f\"ROC curve (AUC = {auc_score:.2f})\")\n",
    "    plt.savefig(\"roc_curve.png\")\n",
    "    mlflow.log_artifact(\"roc_curve.png\")  # Enregistrer le graphique ROC dans MLflow\n",
    "\n",
    "    # Enregistrer le modèle XGBoost dans MLflow avec signature et exemple d'entrée\n",
    "    mlflow.xgboost.log_model(\n",
    "        best_model.named_steps['model'],  # Enregistrez le modèle (assurez-vous que votre modèle est le bon dans le pipeline)\n",
    "        \"xgboost_model\",\n",
    "        signature=signature,\n",
    "        input_example=input_example\n",
    "    )\n",
    "\n",
    "    # Ajouter une note au run pour documenter le seuil métier\n",
    "    mlflow.set_tag(\"business_optimal_threshold\", f\"{best_threshold:.4f}\")\n",
    "\n",
    "print(\"Modèle et métriques enregistrés dans MLflow avec signature et exemple d'entrée.\")\n",
    "\n"
   ]
  }
 ],
 "metadata": {
  "kernelspec": {
   "display_name": "Python 3 (ipykernel)",
   "language": "python",
   "name": "python3"
  },
  "language_info": {
   "codemirror_mode": {
    "name": "ipython",
    "version": 3
   },
   "file_extension": ".py",
   "mimetype": "text/x-python",
   "name": "python",
   "nbconvert_exporter": "python",
   "pygments_lexer": "ipython3",
   "version": "3.8.10"
  }
 },
 "nbformat": 4,
 "nbformat_minor": 2
}
