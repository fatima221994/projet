{
 "cells": [
  {
   "cell_type": "code",
   "execution_count": 18,
   "id": "911edbba",
   "metadata": {},
   "outputs": [],
   "source": [
    "import pandas as pd\n",
    "import numpy as np\n",
    "from sklearn.preprocessing import StandardScaler, OneHotEncoder\n",
    "from sklearn.impute import SimpleImputer\n",
    "from sklearn.model_selection import train_test_split\n",
    "\n",
    "# Chargement des données\n",
    "application_data = pd.read_csv('/home/machou/openclassroom/mlflow_project/data/application_train.csv')\n",
    "bureau_data = pd.read_csv('/home/machou/openclassroom/mlflow_project/data/bureau.csv')\n"
   ]
  },
  {
   "cell_type": "code",
   "execution_count": null,
   "id": "de757760",
   "metadata": {},
   "outputs": [],
   "source": []
  },
  {
   "cell_type": "code",
   "execution_count": 19,
   "id": "ac3a0b40",
   "metadata": {},
   "outputs": [],
   "source": [
    "bureau_balance_data = pd.read_csv('/home/machou/openclassroom/mlflow_project/data/bureau_balance.csv')\n",
    "pos_cash_balance_data = pd.read_csv('/home/machou/openclassroom/mlflow_project/data/POS_CASH_balance.csv')\n"
   ]
  },
  {
   "cell_type": "code",
   "execution_count": 20,
   "id": "8c0cbbee",
   "metadata": {},
   "outputs": [],
   "source": [
    "credit_card_balance_data = pd.read_csv('/home/machou/openclassroom/mlflow_project/data/credit_card_balance.csv')\n"
   ]
  },
  {
   "cell_type": "code",
   "execution_count": 21,
   "id": "039b7601",
   "metadata": {},
   "outputs": [],
   "source": [
    "previous_application_data = pd.read_csv('/home/machou/openclassroom/mlflow_project/data/previous_application.csv')\n"
   ]
  },
  {
   "cell_type": "code",
   "execution_count": 22,
   "id": "e816908f",
   "metadata": {},
   "outputs": [],
   "source": [
    "installments_payments_data = pd.read_csv('/home/machou/openclassroom/mlflow_project/data/installments_payments.csv')\n"
   ]
  },
  {
   "cell_type": "code",
   "execution_count": 23,
   "id": "98c2df90",
   "metadata": {},
   "outputs": [],
   "source": [
    "application_data.drop_duplicates(inplace=True)\n",
    "bureau_data.drop_duplicates(inplace=True)\n",
    "bureau_balance_data.drop_duplicates(inplace=True)\n",
    "pos_cash_balance_data.drop_duplicates(inplace=True)\n",
    "credit_card_balance_data.drop_duplicates(inplace=True)\n",
    "previous_application_data.drop_duplicates(inplace=True)\n",
    "installments_payments_data.drop_duplicates(inplace=True)\n"
   ]
  },
  {
   "cell_type": "code",
   "execution_count": 16,
   "id": "e440ec7d",
   "metadata": {},
   "outputs": [],
   "source": [
    "import pandas as pd\n",
    "\n",
    "# Fonction pour identifier et encoder les colonnes catégorielles\n",
    "def one_hot_encode(df, drop_first=True):\n",
    "    categorical_cols = df.select_dtypes(include=['object', 'category']).columns\n",
    "    if len(categorical_cols) > 0:\n",
    "        df = pd.get_dummies(df, columns=categorical_cols, drop_first=drop_first)\n",
    "    return df\n",
    "\n",
    "# Nettoyage et encodage de chaque table\n",
    "application_data = one_hot_encode(application_data)\n",
    "bureau_data = one_hot_encode(bureau_data)\n",
    "bureau_balance_data = one_hot_encode(bureau_balance_data)\n",
    "pos_cash_balance_data = one_hot_encode(pos_cash_balance_data)\n",
    "credit_card_balance_data = one_hot_encode(credit_card_balance_data)\n",
    "previous_application_data = one_hot_encode(previous_application_data)\n",
    "installments_payments_data = one_hot_encode(installments_payments_data)\n"
   ]
  },
  {
   "cell_type": "code",
   "execution_count": null,
   "id": "65edf2fb",
   "metadata": {},
   "outputs": [],
   "source": [
    "Étapes pour la fusion avec groupby :\n",
    "\n",
    "    Identifier les clés communes :\n",
    "        Les tables sont regroupées (groupby) en fonction de leur clé commune, comme SK_ID_CURR ou SK_ID_BUREAU.\n",
    "\n",
    "    Appliquer des agrégations :\n",
    "        Résumer les colonnes des tables secondaires avec des métriques comme mean, sum, count, min, et max.\n",
    "\n",
    "    Fusionner les résultats agrégés avec la table principale :\n",
    "        Joindre les tables agrégées à la table principale (application_data) sur les clés communes."
   ]
  },
  {
   "cell_type": "code",
   "execution_count": 24,
   "id": "6a8d914f",
   "metadata": {},
   "outputs": [
    {
     "name": "stdout",
     "output_type": "stream",
     "text": [
      "Final dataset shape: (307511, 144)\n"
     ]
    }
   ],
   "source": [
    "# 1. Agrégation des tables secondaires avec groupby\n",
    "\n",
    "# Bureau Data\n",
    "bureau_agg = bureau_data.groupby('SK_ID_CURR').agg({\n",
    "    'AMT_CREDIT_SUM': ['sum', 'mean', 'max'],\n",
    "    'AMT_CREDIT_SUM_DEBT': ['sum', 'mean', 'max'],\n",
    "    'DAYS_CREDIT': ['mean', 'min']\n",
    "}).reset_index()\n",
    "\n",
    "# Renommer les colonnes pour éviter les doublons\n",
    "bureau_agg.columns = ['SK_ID_CURR'] + [f\"BUREAU_{col[0]}_{col[1].upper()}\" for col in bureau_agg.columns[1:]]\n",
    "\n",
    "# POS Cash Balance\n",
    "pos_cash_agg = pos_cash_balance_data.groupby('SK_ID_CURR').agg({\n",
    "    'SK_DPD': 'sum',\n",
    "    'SK_DPD_DEF': 'sum',\n",
    "    'CNT_INSTALMENT': 'mean',\n",
    "    'CNT_INSTALMENT_FUTURE': 'mean'\n",
    "}).reset_index()\n",
    "\n",
    "pos_cash_agg.columns = ['SK_ID_CURR'] + [f\"POS_{col}\" for col in pos_cash_agg.columns[1:]]\n",
    "\n",
    "# Credit Card Balance\n",
    "credit_card_agg = credit_card_balance_data.groupby('SK_ID_CURR').agg({\n",
    "    'AMT_BALANCE': 'sum',\n",
    "    'AMT_CREDIT_LIMIT_ACTUAL': 'mean',\n",
    "    'AMT_DRAWINGS_ATM_CURRENT': 'sum',\n",
    "    'AMT_PAYMENT_CURRENT': 'sum'\n",
    "}).reset_index()\n",
    "\n",
    "credit_card_agg.columns = ['SK_ID_CURR'] + [f\"CREDIT_CARD_{col}\" for col in credit_card_agg.columns[1:]]\n",
    "\n",
    "# Previous Applications\n",
    "previous_application_agg = previous_application_data.groupby('SK_ID_CURR').agg({\n",
    "    'AMT_APPLICATION': 'sum',\n",
    "    'AMT_CREDIT': 'sum',\n",
    "    'CNT_PAYMENT': 'mean'\n",
    "}).reset_index()\n",
    "\n",
    "previous_application_agg.columns = ['SK_ID_CURR'] + [f\"PREVIOUS_{col}\" for col in previous_application_agg.columns[1:]]\n",
    "\n",
    "# Installments Payments\n",
    "installments_agg = installments_payments_data.groupby('SK_ID_CURR').agg({\n",
    "    'AMT_INSTALMENT': 'sum',\n",
    "    'AMT_PAYMENT': 'sum',\n",
    "    'NUM_INSTALMENT_NUMBER': 'count'\n",
    "}).reset_index()\n",
    "\n",
    "installments_agg.columns = ['SK_ID_CURR'] + [f\"INSTALLMENTS_{col}\" for col in installments_agg.columns[1:]]\n",
    "\n",
    "# 2. Fusionner toutes les tables agrégées avec la table principale\n",
    "data = application_data.copy()\n",
    "\n",
    "# Joindre les tables\n",
    "data = data.merge(bureau_agg, on='SK_ID_CURR', how='left')\n",
    "data = data.merge(pos_cash_agg, on='SK_ID_CURR', how='left')\n",
    "data = data.merge(credit_card_agg, on='SK_ID_CURR', how='left')\n",
    "data = data.merge(previous_application_agg, on='SK_ID_CURR', how='left')\n",
    "data = data.merge(installments_agg, on='SK_ID_CURR', how='left')\n",
    "\n",
    "# 3. Vérifier les dimensions finales\n",
    "print(f\"Final dataset shape: {data.shape}\")\n"
   ]
  },
  {
   "cell_type": "code",
   "execution_count": 25,
   "id": "60c8a4ea",
   "metadata": {},
   "outputs": [
    {
     "name": "stdout",
     "output_type": "stream",
     "text": [
      "   SK_ID_CURR  TARGET NAME_CONTRACT_TYPE CODE_GENDER FLAG_OWN_CAR  \\\n",
      "0      100002       1         Cash loans           M            N   \n",
      "1      100003       0         Cash loans           F            N   \n",
      "2      100004       0    Revolving loans           M            Y   \n",
      "3      100006       0         Cash loans           F            N   \n",
      "4      100007       0         Cash loans           M            N   \n",
      "\n",
      "  FLAG_OWN_REALTY  CNT_CHILDREN  AMT_INCOME_TOTAL  AMT_CREDIT  AMT_ANNUITY  \\\n",
      "0               Y             0          202500.0    406597.5      24700.5   \n",
      "1               N             0          270000.0   1293502.5      35698.5   \n",
      "2               Y             0           67500.0    135000.0       6750.0   \n",
      "3               Y             0          135000.0    312682.5      29686.5   \n",
      "4               Y             0          121500.0    513000.0      21865.5   \n",
      "\n",
      "   ...  CREDIT_CARD_AMT_BALANCE CREDIT_CARD_AMT_CREDIT_LIMIT_ACTUAL  \\\n",
      "0  ...                      NaN                                 NaN   \n",
      "1  ...                      NaN                                 NaN   \n",
      "2  ...                      NaN                                 NaN   \n",
      "3  ...                      0.0                            270000.0   \n",
      "4  ...                      NaN                                 NaN   \n",
      "\n",
      "  CREDIT_CARD_AMT_DRAWINGS_ATM_CURRENT CREDIT_CARD_AMT_PAYMENT_CURRENT  \\\n",
      "0                                  NaN                             NaN   \n",
      "1                                  NaN                             NaN   \n",
      "2                                  NaN                             NaN   \n",
      "3                                  0.0                             0.0   \n",
      "4                                  NaN                             NaN   \n",
      "\n",
      "  PREVIOUS_AMT_APPLICATION PREVIOUS_AMT_CREDIT  PREVIOUS_CNT_PAYMENT  \\\n",
      "0                179055.00            179055.0             24.000000   \n",
      "1               1306309.50           1452573.0             10.000000   \n",
      "2                 24282.00             20106.0              4.000000   \n",
      "3               2449829.34           2625259.5             23.000000   \n",
      "4                903181.50            999832.5             20.666667   \n",
      "\n",
      "   INSTALLMENTS_AMT_INSTALMENT  INSTALLMENTS_AMT_PAYMENT  \\\n",
      "0                   219625.695                219625.695   \n",
      "1                  1618864.650               1618864.650   \n",
      "2                    21288.465                 21288.465   \n",
      "3                  1007153.415               1007153.415   \n",
      "4                   835985.340                806127.975   \n",
      "\n",
      "   INSTALLMENTS_NUM_INSTALMENT_NUMBER  \n",
      "0                                19.0  \n",
      "1                                25.0  \n",
      "2                                 3.0  \n",
      "3                                16.0  \n",
      "4                                66.0  \n",
      "\n",
      "[5 rows x 144 columns]\n"
     ]
    }
   ],
   "source": [
    "print(data.head())"
   ]
  },
  {
   "cell_type": "code",
   "execution_count": 26,
   "id": "60a987e3",
   "metadata": {},
   "outputs": [
    {
     "name": "stdout",
     "output_type": "stream",
     "text": [
      "Dataset saved to /home/machou/openclassroom/mlflow_project/data/data_preprocessed_train.csv\n"
     ]
    }
   ],
   "source": [
    "# 4. Enregistrer le dataset final dans un fichier CSV\n",
    "output_path = \"/home/machou/openclassroom/mlflow_project/data/data_preprocessed_train.csv\"\n",
    "data.to_csv(output_path, index=False)\n",
    "print(f\"Dataset saved to {output_path}\")"
   ]
  }
 ],
 "metadata": {
  "kernelspec": {
   "display_name": "Python 3 (ipykernel)",
   "language": "python",
   "name": "python3"
  },
  "language_info": {
   "codemirror_mode": {
    "name": "ipython",
    "version": 3
   },
   "file_extension": ".py",
   "mimetype": "text/x-python",
   "name": "python",
   "nbconvert_exporter": "python",
   "pygments_lexer": "ipython3",
   "version": "3.8.10"
  }
 },
 "nbformat": 4,
 "nbformat_minor": 5
}
