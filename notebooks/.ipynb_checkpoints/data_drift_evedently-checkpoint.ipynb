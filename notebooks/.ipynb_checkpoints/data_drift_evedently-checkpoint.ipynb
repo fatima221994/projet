{
 "cells": [
  {
   "cell_type": "code",
   "execution_count": 38,
   "id": "2a7151e8",
   "metadata": {},
   "outputs": [
    {
     "name": "stdout",
     "output_type": "stream",
     "text": [
      "0.4.40\n"
     ]
    }
   ],
   "source": [
    "import evidently\n",
    "print(evidently.__version__)\n"
   ]
  },
  {
   "cell_type": "code",
   "execution_count": 1,
   "id": "2d88774b",
   "metadata": {},
   "outputs": [],
   "source": [
    "import pandas as pd\n",
    "import numpy as np\n",
    "\n",
    "from sklearn.datasets import fetch_california_housing\n",
    "\n",
    "from evidently import ColumnMapping\n",
    "\n",
    "from evidently.report import Report\n",
    "from evidently.metrics.base_metric import generate_column_metrics\n",
    "from evidently.metric_preset import DataDriftPreset, TargetDriftPreset\n",
    "from evidently.metrics import *\n",
    "\n",
    "from evidently.test_suite import TestSuite\n",
    "from evidently.tests.base_test import generate_column_tests\n",
    "from evidently.test_preset import DataStabilityTestPreset, NoTargetPerformanceTestPreset\n",
    "from evidently.tests import *"
   ]
  },
  {
   "cell_type": "code",
   "execution_count": 40,
   "id": "e7fa796c",
   "metadata": {},
   "outputs": [],
   "source": [
    "# Charger X_train et X_test depuis des fichiers CSV\n",
    "X_train = pd.read_csv('/home/machou/openclassroom/mlflow_project/data/X_train.csv')\n",
    "X_test = pd.read_csv('/home/machou/openclassroom/mlflow_project/data/X_test.csv')\n",
    "\n",
    "\n",
    "# Données de référence (X_train) et données actuelles (X_test)\n",
    "reference_data = X_train\n",
    "current_data = X_test\n",
    "\n",
    "# Création du rapport de Data Drift\n",
    "data_drift_report = Report(metrics=[\n",
    "    DataDriftPreset()  # Utilisation du preset DataDrift\n",
    "])\n",
    "\n",
    "# Exécution du rapport avec les données de référence et actuelles\n",
    "data_drift_report.run(reference_data=reference_data, current_data=current_data)\n",
    "\n",
    "# Affichage du rapport\n",
    "data_drift_report\n",
    "\n",
    "# Sauvegarde du rapport en HTML\n",
    "data_drift_report.save_html(\"/home/machou/openclassroom/mlflow_project/data/data_drift_report.html\")"
   ]
  }
 ],
 "metadata": {
  "kernelspec": {
   "display_name": "Python 3 (ipykernel)",
   "language": "python",
   "name": "python3"
  },
  "language_info": {
   "codemirror_mode": {
    "name": "ipython",
    "version": 3
   },
   "file_extension": ".py",
   "mimetype": "text/x-python",
   "name": "python",
   "nbconvert_exporter": "python",
   "pygments_lexer": "ipython3",
   "version": "3.8.10"
  }
 },
 "nbformat": 4,
 "nbformat_minor": 5
}
