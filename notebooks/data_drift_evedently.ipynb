{
 "cells": [
  {
   "cell_type": "code",
   "execution_count": 35,
   "id": "b000b677",
   "metadata": {},
   "outputs": [
    {
     "name": "stdout",
     "output_type": "stream",
     "text": [
      "Defaulting to user installation because normal site-packages is not writeable\n",
      "Collecting evidently==0.4.40\n",
      "  Using cached evidently-0.4.40-py3-none-any.whl.metadata (11 kB)\n",
      "Requirement already satisfied: plotly>=5.10.0 in /home/machou/.local/lib/python3.8/site-packages (from evidently==0.4.40) (5.18.0)\n",
      "Requirement already satisfied: statsmodels>=0.12.2 in /home/machou/.local/lib/python3.8/site-packages (from evidently==0.4.40) (0.14.1)\n",
      "Requirement already satisfied: scikit-learn>=1.0.1 in /home/machou/.local/lib/python3.8/site-packages (from evidently==0.4.40) (1.3.2)\n",
      "Requirement already satisfied: pandas>=1.3.5 in /home/machou/.local/lib/python3.8/site-packages (from pandas[parquet]>=1.3.5->evidently==0.4.40) (1.5.3)\n",
      "Requirement already satisfied: numpy<2.1,>=1.22.0 in /home/machou/.local/lib/python3.8/site-packages (from evidently==0.4.40) (1.24.2)\n",
      "Requirement already satisfied: nltk>=3.6.7 in /home/machou/.local/lib/python3.8/site-packages (from evidently==0.4.40) (3.9.1)\n",
      "Requirement already satisfied: scipy>=1.10.0 in /home/machou/.local/lib/python3.8/site-packages (from evidently==0.4.40) (1.10.1)\n",
      "Requirement already satisfied: requests>=2.32.0 in /home/machou/.local/lib/python3.8/site-packages (from evidently==0.4.40) (2.32.3)\n",
      "Requirement already satisfied: PyYAML>=5.4 in /home/machou/.local/lib/python3.8/site-packages (from evidently==0.4.40) (6.0.1)\n",
      "Requirement already satisfied: pydantic>=1.10.13 in /home/machou/.local/lib/python3.8/site-packages (from evidently==0.4.40) (1.10.19)\n",
      "Requirement already satisfied: litestar>=2.8.3 in /home/machou/.local/lib/python3.8/site-packages (from evidently==0.4.40) (2.13.0)\n",
      "Requirement already satisfied: typing-inspect>=0.9.0 in /home/machou/.local/lib/python3.8/site-packages (from evidently==0.4.40) (0.9.0)\n",
      "Requirement already satisfied: uvicorn>=0.22.0 in /home/machou/.local/lib/python3.8/site-packages (from uvicorn[standard]>=0.22.0->evidently==0.4.40) (0.32.0)\n",
      "Requirement already satisfied: watchdog>=3.0.0 in /home/machou/.local/lib/python3.8/site-packages (from evidently==0.4.40) (3.0.0)\n",
      "Requirement already satisfied: typer>=0.3 in /home/machou/.local/lib/python3.8/site-packages (from evidently==0.4.40) (0.13.1)\n",
      "Requirement already satisfied: rich>=13 in /home/machou/.local/lib/python3.8/site-packages (from evidently==0.4.40) (13.3.3)\n",
      "Requirement already satisfied: iterative-telemetry>=0.0.5 in /home/machou/.local/lib/python3.8/site-packages (from evidently==0.4.40) (0.0.9)\n",
      "Requirement already satisfied: dynaconf>=3.2.4 in /home/machou/.local/lib/python3.8/site-packages (from evidently==0.4.40) (3.2.6)\n",
      "Requirement already satisfied: certifi>=2024.7.4 in /home/machou/.local/lib/python3.8/site-packages (from evidently==0.4.40) (2024.8.30)\n",
      "Requirement already satisfied: urllib3>=1.26.19 in /home/machou/.local/lib/python3.8/site-packages (from evidently==0.4.40) (1.26.19)\n",
      "Requirement already satisfied: fsspec>=2024.6.1 in /home/machou/.local/lib/python3.8/site-packages (from evidently==0.4.40) (2024.10.0)\n",
      "Requirement already satisfied: ujson>=5.4.0 in /home/machou/.local/lib/python3.8/site-packages (from evidently==0.4.40) (5.10.0)\n",
      "Requirement already satisfied: deprecation>=2.1.0 in /home/machou/.local/lib/python3.8/site-packages (from evidently==0.4.40) (2.1.0)\n",
      "Requirement already satisfied: uuid6>=2024.7.10 in /home/machou/.local/lib/python3.8/site-packages (from evidently==0.4.40) (2024.7.10)\n",
      "Requirement already satisfied: cryptography>=43.0.1 in /home/machou/.local/lib/python3.8/site-packages (from evidently==0.4.40) (43.0.3)\n",
      "Requirement already satisfied: cffi>=1.12 in /home/machou/.local/lib/python3.8/site-packages (from cryptography>=43.0.1->evidently==0.4.40) (1.15.1)\n",
      "Requirement already satisfied: packaging in /home/machou/.local/lib/python3.8/site-packages (from deprecation>=2.1.0->evidently==0.4.40) (23.0)\n",
      "Requirement already satisfied: appdirs in /usr/lib/python3/dist-packages (from iterative-telemetry>=0.0.5->evidently==0.4.40) (1.4.3)\n",
      "Requirement already satisfied: filelock in /usr/lib/python3/dist-packages (from iterative-telemetry>=0.0.5->evidently==0.4.40) (3.0.12)\n",
      "Requirement already satisfied: distro in /usr/lib/python3/dist-packages (from iterative-telemetry>=0.0.5->evidently==0.4.40) (1.4.0)\n",
      "Requirement already satisfied: anyio>=3 in /home/machou/.local/lib/python3.8/site-packages (from litestar>=2.8.3->evidently==0.4.40) (3.6.2)\n",
      "Requirement already satisfied: click in /home/machou/.local/lib/python3.8/site-packages (from litestar>=2.8.3->evidently==0.4.40) (8.1.3)\n",
      "Requirement already satisfied: exceptiongroup in /home/machou/.local/lib/python3.8/site-packages (from litestar>=2.8.3->evidently==0.4.40) (1.1.0)\n",
      "Requirement already satisfied: httpx>=0.22 in /home/machou/.local/lib/python3.8/site-packages (from litestar>=2.8.3->evidently==0.4.40) (0.23.3)\n",
      "Requirement already satisfied: importlib-metadata in /home/machou/.local/lib/python3.8/site-packages (from litestar>=2.8.3->evidently==0.4.40) (7.0.0)\n",
      "Requirement already satisfied: importlib-resources>=5.12.0 in /home/machou/.local/lib/python3.8/site-packages (from litestar>=2.8.3->evidently==0.4.40) (5.12.0)\n",
      "Requirement already satisfied: litestar-htmx>=0.3.0 in /home/machou/.local/lib/python3.8/site-packages (from litestar>=2.8.3->evidently==0.4.40) (0.3.0)\n",
      "Requirement already satisfied: msgspec>=0.18.2 in /home/machou/.local/lib/python3.8/site-packages (from litestar>=2.8.3->evidently==0.4.40) (0.18.6)\n",
      "Requirement already satisfied: multidict>=6.0.2 in /home/machou/.local/lib/python3.8/site-packages (from litestar>=2.8.3->evidently==0.4.40) (6.0.4)\n",
      "Requirement already satisfied: polyfactory>=2.6.3 in /home/machou/.local/lib/python3.8/site-packages (from litestar>=2.8.3->evidently==0.4.40) (2.18.1)\n",
      "Requirement already satisfied: rich-click in /home/machou/.local/lib/python3.8/site-packages (from litestar>=2.8.3->evidently==0.4.40) (1.8.4)\n",
      "Requirement already satisfied: typing-extensions in /home/machou/.local/lib/python3.8/site-packages (from litestar>=2.8.3->evidently==0.4.40) (4.12.2)\n",
      "Requirement already satisfied: joblib in /home/machou/.local/lib/python3.8/site-packages (from nltk>=3.6.7->evidently==0.4.40) (1.4.2)\n",
      "Requirement already satisfied: regex>=2021.8.3 in /home/machou/.local/lib/python3.8/site-packages (from nltk>=3.6.7->evidently==0.4.40) (2024.11.6)\n",
      "Requirement already satisfied: tqdm in /home/machou/.local/lib/python3.8/site-packages (from nltk>=3.6.7->evidently==0.4.40) (4.67.0)\n",
      "Requirement already satisfied: python-dateutil>=2.8.1 in /home/machou/.local/lib/python3.8/site-packages (from pandas>=1.3.5->pandas[parquet]>=1.3.5->evidently==0.4.40) (2.8.2)\n",
      "Requirement already satisfied: pytz>=2020.1 in /home/machou/.local/lib/python3.8/site-packages (from pandas>=1.3.5->pandas[parquet]>=1.3.5->evidently==0.4.40) (2022.7.1)\n",
      "\u001b[33mWARNING: pandas 1.5.3 does not provide the extra 'parquet'\u001b[0m\u001b[33m\n",
      "\u001b[0mRequirement already satisfied: tenacity>=6.2.0 in /home/machou/.local/lib/python3.8/site-packages (from plotly>=5.10.0->evidently==0.4.40) (8.2.2)\n",
      "Requirement already satisfied: charset-normalizer<4,>=2 in /home/machou/.local/lib/python3.8/site-packages (from requests>=2.32.0->evidently==0.4.40) (2.1.1)\n",
      "Requirement already satisfied: idna<4,>=2.5 in /home/machou/.local/lib/python3.8/site-packages (from requests>=2.32.0->evidently==0.4.40) (3.4)\n",
      "Requirement already satisfied: markdown-it-py<3.0.0,>=2.2.0 in /home/machou/.local/lib/python3.8/site-packages (from rich>=13->evidently==0.4.40) (2.2.0)\n",
      "Requirement already satisfied: pygments<3.0.0,>=2.13.0 in /home/machou/.local/lib/python3.8/site-packages (from rich>=13->evidently==0.4.40) (2.14.0)\n",
      "Requirement already satisfied: threadpoolctl>=2.0.0 in /home/machou/.local/lib/python3.8/site-packages (from scikit-learn>=1.0.1->evidently==0.4.40) (3.5.0)\n",
      "Requirement already satisfied: patsy>=0.5.4 in /home/machou/.local/lib/python3.8/site-packages (from statsmodels>=0.12.2->evidently==0.4.40) (1.0.1)\n",
      "Requirement already satisfied: shellingham>=1.3.0 in /home/machou/.local/lib/python3.8/site-packages (from typer>=0.3->evidently==0.4.40) (1.5.4)\n",
      "Requirement already satisfied: mypy-extensions>=0.3.0 in /home/machou/.local/lib/python3.8/site-packages (from typing-inspect>=0.9.0->evidently==0.4.40) (1.0.0)\n",
      "Requirement already satisfied: h11>=0.8 in /home/machou/.local/lib/python3.8/site-packages (from uvicorn>=0.22.0->uvicorn[standard]>=0.22.0->evidently==0.4.40) (0.14.0)\n",
      "Requirement already satisfied: httptools>=0.5.0 in /home/machou/.local/lib/python3.8/site-packages (from uvicorn[standard]>=0.22.0->evidently==0.4.40) (0.6.4)\n",
      "Requirement already satisfied: python-dotenv>=0.13 in /home/machou/.local/lib/python3.8/site-packages (from uvicorn[standard]>=0.22.0->evidently==0.4.40) (1.0.1)\n",
      "Requirement already satisfied: uvloop!=0.15.0,!=0.15.1,>=0.14.0 in /home/machou/.local/lib/python3.8/site-packages (from uvicorn[standard]>=0.22.0->evidently==0.4.40) (0.21.0)\n",
      "Requirement already satisfied: watchfiles>=0.13 in /home/machou/.local/lib/python3.8/site-packages (from uvicorn[standard]>=0.22.0->evidently==0.4.40) (0.24.0)\n",
      "Requirement already satisfied: websockets>=10.4 in /home/machou/.local/lib/python3.8/site-packages (from uvicorn[standard]>=0.22.0->evidently==0.4.40) (13.1)\n"
     ]
    },
    {
     "name": "stdout",
     "output_type": "stream",
     "text": [
      "Requirement already satisfied: sniffio>=1.1 in /home/machou/.local/lib/python3.8/site-packages (from anyio>=3->litestar>=2.8.3->evidently==0.4.40) (1.3.0)\n",
      "Requirement already satisfied: pycparser in /home/machou/.local/lib/python3.8/site-packages (from cffi>=1.12->cryptography>=43.0.1->evidently==0.4.40) (2.21)\n",
      "Requirement already satisfied: httpcore<0.17.0,>=0.15.0 in /home/machou/.local/lib/python3.8/site-packages (from httpx>=0.22->litestar>=2.8.3->evidently==0.4.40) (0.16.3)\n",
      "Requirement already satisfied: rfc3986<2,>=1.3 in /home/machou/.local/lib/python3.8/site-packages (from rfc3986[idna2008]<2,>=1.3->httpx>=0.22->litestar>=2.8.3->evidently==0.4.40) (1.5.0)\n",
      "Requirement already satisfied: zipp>=3.1.0 in /home/machou/.local/lib/python3.8/site-packages (from importlib-resources>=5.12.0->litestar>=2.8.3->evidently==0.4.40) (3.15.0)\n",
      "Requirement already satisfied: mdurl~=0.1 in /home/machou/.local/lib/python3.8/site-packages (from markdown-it-py<3.0.0,>=2.2.0->rich>=13->evidently==0.4.40) (0.1.2)\n",
      "Requirement already satisfied: faker in /home/machou/.local/lib/python3.8/site-packages (from polyfactory>=2.6.3->litestar>=2.8.3->evidently==0.4.40) (33.0.0)\n",
      "Requirement already satisfied: six>=1.5 in /home/machou/.local/lib/python3.8/site-packages (from python-dateutil>=2.8.1->pandas>=1.3.5->pandas[parquet]>=1.3.5->evidently==0.4.40) (1.16.0)\n",
      "Using cached evidently-0.4.40-py3-none-any.whl (3.5 MB)\n",
      "Installing collected packages: evidently\n",
      "  Attempting uninstall: evidently\n",
      "    Found existing installation: evidently 0.2.8\n",
      "    Uninstalling evidently-0.2.8:\n",
      "      Successfully uninstalled evidently-0.2.8\n",
      "Successfully installed evidently-0.4.40\n"
     ]
    }
   ],
   "source": [
    "!pip install evidently==0.4.40"
   ]
  },
  {
   "cell_type": "code",
   "execution_count": 38,
   "id": "2a7151e8",
   "metadata": {},
   "outputs": [
    {
     "name": "stdout",
     "output_type": "stream",
     "text": [
      "0.4.40\n"
     ]
    }
   ],
   "source": [
    "import evidently\n",
    "print(evidently.__version__)\n"
   ]
  },
  {
   "cell_type": "code",
   "execution_count": 39,
   "id": "2d88774b",
   "metadata": {},
   "outputs": [],
   "source": [
    "import pandas as pd\n",
    "import numpy as np\n",
    "\n",
    "from sklearn.datasets import fetch_california_housing\n",
    "\n",
    "from evidently import ColumnMapping\n",
    "\n",
    "from evidently.report import Report\n",
    "from evidently.metrics.base_metric import generate_column_metrics\n",
    "from evidently.metric_preset import DataDriftPreset, TargetDriftPreset\n",
    "from evidently.metrics import *\n",
    "\n",
    "from evidently.test_suite import TestSuite\n",
    "from evidently.tests.base_test import generate_column_tests\n",
    "from evidently.test_preset import DataStabilityTestPreset, NoTargetPerformanceTestPreset\n",
    "from evidently.tests import *"
   ]
  },
  {
   "cell_type": "code",
   "execution_count": 37,
   "id": "ce83c11d",
   "metadata": {},
   "outputs": [
    {
     "ename": "ImportError",
     "evalue": "cannot import name 'Report' from 'evidently' (/home/machou/.local/lib/python3.8/site-packages/evidently/__init__.py)",
     "output_type": "error",
     "traceback": [
      "\u001b[0;31m---------------------------------------------------------------------------\u001b[0m",
      "\u001b[0;31mImportError\u001b[0m                               Traceback (most recent call last)",
      "Input \u001b[0;32mIn [37]\u001b[0m, in \u001b[0;36m<cell line: 1>\u001b[0;34m()\u001b[0m\n\u001b[0;32m----> 1\u001b[0m \u001b[38;5;28;01mfrom\u001b[39;00m \u001b[38;5;21;01mevidently\u001b[39;00m \u001b[38;5;28;01mimport\u001b[39;00m Report\n\u001b[1;32m      2\u001b[0m \u001b[38;5;28;01mfrom\u001b[39;00m \u001b[38;5;21;01mevidently\u001b[39;00m\u001b[38;5;21;01m.\u001b[39;00m\u001b[38;5;21;01mmetrics\u001b[39;00m \u001b[38;5;28;01mimport\u001b[39;00m DataDriftPreset\n\u001b[1;32m      5\u001b[0m \u001b[38;5;28;01mimport\u001b[39;00m \u001b[38;5;21;01mpandas\u001b[39;00m \u001b[38;5;28;01mas\u001b[39;00m \u001b[38;5;21;01mpd\u001b[39;00m\n",
      "\u001b[0;31mImportError\u001b[0m: cannot import name 'Report' from 'evidently' (/home/machou/.local/lib/python3.8/site-packages/evidently/__init__.py)"
     ]
    }
   ],
   "source": [
    "from evidently import Report\n",
    "from evidently.metrics import DataDriftPreset\n",
    "\n",
    "\n",
    "import pandas as pd\n",
    "\n",
    "\n"
   ]
  },
  {
   "cell_type": "code",
   "execution_count": 40,
   "id": "e7fa796c",
   "metadata": {},
   "outputs": [],
   "source": [
    "# Charger X_train et X_test depuis des fichiers CSV\n",
    "X_train = pd.read_csv('/home/machou/openclassroom/mlflow_project/data/X_train.csv')\n",
    "X_test = pd.read_csv('/home/machou/openclassroom/mlflow_project/data/X_test.csv')\n",
    "\n",
    "\n",
    "# Données de référence (X_train) et données actuelles (X_test)\n",
    "reference_data = X_train\n",
    "current_data = X_test\n",
    "\n",
    "# Création du rapport de Data Drift\n",
    "data_drift_report = Report(metrics=[\n",
    "    DataDriftPreset()  # Utilisation du preset DataDrift\n",
    "])\n",
    "\n",
    "# Exécution du rapport avec les données de référence et actuelles\n",
    "data_drift_report.run(reference_data=reference_data, current_data=current_data)\n",
    "\n",
    "# Affichage du rapport\n",
    "data_drift_report\n",
    "\n",
    "# Sauvegarde du rapport en HTML\n",
    "data_drift_report.save_html(\"/home/machou/openclassroom/mlflow_project/data/data_drift_report.html\")"
   ]
  }
 ],
 "metadata": {
  "kernelspec": {
   "display_name": "Python 3 (ipykernel)",
   "language": "python",
   "name": "python3"
  },
  "language_info": {
   "codemirror_mode": {
    "name": "ipython",
    "version": 3
   },
   "file_extension": ".py",
   "mimetype": "text/x-python",
   "name": "python",
   "nbconvert_exporter": "python",
   "pygments_lexer": "ipython3",
   "version": "3.8.10"
  }
 },
 "nbformat": 4,
 "nbformat_minor": 5
}
